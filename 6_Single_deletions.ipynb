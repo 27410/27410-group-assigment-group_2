{
 "cells": [
  {
   "cell_type": "markdown",
   "metadata": {},
   "source": [
    "### Single deletion "
   ]
  },
  {
   "cell_type": "code",
   "execution_count": 15,
   "metadata": {},
   "outputs": [],
   "source": [
    "import pandas\n",
    "from time import time\n",
    "\n",
    "from cobra.io import read_sbml_model\n",
    "from cobra.flux_analysis import (\n",
    "    single_gene_deletion, single_reaction_deletion, double_gene_deletion,\n",
    "    double_reaction_deletion)"
   ]
  },
  {
   "cell_type": "code",
   "execution_count": 17,
   "metadata": {},
   "outputs": [],
   "source": [
    "# Read model (model of Escherichia coli)\n",
    "model = read_sbml_model('model_atocopherol.xml')"
   ]
  },
  {
   "cell_type": "code",
   "execution_count": 40,
   "metadata": {},
   "outputs": [
    {
     "data": {
      "text/html": [
       "\n",
       "        <table>\n",
       "            <tr>\n",
       "                <td><strong>Gene identifier</strong></td><td>b4025</td>\n",
       "            </tr><tr>\n",
       "                <td><strong>Name</strong></td><td>pgi</td>\n",
       "            </tr><tr>\n",
       "                <td><strong>Memory address</strong></td>\n",
       "                <td>0x202835c3940</td>\n",
       "            </tr><tr>\n",
       "                <td><strong>Functional</strong></td><td>True</td>\n",
       "            </tr><tr>\n",
       "                <td><strong>In 1 reaction(s)</strong></td><td>\n",
       "                    PGI\n",
       "                    </td>\n",
       "            </tr>\n",
       "        </table>"
      ],
      "text/plain": [
       "<Gene b4025 at 0x202835c3940>"
      ]
     },
     "execution_count": 40,
     "metadata": {},
     "output_type": "execute_result"
    }
   ],
   "source": [
    "model.genes.get_by_id('b4025')"
   ]
  },
  {
   "cell_type": "code",
   "execution_count": 42,
   "metadata": {},
   "outputs": [
    {
     "data": {
      "text/html": [
       "\n",
       "        <table>\n",
       "            <tr>\n",
       "                <td><strong>Gene identifier</strong></td><td>b3390</td>\n",
       "            </tr><tr>\n",
       "                <td><strong>Name</strong></td><td>aroK</td>\n",
       "            </tr><tr>\n",
       "                <td><strong>Memory address</strong></td>\n",
       "                <td>0x2028363bb20</td>\n",
       "            </tr><tr>\n",
       "                <td><strong>Functional</strong></td><td>True</td>\n",
       "            </tr><tr>\n",
       "                <td><strong>In 1 reaction(s)</strong></td><td>\n",
       "                    SHKK\n",
       "                    </td>\n",
       "            </tr>\n",
       "        </table>"
      ],
      "text/plain": [
       "<Gene b3390 at 0x2028363bb20>"
      ]
     },
     "execution_count": 42,
     "metadata": {},
     "output_type": "execute_result"
    }
   ],
   "source": [
    "model.genes.get_by_id('b3390')"
   ]
  },
  {
   "cell_type": "code",
   "execution_count": 45,
   "metadata": {},
   "outputs": [
    {
     "data": {
      "text/html": [
       "\n",
       "        <table>\n",
       "            <tr>\n",
       "                <td><strong>Gene identifier</strong></td><td>b2600</td>\n",
       "            </tr><tr>\n",
       "                <td><strong>Name</strong></td><td>tyrA</td>\n",
       "            </tr><tr>\n",
       "                <td><strong>Memory address</strong></td>\n",
       "                <td>0x202835c3700</td>\n",
       "            </tr><tr>\n",
       "                <td><strong>Functional</strong></td><td>True</td>\n",
       "            </tr><tr>\n",
       "                <td><strong>In 2 reaction(s)</strong></td><td>\n",
       "                    CHORM, PPND\n",
       "                    </td>\n",
       "            </tr>\n",
       "        </table>"
      ],
      "text/plain": [
       "<Gene b2600 at 0x202835c3700>"
      ]
     },
     "execution_count": 45,
     "metadata": {},
     "output_type": "execute_result"
    }
   ],
   "source": [
    "model.genes.get_by_id('b2600')"
   ]
  },
  {
   "cell_type": "code",
   "execution_count": 49,
   "metadata": {},
   "outputs": [
    {
     "data": {
      "text/html": [
       "\n",
       "        <table>\n",
       "            <tr>\n",
       "                <td><strong>Gene identifier</strong></td><td>b3708</td>\n",
       "            </tr><tr>\n",
       "                <td><strong>Name</strong></td><td>tnaA</td>\n",
       "            </tr><tr>\n",
       "                <td><strong>Memory address</strong></td>\n",
       "                <td>0x202835c29b0</td>\n",
       "            </tr><tr>\n",
       "                <td><strong>Functional</strong></td><td>True</td>\n",
       "            </tr><tr>\n",
       "                <td><strong>In 3 reaction(s)</strong></td><td>\n",
       "                    CYSDS, SERD_L, TRPAS2\n",
       "                    </td>\n",
       "            </tr>\n",
       "        </table>"
      ],
      "text/plain": [
       "<Gene b3708 at 0x202835c29b0>"
      ]
     },
     "execution_count": 49,
     "metadata": {},
     "output_type": "execute_result"
    }
   ],
   "source": [
    "model.genes.get_by_id('b3708')"
   ]
  },
  {
   "cell_type": "code",
   "execution_count": 51,
   "metadata": {},
   "outputs": [
    {
     "name": "stdout",
     "output_type": "stream",
     "text": [
      "complete model:  <Solution 0.669 at 0x202fef28fd0>\n",
      "single knockout:  <Solution 0.669 at 0x202fef291e0>\n"
     ]
    }
   ],
   "source": [
    "# Set objective and lower biomass bound: \n",
    "model.reactions.BIOMASS_Ec_iML1515_core_75p37M.lower_bound = 0.4\n",
    "model.objective = model.reactions.TOCOPHOM1\n",
    "\n",
    "#  Simulate difference between complete model and single knockout:\n",
    "print('complete model: ', model.optimize())\n",
    "with model:\n",
    "    model.genes.b3708.knock_out()\n",
    "    print('single knockout: ', model.optimize())"
   ]
  },
  {
   "cell_type": "code",
   "execution_count": 35,
   "metadata": {},
   "outputs": [
    {
     "name": "stdout",
     "output_type": "stream",
     "text": [
      "complete model:  <Solution 1.223 at 0x202fef4ddb0>\n",
      "ubiC knocked out:  <Solution 1.223 at 0x202fef4dc30>\n"
     ]
    }
   ],
   "source": [
    "print('complete model: ', model.optimize())\n",
    "with model:\n",
    "    model.genes.b4039.knock_out()\n",
    "    print('ubiC knocked out: ', model.optimize())"
   ]
  },
  {
   "cell_type": "code",
   "execution_count": 8,
   "metadata": {},
   "outputs": [
    {
     "name": "stdout",
     "output_type": "stream",
     "text": [
      "complete model:  <Solution 1.223 at 0x1f1716aa2c0>\n",
      "a-toco flux: 1.2228500311138766\n",
      "ubiC knocked out:  <Solution 1.223 at 0x1f1716abca0>\n"
     ]
    }
   ],
   "source": [
    "with model:\n",
    "    model.objective = model.reactions.TOCOPHOM1\n",
    "    solution = model.optimize()\n",
    "    print('complete model: ', model.optimize())\n",
    "with model:\n",
    "    model.genes.b4039.knock_out()\n",
    "    model.genes.b2265.knock_out()\n",
    "    model.objective = model.reactions.TOCOPHOM1\n",
    "    solution = model.optimize()\n",
    "    print('a-toco flux:', solution.fluxes.TOCOPHOM1)\n",
    "    print('ubiC knocked out: ', model.optimize())"
   ]
  },
  {
   "cell_type": "markdown",
   "metadata": {},
   "source": [
    "## Escher"
   ]
  },
  {
   "cell_type": "code",
   "execution_count": 4,
   "metadata": {},
   "outputs": [],
   "source": [
    "import cobra\n",
    "from cobra.io import read_sbml_model\n",
    "from cobra.io import save_json_model\n",
    "import escher\n",
    "from escher import Builder"
   ]
  },
  {
   "cell_type": "code",
   "execution_count": 5,
   "metadata": {},
   "outputs": [],
   "source": [
    "# Read model (model of Escherichia coli)\n",
    "model = read_sbml_model('model_atocopherol.xml')"
   ]
  },
  {
   "cell_type": "code",
   "execution_count": 6,
   "metadata": {},
   "outputs": [],
   "source": [
    "# generate a json file to load into Escher\n",
    "cobra.io.save_json_model(model, 'E. coli a-TC.json')"
   ]
  },
  {
   "cell_type": "code",
   "execution_count": 12,
   "metadata": {},
   "outputs": [],
   "source": [
    "# init Escher and build\n",
    "\n",
    "builder = Builder(\n",
    "    model_json='E. coli a-TC.json'    \n",
    ")"
   ]
  },
  {
   "cell_type": "code",
   "execution_count": 14,
   "metadata": {},
   "outputs": [
    {
     "data": {
      "application/vnd.jupyter.widget-view+json": {
       "model_id": "8aacc5a682ce4cbc848d424cb84e07f0",
       "version_major": 2,
       "version_minor": 0
      },
      "text/plain": [
       "Builder(allow_building_duplicate_reactions=False, and_method_in_gene_reaction_rule='mean', cofactors=['atp', '…"
      ]
     },
     "metadata": {},
     "output_type": "display_data"
    }
   ],
   "source": [
    "builder"
   ]
  }
 ],
 "metadata": {
  "kernelspec": {
   "display_name": "Python 3.10.8 64-bit (microsoft store)",
   "language": "python",
   "name": "python3"
  },
  "language_info": {
   "codemirror_mode": {
    "name": "ipython",
    "version": 3
   },
   "file_extension": ".py",
   "mimetype": "text/x-python",
   "name": "python",
   "nbconvert_exporter": "python",
   "pygments_lexer": "ipython3",
   "version": "3.10.8"
  },
  "orig_nbformat": 4,
  "vscode": {
   "interpreter": {
    "hash": "32a18c4a36594e040fc79deb1ce8b7dec7ae311bfa1f6cc911c5b8a5e070c96a"
   }
  }
 },
 "nbformat": 4,
 "nbformat_minor": 2
}

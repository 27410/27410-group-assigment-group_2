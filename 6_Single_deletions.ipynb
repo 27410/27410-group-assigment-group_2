{
 "cells": [
  {
   "cell_type": "markdown",
   "metadata": {},
   "source": [
    "### Single deletion strategy"
   ]
  },
  {
   "cell_type": "code",
   "execution_count": 2,
   "metadata": {},
   "outputs": [],
   "source": [
    "import pandas\n",
    "from time import time\n",
    "\n",
    "from cobra.io import read_sbml_model\n",
    "from cobra.flux_analysis import (\n",
    "    single_gene_deletion, single_reaction_deletion, double_gene_deletion,\n",
    "    double_reaction_deletion)"
   ]
  },
  {
   "cell_type": "code",
   "execution_count": 3,
   "metadata": {},
   "outputs": [],
   "source": [
    "# Read model (model of Escherichia coli)\n",
    "model = read_sbml_model('model_atocopherol.xml')"
   ]
  },
  {
   "cell_type": "code",
   "execution_count": 4,
   "metadata": {},
   "outputs": [
    {
     "name": "stdout",
     "output_type": "stream",
     "text": [
      "complete model:  <Solution 0.877 at 0x226b09bf7f0>\n",
      "menF knocked out:  <Solution 0.877 at 0x226fed9c4c0>\n"
     ]
    }
   ],
   "source": [
    "print('complete model: ', model.optimize())\n",
    "with model:\n",
    "    model.genes.b2265.knock_out()\n",
    "    print('menF knocked out: ', model.optimize())"
   ]
  },
  {
   "cell_type": "code",
   "execution_count": 5,
   "metadata": {},
   "outputs": [
    {
     "name": "stdout",
     "output_type": "stream",
     "text": [
      "complete model:  <Solution 0.877 at 0x226fed9ca30>\n",
      "ubiC knocked out:  <Solution 0.877 at 0x226b09bf7c0>\n"
     ]
    }
   ],
   "source": [
    "print('complete model: ', model.optimize())\n",
    "with model:\n",
    "    model.genes.b4039.knock_out()\n",
    "    print('ubiC knocked out: ', model.optimize())"
   ]
  },
  {
   "cell_type": "code",
   "execution_count": 11,
   "metadata": {},
   "outputs": [
    {
     "name": "stdout",
     "output_type": "stream",
     "text": [
      "a-toco flux: 1.22285003111388\n",
      "ubiC knocked out:  <Solution 1.223 at 0x226b34dea10>\n"
     ]
    }
   ],
   "source": [
    "print('complete model: ', model.optimize())\n",
    "with model:\n",
    "    model.genes.b4039.knock_out()\n",
    "    model.objective = model.reactions.TOCOPHOM1\n",
    "    solution = model.optimize()\n",
    "    print('a-toco flux:', solution.fluxes.TOCOPHOM1)\n",
    "    print('ubiC knocked out: ', model.optimize())"
   ]
  },
  {
   "cell_type": "code",
   "execution_count": null,
   "metadata": {},
   "outputs": [],
   "source": [
    "model.optimize "
   ]
  }
 ],
 "metadata": {
  "kernelspec": {
   "display_name": "Python 3.10.8 64-bit (microsoft store)",
   "language": "python",
   "name": "python3"
  },
  "language_info": {
   "codemirror_mode": {
    "name": "ipython",
    "version": 3
   },
   "file_extension": ".py",
   "mimetype": "text/x-python",
   "name": "python",
   "nbconvert_exporter": "python",
   "pygments_lexer": "ipython3",
   "version": "3.10.8"
  },
  "orig_nbformat": 4,
  "vscode": {
   "interpreter": {
    "hash": "32a18c4a36594e040fc79deb1ce8b7dec7ae311bfa1f6cc911c5b8a5e070c96a"
   }
  }
 },
 "nbformat": 4,
 "nbformat_minor": 2
}

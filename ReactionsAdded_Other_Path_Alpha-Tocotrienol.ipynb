{
 "cells": [
  {
   "cell_type": "code",
   "execution_count": 3,
   "id": "039ce3fc-ea3f-4000-9f6c-2fcce5289c94",
   "metadata": {},
   "outputs": [],
   "source": [
    "from cobra.io import read_sbml_model\n",
    "from cobra import Reaction, Metabolite\n",
    "\n",
    "# Read model (model of Escherichia coli)\n",
    "model = read_sbml_model('iML1515.xml.gz')"
   ]
  },
  {
   "cell_type": "code",
   "execution_count": 1,
   "id": "f53a8958-5ea3-4cec-9320-d0eee1352258",
   "metadata": {},
   "outputs": [
    {
     "ename": "NameError",
     "evalue": "name 'model' is not defined",
     "output_type": "error",
     "traceback": [
      "\u001b[0;31m---------------------------------------------------------------------------\u001b[0m",
      "\u001b[0;31mNameError\u001b[0m                                 Traceback (most recent call last)",
      "\u001b[0;32m<ipython-input-1-dff51b1968db>\u001b[0m in \u001b[0;36m<module>\u001b[0;34m\u001b[0m\n\u001b[0;32m----> 1\u001b[0;31m \u001b[0mmodel\u001b[0m\u001b[0;34m.\u001b[0m\u001b[0mmetabolites\u001b[0m\u001b[0;34m.\u001b[0m\u001b[0mget_by_id\u001b[0m\u001b[0;34m(\u001b[0m\u001b[0;34m'34hpp_c'\u001b[0m\u001b[0;34m)\u001b[0m\u001b[0;34m\u001b[0m\u001b[0;34m\u001b[0m\u001b[0m\n\u001b[0m\u001b[1;32m      2\u001b[0m \u001b[0;31m#starting point\u001b[0m\u001b[0;34m\u001b[0m\u001b[0;34m\u001b[0m\u001b[0;34m\u001b[0m\u001b[0m\n\u001b[1;32m      3\u001b[0m \u001b[0;31m#add 5 reactions:\u001b[0m\u001b[0;34m\u001b[0m\u001b[0;34m\u001b[0m\u001b[0;34m\u001b[0m\u001b[0m\n\u001b[1;32m      4\u001b[0m \u001b[0;31m#homogentisate\u001b[0m\u001b[0;34m\u001b[0m\u001b[0;34m\u001b[0m\u001b[0;34m\u001b[0m\u001b[0m\n\u001b[1;32m      5\u001b[0m \u001b[0;31m#6-Geranylgeranyl-2-methylbenzene-1,4-diol\u001b[0m\u001b[0;34m\u001b[0m\u001b[0;34m\u001b[0m\u001b[0;34m\u001b[0m\u001b[0m\n",
      "\u001b[0;31mNameError\u001b[0m: name 'model' is not defined"
     ]
    }
   ],
   "source": [
    "model.metabolites.get_by_id('34hpp_c')\n",
    "#starting point\n",
    "#add 5 reactions: \n",
    "#homogentisate \n",
    "#6-Geranylgeranyl-2-methylbenzene-1,4-diol \n",
    "#6-Geranylgeranyl-2,3-dimethylbenzene-1,4-diol \n",
    "#gamma-Tocotrienol\n",
    "#alpha-Tocotrienol"
   ]
  },
  {
   "cell_type": "code",
   "execution_count": 5,
   "id": "c400792f",
   "metadata": {},
   "outputs": [],
   "source": [
    "# Co-factor production\n",
    "# Reaction CF 1: frdp_c + ipdp_c ⇌ ggdp_c + h_c + ppi_c\n",
    "new_reaction_CF1 = Reaction('GGPS') # Geranylgeranyl diphosphate synthase\n",
    "geranylgeranyldiphosphate = Metabolite(id='ggdp_c', name='Geranylgeranyldiphosphate', compartment='c')\n",
    "new_reaction_CF1.add_metabolites({model.metabolites.frdp_c: -1, # Farnesyl diphosphate\n",
    "                               model.metabolites.ipdp_c: -1, # Isopentenyl diphosphat\n",
    "                               geranylgeranyldiphosphate: 1, # Geranylgeranyl diphosphate\n",
    "                               model.metabolites.ppi_c: 1, # diphosphate\n",
    "                               model.metabolites.h_c: 1, # H+\n",
    "                              })\n",
    "model.add_reactions([new_reaction_CF1])"
   ]
  },
  {
   "cell_type": "code",
   "execution_count": 6,
   "id": "3b869627",
   "metadata": {},
   "outputs": [
    {
     "data": {
      "text/html": [
       "\n",
       "        <table>\n",
       "            <tr>\n",
       "                <td><strong>Metabolite identifier</strong></td><td>ggdp_c</td>\n",
       "            </tr><tr>\n",
       "                <td><strong>Name</strong></td><td>Geranylgeranyldiphosphate</td>\n",
       "            </tr><tr>\n",
       "                <td><strong>Memory address</strong></td>\n",
       "                <td>0x7fe77bef73d0</td>\n",
       "            </tr><tr>\n",
       "                <td><strong>Formula</strong></td><td>None</td>\n",
       "            </tr><tr>\n",
       "                <td><strong>Compartment</strong></td><td>c</td>\n",
       "            </tr><tr>\n",
       "                <td><strong>In 1 reaction(s)</strong></td><td>\n",
       "                    GGPS\n",
       "                    </td>\n",
       "            </tr>\n",
       "        </table>"
      ],
      "text/plain": [
       "<Metabolite ggdp_c at 0x7fe77bef73d0>"
      ]
     },
     "execution_count": 6,
     "metadata": {},
     "output_type": "execute_result"
    }
   ],
   "source": [
    "#model.metabolites.ggdp_c"
   ]
  },
  {
   "cell_type": "code",
   "execution_count": 7,
   "id": "abf17e1f-5314-4336-8cb1-0d94a2ec9f32",
   "metadata": {},
   "outputs": [],
   "source": [
    "# Reaction 1: 3-(4-Hydroxyphenyl)pyruvate + O2 O2 --> CO2 CO2 + Homogentisate\n",
    "new_reaction1 = Reaction('34HPPOR') # 4 Hydroxyphenylpyruvateoxygen oxidoreductase\n",
    "homogentisate = Metabolite(id='hgentis_c', compartment='c')\n",
    "new_reaction1.add_metabolites({model.metabolites.get_by_id('34hpp_c'): -1, # 3-(4-Hydroxyphenyl)pyruvate\n",
    "                               model.metabolites.o2_c: -1, #O2\n",
    "                               homogentisate: 1, # Homogentisate\n",
    "                               model.metabolites.co2_c: 1, # CO2\n",
    "                              })\n",
    "model.add_reactions([new_reaction1])"
   ]
  },
  {
   "cell_type": "code",
   "execution_count": 8,
   "id": "f134e94d-eb6c-4ae6-8945-f3fed923dc89",
   "metadata": {},
   "outputs": [],
   "source": [
    "# Reaction 2: ggdp_c + hgentis_c ⇌ co2_c + ppi_c + 6gg2mb14d_c\n",
    "new_reaction2 = Reaction('GGTF') # Geranylgeranyltransferase\n",
    "geranylgeranylmethylbenzenediol = Metabolite(id='6gg2mb14d_c', name='6-Geranylgeranyl-2-methylbenzene-1,4-diol', compartment='c')\n",
    "new_reaction2.add_metabolites({model.metabolites.hgentis_c: -1, # Homogentisate\n",
    "                               model.metabolites.ggdp_c: -1, # Geranylgeranyl diphosphate\n",
    "                               geranylgeranylmethylbenzenediol: 1, # 6-Geranylgeranyl-2-methylbenzene-1,4-diol\n",
    "                               model.metabolites.ppi_c: 1, # diphosphate\n",
    "                               model.metabolites.co2_c: 1, # CO2\n",
    "                              })\n",
    "model.add_reactions([new_reaction2])"
   ]
  },
  {
   "cell_type": "code",
   "execution_count": 9,
   "id": "e2db3e5b",
   "metadata": {},
   "outputs": [
    {
     "name": "stdout",
     "output_type": "stream",
     "text": [
      "ggdp_c + hgentis_c --> 6gg2mb14d_c + co2_c + ppi_c\n"
     ]
    }
   ],
   "source": [
    "print(new_reaction2.build_reaction_string())"
   ]
  },
  {
   "cell_type": "code",
   "execution_count": 10,
   "id": "b8587ce9-0850-44c6-89f7-5a82f5d65cb1",
   "metadata": {},
   "outputs": [],
   "source": [
    "# Reaction 3: amet_c + 6gg2mb14d_c ⇌ ahcys_c + 6gg23dmb14d_c\n",
    "new_reaction3 = Reaction('GGDMTF') # 6-geranylgeranyl-2-methylbenzene-1,4-diol C3-methyltransferase\n",
    "dimethylbenzene = Metabolite(id='6gg23dmb14d_c', name='6-geranylgeranyl-2-methylbenzene-1,4-diol', compartment='c')\n",
    "new_reaction3.add_metabolites({model.metabolites.get_by_id('6gg2mb14d_c'): -1, # 6-Geranylgeranyl-2-methylbenzene-1,4-diol\n",
    "                               model.metabolites.amet_c: -1, # S-Adenosyl-L-methionine\n",
    "                               dimethylbenzene: 1, # 6-geranylgeranyl-2-methylbenzene-1,4-diol\n",
    "                               model.metabolites.ahcys_c: 1, # S-Adenosyl-L-homocysteine\n",
    "                              })\n",
    "model.add_reactions([new_reaction3])"
   ]
  },
  {
   "cell_type": "code",
   "execution_count": 11,
   "id": "294a2f03",
   "metadata": {},
   "outputs": [
    {
     "name": "stdout",
     "output_type": "stream",
     "text": [
      "6gg2mb14d_c + amet_c --> 6gg23dmb14d_c + ahcys_c\n"
     ]
    }
   ],
   "source": [
    "print(new_reaction3.build_reaction_string())"
   ]
  },
  {
   "cell_type": "code",
   "execution_count": 12,
   "id": "6e4a9b37-4ac4-4ffe-a965-84f7bb267f72",
   "metadata": {},
   "outputs": [],
   "source": [
    "# Reaction 4: 6gg2mb14d_c ⇌ gtocotri_c\n",
    "new_reaction4 = Reaction('TOCOTRI1') # \tGamma-tocotrienol lyase (decyclizing)\n",
    "gammatocotrienol = Metabolite(id='gtocotri_c', compartment='c')\n",
    "new_reaction4.add_metabolites({model.metabolites.get_by_id('6gg2mb14d_c'): -1, # 6-geranylgeranyl-2-methylbenzene-1,4-diol\n",
    "                               gammatocotrienol: 1, # Gamma-Tocotrienol\n",
    "                              })\n",
    "model.add_reactions([new_reaction4])"
   ]
  },
  {
   "cell_type": "code",
   "execution_count": 13,
   "id": "18500020",
   "metadata": {},
   "outputs": [
    {
     "name": "stdout",
     "output_type": "stream",
     "text": [
      "6gg2mb14d_c --> gtocotri_c\n"
     ]
    }
   ],
   "source": [
    "print(new_reaction4.build_reaction_string())"
   ]
  },
  {
   "cell_type": "code",
   "execution_count": 14,
   "id": "87ef358d-7728-4139-bdc9-fc9f8828501f",
   "metadata": {},
   "outputs": [],
   "source": [
    "# Reaction 5: amet_c + gtocotri_c ⇌ ahcys_c  + avite_GG_c\n",
    "new_reaction5 = Reaction('TOCOTRI_GG_1') #  S-adenosyl-L-methionine:gamma-tocotrienol 5-O-methyltransferase\n",
    "alphatocotrienol = Metabolite(id='avite_GG_c', compartment='c')\n",
    "new_reaction5.add_metabolites({model.metabolites.gtocotri_c: -1, # Gamma-Tocotrienol\n",
    "                               model.metabolites.amet_c: -1, # S-Adenosyl-L-methionine\n",
    "                               alphatocotrienol: 1, # Alpha-Tocotrienol\n",
    "                               model.metabolites.ahcys_c: 1, # S-Adenosyl-L-homocysteine\n",
    "                              })\n",
    "model.add_reactions([new_reaction5])"
   ]
  },
  {
   "cell_type": "code",
   "execution_count": 15,
   "id": "cf89ca67",
   "metadata": {},
   "outputs": [
    {
     "name": "stdout",
     "output_type": "stream",
     "text": [
      "amet_c + gtocotri_c --> ahcys_c + avite_GG_c\n"
     ]
    }
   ],
   "source": [
    "print(new_reaction5.build_reaction_string())"
   ]
  },
  {
   "cell_type": "code",
   "execution_count": 16,
   "id": "70622b53-9625-4db3-8f60-9ce1e303cc09",
   "metadata": {},
   "outputs": [],
   "source": [
    "#production of vitamin E (avite_GG_c)\n",
    "model.add_boundary(model.metabolites.avite_GG_c, type='demand')\n",
    "\n",
    "with model:\n",
    "    model.objective = model.reactions.TOCOTRI_GG_1\n",
    "    lets_produce_avite1 = model.optimize().objective_value"
   ]
  },
  {
   "cell_type": "code",
   "execution_count": 17,
   "id": "696efa5c-b80f-4f38-b214-39e871274a5f",
   "metadata": {},
   "outputs": [
    {
     "data": {
      "text/plain": [
       "1.3418368043700932"
      ]
     },
     "execution_count": 17,
     "metadata": {},
     "output_type": "execute_result"
    }
   ],
   "source": [
    "#production rate of vitamin E\n",
    "lets_produce_avite1"
   ]
  },
  {
   "cell_type": "code",
   "execution_count": 18,
   "id": "2e31aa78-9a4d-4424-a12c-b3e7ab59cb98",
   "metadata": {},
   "outputs": [],
   "source": [
    "from cobra.io import write_sbml_model"
   ]
  },
  {
   "cell_type": "code",
   "execution_count": 20,
   "id": "9d646598-c463-4ad8-8b74-277b65ae228e",
   "metadata": {},
   "outputs": [],
   "source": [
    "write_sbml_model(model,\"modelavite.xml\")"
   ]
  },
  {
   "cell_type": "code",
   "execution_count": null,
   "id": "a8a17fdd-7a99-4252-84a8-fc945cfd7c4a",
   "metadata": {},
   "outputs": [],
   "source": []
  }
 ],
 "metadata": {
  "kernelspec": {
   "display_name": "Python 3",
   "language": "python",
   "name": "python3"
  },
  "language_info": {
   "codemirror_mode": {
    "name": "ipython",
    "version": 3
   },
   "file_extension": ".py",
   "mimetype": "text/x-python",
   "name": "python",
   "nbconvert_exporter": "python",
   "pygments_lexer": "ipython3",
   "version": "3.8.8"
  },
  "vscode": {
   "interpreter": {
    "hash": "e13d37cb5df3456db652a9d03de09f44ebafc0d9ef03f1e0c94e19e7ab5d29e2"
   }
  }
 },
 "nbformat": 4,
 "nbformat_minor": 5
}

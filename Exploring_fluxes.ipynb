{
 "cells": [
  {
   "cell_type": "markdown",
   "id": "3b245c2f-65a5-48d5-8bcc-98895f688b5b",
   "metadata": {},
   "source": [
    "## Exploring fluxes"
   ]
  },
  {
   "cell_type": "code",
   "execution_count": 3,
   "id": "24319b51-6054-448c-96dd-f76a86ca174d",
   "metadata": {},
   "outputs": [],
   "source": [
    "import cobra\n",
    "from cobra.io import read_sbml_model\n",
    "from cobra import Reaction, Metabolite"
   ]
  },
  {
   "cell_type": "code",
   "execution_count": 2,
   "id": "19616ffa-c16c-4293-8eaa-48b346b23557",
   "metadata": {},
   "outputs": [],
   "source": [
    "model = read_sbml_model('model_atocopherol.xml')\n",
    "model.objective = model.reactions.DM_avite1_c"
   ]
  },
  {
   "cell_type": "markdown",
   "id": "3b5fecc3-02b4-46ef-97cb-658ce494590b",
   "metadata": {},
   "source": [
    "To get a better understanding of how to improve the production pathway, the associated reactions and fluxes are explored. The metabolite 3-(4-Hydroxyphenyl)pyruvate is the starting point for the heterologous pathway that was added to the model."
   ]
  },
  {
   "cell_type": "code",
   "execution_count": 85,
   "id": "e67c3c4c-a7d1-45d8-bc77-10d4304d041d",
   "metadata": {},
   "outputs": [
    {
     "data": {
      "text/html": [
       "\n",
       "        <table>\n",
       "            <tr>\n",
       "                <td><strong>Metabolite identifier</strong></td><td>34hpp_c</td>\n",
       "            </tr><tr>\n",
       "                <td><strong>Name</strong></td><td>3-(4-Hydroxyphenyl)pyruvate</td>\n",
       "            </tr><tr>\n",
       "                <td><strong>Memory address</strong></td>\n",
       "                <td>0x07ff88828e4f0</td>\n",
       "            </tr><tr>\n",
       "                <td><strong>Formula</strong></td><td>C9H7O4</td>\n",
       "            </tr><tr>\n",
       "                <td><strong>Compartment</strong></td><td>c</td>\n",
       "            </tr><tr>\n",
       "                <td><strong>In 3 reaction(s)</strong></td><td>\n",
       "                    TYRTA, 34HPPOR, PPND</td>\n",
       "            </tr>\n",
       "        </table>"
      ],
      "text/plain": [
       "<Metabolite 34hpp_c at 0x7ff88828e4f0>"
      ]
     },
     "execution_count": 85,
     "metadata": {},
     "output_type": "execute_result"
    }
   ],
   "source": [
    "model.metabolites.get_by_id('34hpp_c')"
   ]
  },
  {
   "cell_type": "markdown",
   "id": "d1287729-a6c1-4d05-95ab-b5ce4742e1fe",
   "metadata": {},
   "source": [
    "3-(4-Hydroxyphenyl)pyruvate is part of three reactions. 34HPPOR is the first reaction of the heterologous pathway that consumes 3-(4-Hydroxyphenyl)pyruvate. Whereas TYRTA and PPND are reactions where 3-(4-Hydroxyphenyl)pyruvate is produced."
   ]
  },
  {
   "cell_type": "code",
   "execution_count": 71,
   "id": "7289e5a4-350b-446c-995c-b85eddf327a4",
   "metadata": {},
   "outputs": [
    {
     "data": {
      "text/html": [
       "\n",
       "        <table>\n",
       "            <tr>\n",
       "                <td><strong>Reaction identifier</strong></td><td>PPND</td>\n",
       "            </tr><tr>\n",
       "                <td><strong>Name</strong></td><td>Prephenate dehydrogenase</td>\n",
       "            </tr><tr>\n",
       "                <td><strong>Memory address</strong></td>\n",
       "                <td>0x07ff889913df0</td>\n",
       "            </tr><tr>\n",
       "                <td><strong>Stoichiometry</strong></td>\n",
       "                <td>\n",
       "                    <p style='text-align:right'>nad_c + pphn_c --> 34hpp_c + co2_c + nadh_c</p>\n",
       "                    <p style='text-align:right'>Nicotinamide adenine dinucleotide + Prephenate --> 3-(4-Hydroxyphenyl)pyruvate + CO2 CO2 + Nicotinamide adenine dinucleotide - reduced</p>\n",
       "                </td>\n",
       "            </tr><tr>\n",
       "                <td><strong>GPR</strong></td><td>b2600</td>\n",
       "            </tr><tr>\n",
       "                <td><strong>Lower bound</strong></td><td>0.0</td>\n",
       "            </tr><tr>\n",
       "                <td><strong>Upper bound</strong></td><td>1000.0</td>\n",
       "            </tr>\n",
       "        </table>\n",
       "        "
      ],
      "text/plain": [
       "<Reaction PPND at 0x7ff889913df0>"
      ]
     },
     "execution_count": 71,
     "metadata": {},
     "output_type": "execute_result"
    }
   ],
   "source": [
    "model.reactions.PPND"
   ]
  },
  {
   "cell_type": "code",
   "execution_count": 86,
   "id": "0731c913-396c-4c3f-bc11-b8b701f52652",
   "metadata": {},
   "outputs": [
    {
     "data": {
      "text/html": [
       "\n",
       "        <table>\n",
       "            <tr>\n",
       "                <td><strong>Reaction identifier</strong></td><td>TYRTA</td>\n",
       "            </tr><tr>\n",
       "                <td><strong>Name</strong></td><td>Tyrosine transaminase</td>\n",
       "            </tr><tr>\n",
       "                <td><strong>Memory address</strong></td>\n",
       "                <td>0x07ff88a2b7880</td>\n",
       "            </tr><tr>\n",
       "                <td><strong>Stoichiometry</strong></td>\n",
       "                <td>\n",
       "                    <p style='text-align:right'>akg_c + tyr__L_c <=> 34hpp_c + glu__L_c</p>\n",
       "                    <p style='text-align:right'>2-Oxoglutarate + L-Tyrosine <=> 3-(4-Hydroxyphenyl)pyruvate + L-Glutamate</p>\n",
       "                </td>\n",
       "            </tr><tr>\n",
       "                <td><strong>GPR</strong></td><td>b4054 or b0928 or b3770</td>\n",
       "            </tr><tr>\n",
       "                <td><strong>Lower bound</strong></td><td>-1000.0</td>\n",
       "            </tr><tr>\n",
       "                <td><strong>Upper bound</strong></td><td>1000.0</td>\n",
       "            </tr>\n",
       "        </table>\n",
       "        "
      ],
      "text/plain": [
       "<Reaction TYRTA at 0x7ff88a2b7880>"
      ]
     },
     "execution_count": 86,
     "metadata": {},
     "output_type": "execute_result"
    }
   ],
   "source": [
    "model.reactions.TYRTA"
   ]
  },
  {
   "cell_type": "markdown",
   "id": "c2ddb8f4-8eb9-4839-a02d-5e21ecfd4180",
   "metadata": {},
   "source": [
    "While exploring the fluxes, the production of biomass is set to half of the optimal production rate as a compromise between cell growth and production of alpha-tocopherol."
   ]
  },
  {
   "cell_type": "code",
   "execution_count": 80,
   "id": "185f6e5d-64d4-463c-b8f1-a3d0162ec643",
   "metadata": {},
   "outputs": [
    {
     "name": "stdout",
     "output_type": "stream",
     "text": [
      "EX_tyr__L_e 0.0\n",
      "PPND 0.6741627607421248\n",
      "TYRTA -0.06077236\n",
      "HGPHT 0.6133904007421248\n",
      "TOCOPHOM1 0.6133904007421248\n",
      "DM_avite1_c 0.6133904007421248\n"
     ]
    }
   ],
   "source": [
    "with model:\n",
    "    model.reactions.BIOMASS_Ec_iML1515_core_75p37M.lower_bound = 0.44\n",
    "    solution = model.optimize()\n",
    "print(\"EX_tyr__L_e\", solution.fluxes.EX_tyr__L_e)\n",
    "print(\"PPND\", solution.fluxes.PPND)\n",
    "print(\"TYRTA\",solution.fluxes.TYRTA)\n",
    "print(\"HGPHT\",solution.fluxes.HGPHT)\n",
    "print(\"TOCOPHOM1\",solution.fluxes.TOCOPHOM1)\n",
    "print(\"DM_avite1_c\",solution.fluxes.DM_avite1_c)"
   ]
  },
  {
   "cell_type": "code",
   "execution_count": 58,
   "id": "b1bf1d9a-2dc4-4df4-b016-545205a9586b",
   "metadata": {},
   "outputs": [
    {
     "name": "stdout",
     "output_type": "stream",
     "text": [
      "EX_tyr__L_e -0.8597443803366394\n",
      "PPND 0.0\n",
      "TYRTA 0.7989720203366394\n",
      "TOCOPHOM1 0.7989720203366394\n",
      "DM_avite1_c 0.7989720203366394\n"
     ]
    }
   ],
   "source": [
    "with model:\n",
    "    model.reactions.BIOMASS_Ec_iML1515_core_75p37M.lower_bound = 0.44\n",
    "    model.reactions.EX_tyr__L_e.lower_bound = -10\n",
    "    solution = model.optimize()\n",
    "print(\"EX_tyr__L_e\", solution.fluxes.EX_tyr__L_e)\n",
    "print(\"PPND\", solution.fluxes.PPND)\n",
    "print(\"TYRTA\",solution.fluxes.TYRTA)\n",
    "print(\"TOCOPHOM1\",solution.fluxes.TOCOPHOM1)\n",
    "print(\"DM_avite1_c\",solution.fluxes.DM_avite1_c)"
   ]
  },
  {
   "cell_type": "markdown",
   "id": "9a23b11b-8ddb-4864-a1d4-25c47d6a432a",
   "metadata": {},
   "source": [
    "It is shown here that in the absence of exogenous tyrosine, 3-(4-Hydroxyphenyl)pyruvate is produced in reaction PPND while reaction TYRTA has a negative flux meaning that a part of the 3-(4-Hydroxyphenyl)pyruvate pool is consumed to produce tyrosine. When tyrosine is supplied in the medium, the reaction PPND does not carry any flux anymore. In this case, 3-(4-Hydroxyphenyl)pyruvate is produced from tyrosine in the reaction TYRTA. For this reason, TYRTA could be a potential target for overexpresssion. To test this, a flux variability analysis is performed which shows the minimal and maximal flux that a reaction can carry."
   ]
  },
  {
   "cell_type": "code",
   "execution_count": 13,
   "id": "1bde40c3-ea5f-4db4-8256-2d0ef148e4c3",
   "metadata": {},
   "outputs": [
    {
     "name": "stdout",
     "output_type": "stream",
     "text": [
      "              minimum   maximum\n",
      "EX_tyr__L_e -1.331703 -0.488684\n",
      "TYRTA        0.427912  0.798973\n",
      "PPND         0.000000  0.291163\n",
      "DM_avite1_c  0.719075  0.798973\n"
     ]
    }
   ],
   "source": [
    "from cobra.flux_analysis import flux_variability_analysis\n",
    "\n",
    "with model:\n",
    "    model.reactions.BIOMASS_Ec_iML1515_core_75p37M.lower_bound = 0.44\n",
    "    model.reactions.EX_tyr__L_e.lower_bound = -10\n",
    "    reactions_OE = [model.reactions.EX_tyr__L_e, model.reactions.TYRTA, model.reactions.PPND, model.reactions.DM_avite1_c]\n",
    "    fva = flux_variability_analysis(model, reaction_list = reactions_OE, fraction_of_optimum=0.9)\n",
    "print(fva)"
   ]
  },
  {
   "cell_type": "markdown",
   "id": "65cbd4be-8c5d-405f-9c9a-50c2d2073982",
   "metadata": {},
   "source": [
    "In an attempt to enforce a higher flux in the reaction TYRTA, the lower bound was raised to 0.8. However, this modification proofed to be infeasible. "
   ]
  },
  {
   "cell_type": "code",
   "execution_count": 88,
   "id": "ae2eb8be-a22b-471b-a1dc-4dc6cd493129",
   "metadata": {},
   "outputs": [
    {
     "ename": "Infeasible",
     "evalue": "There is no optimal solution for the chosen objective! (infeasible).",
     "output_type": "error",
     "traceback": [
      "\u001b[0;31m---------------------------------------------------------------------------\u001b[0m",
      "\u001b[0;31mInfeasible\u001b[0m                                Traceback (most recent call last)",
      "\u001b[0;32m<ipython-input-88-a34f4dd4b15f>\u001b[0m in \u001b[0;36m<module>\u001b[0;34m\u001b[0m\n\u001b[1;32m      4\u001b[0m     \u001b[0mmodel\u001b[0m\u001b[0;34m.\u001b[0m\u001b[0mreactions\u001b[0m\u001b[0;34m.\u001b[0m\u001b[0mTYRTA\u001b[0m\u001b[0;34m.\u001b[0m\u001b[0mlower_bound\u001b[0m \u001b[0;34m=\u001b[0m \u001b[0;36m0.8\u001b[0m\u001b[0;34m\u001b[0m\u001b[0;34m\u001b[0m\u001b[0m\n\u001b[1;32m      5\u001b[0m     \u001b[0mreactions_OE\u001b[0m \u001b[0;34m=\u001b[0m \u001b[0;34m[\u001b[0m\u001b[0mmodel\u001b[0m\u001b[0;34m.\u001b[0m\u001b[0mreactions\u001b[0m\u001b[0;34m.\u001b[0m\u001b[0mEX_tyr__L_e\u001b[0m\u001b[0;34m,\u001b[0m \u001b[0mmodel\u001b[0m\u001b[0;34m.\u001b[0m\u001b[0mreactions\u001b[0m\u001b[0;34m.\u001b[0m\u001b[0mTYRTA\u001b[0m\u001b[0;34m,\u001b[0m \u001b[0mmodel\u001b[0m\u001b[0;34m.\u001b[0m\u001b[0mreactions\u001b[0m\u001b[0;34m.\u001b[0m\u001b[0mPPND\u001b[0m\u001b[0;34m,\u001b[0m \u001b[0mmodel\u001b[0m\u001b[0;34m.\u001b[0m\u001b[0mreactions\u001b[0m\u001b[0;34m.\u001b[0m\u001b[0mDM_avite1_c\u001b[0m\u001b[0;34m]\u001b[0m\u001b[0;34m\u001b[0m\u001b[0;34m\u001b[0m\u001b[0m\n\u001b[0;32m----> 6\u001b[0;31m     \u001b[0mfva\u001b[0m \u001b[0;34m=\u001b[0m \u001b[0mflux_variability_analysis\u001b[0m\u001b[0;34m(\u001b[0m\u001b[0mmodel\u001b[0m\u001b[0;34m,\u001b[0m \u001b[0mreaction_list\u001b[0m \u001b[0;34m=\u001b[0m \u001b[0mreactions_OE\u001b[0m\u001b[0;34m,\u001b[0m \u001b[0mfraction_of_optimum\u001b[0m\u001b[0;34m=\u001b[0m\u001b[0;36m0.9\u001b[0m\u001b[0;34m)\u001b[0m\u001b[0;34m\u001b[0m\u001b[0;34m\u001b[0m\u001b[0m\n\u001b[0m\u001b[1;32m      7\u001b[0m \u001b[0mprint\u001b[0m\u001b[0;34m(\u001b[0m\u001b[0mfva\u001b[0m\u001b[0;34m)\u001b[0m\u001b[0;34m\u001b[0m\u001b[0;34m\u001b[0m\u001b[0m\n",
      "\u001b[0;32m/opt/anaconda3/lib/python3.8/site-packages/cobra/flux_analysis/variability.py\u001b[0m in \u001b[0;36mflux_variability_analysis\u001b[0;34m(model, reaction_list, loopless, fraction_of_optimum, pfba_factor, processes)\u001b[0m\n\u001b[1;32m    186\u001b[0m     \u001b[0;32mwith\u001b[0m \u001b[0mmodel\u001b[0m\u001b[0;34m:\u001b[0m\u001b[0;34m\u001b[0m\u001b[0;34m\u001b[0m\u001b[0m\n\u001b[1;32m    187\u001b[0m         \u001b[0;31m# Safety check before setting up FVA.\u001b[0m\u001b[0;34m\u001b[0m\u001b[0;34m\u001b[0m\u001b[0;34m\u001b[0m\u001b[0m\n\u001b[0;32m--> 188\u001b[0;31m         model.slim_optimize(\n\u001b[0m\u001b[1;32m    189\u001b[0m             \u001b[0merror_value\u001b[0m\u001b[0;34m=\u001b[0m\u001b[0;32mNone\u001b[0m\u001b[0;34m,\u001b[0m\u001b[0;34m\u001b[0m\u001b[0;34m\u001b[0m\u001b[0m\n\u001b[1;32m    190\u001b[0m             \u001b[0mmessage\u001b[0m\u001b[0;34m=\u001b[0m\u001b[0;34m\"There is no optimal solution for the chosen objective!\"\u001b[0m\u001b[0;34m,\u001b[0m\u001b[0;34m\u001b[0m\u001b[0;34m\u001b[0m\u001b[0m\n",
      "\u001b[0;32m/opt/anaconda3/lib/python3.8/site-packages/cobra/core/model.py\u001b[0m in \u001b[0;36mslim_optimize\u001b[0;34m(self, error_value, message)\u001b[0m\n\u001b[1;32m   1065\u001b[0m             \u001b[0;32mreturn\u001b[0m \u001b[0merror_value\u001b[0m\u001b[0;34m\u001b[0m\u001b[0;34m\u001b[0m\u001b[0m\n\u001b[1;32m   1066\u001b[0m         \u001b[0;32melse\u001b[0m\u001b[0;34m:\u001b[0m\u001b[0;34m\u001b[0m\u001b[0;34m\u001b[0m\u001b[0m\n\u001b[0;32m-> 1067\u001b[0;31m             \u001b[0massert_optimal\u001b[0m\u001b[0;34m(\u001b[0m\u001b[0mself\u001b[0m\u001b[0;34m,\u001b[0m \u001b[0mmessage\u001b[0m\u001b[0;34m)\u001b[0m\u001b[0;34m\u001b[0m\u001b[0;34m\u001b[0m\u001b[0m\n\u001b[0m\u001b[1;32m   1068\u001b[0m \u001b[0;34m\u001b[0m\u001b[0m\n\u001b[1;32m   1069\u001b[0m     \u001b[0;32mdef\u001b[0m \u001b[0moptimize\u001b[0m\u001b[0;34m(\u001b[0m\u001b[0mself\u001b[0m\u001b[0;34m,\u001b[0m \u001b[0mobjective_sense\u001b[0m\u001b[0;34m=\u001b[0m\u001b[0;32mNone\u001b[0m\u001b[0;34m,\u001b[0m \u001b[0mraise_error\u001b[0m\u001b[0;34m=\u001b[0m\u001b[0;32mFalse\u001b[0m\u001b[0;34m)\u001b[0m\u001b[0;34m:\u001b[0m\u001b[0;34m\u001b[0m\u001b[0;34m\u001b[0m\u001b[0m\n",
      "\u001b[0;32m/opt/anaconda3/lib/python3.8/site-packages/cobra/util/solver.py\u001b[0m in \u001b[0;36massert_optimal\u001b[0;34m(model, message)\u001b[0m\n\u001b[1;32m    588\u001b[0m     \u001b[0;32mif\u001b[0m \u001b[0mstatus\u001b[0m \u001b[0;34m!=\u001b[0m \u001b[0mOPTIMAL\u001b[0m\u001b[0;34m:\u001b[0m\u001b[0;34m\u001b[0m\u001b[0;34m\u001b[0m\u001b[0m\n\u001b[1;32m    589\u001b[0m         \u001b[0mexception_cls\u001b[0m \u001b[0;34m=\u001b[0m \u001b[0mOPTLANG_TO_EXCEPTIONS_DICT\u001b[0m\u001b[0;34m.\u001b[0m\u001b[0mget\u001b[0m\u001b[0;34m(\u001b[0m\u001b[0mstatus\u001b[0m\u001b[0;34m,\u001b[0m \u001b[0mOptimizationError\u001b[0m\u001b[0;34m)\u001b[0m\u001b[0;34m\u001b[0m\u001b[0;34m\u001b[0m\u001b[0m\n\u001b[0;32m--> 590\u001b[0;31m         \u001b[0;32mraise\u001b[0m \u001b[0mexception_cls\u001b[0m\u001b[0;34m(\u001b[0m\u001b[0;34mf\"{message} ({status}).\"\u001b[0m\u001b[0;34m)\u001b[0m\u001b[0;34m\u001b[0m\u001b[0;34m\u001b[0m\u001b[0m\n\u001b[0m\u001b[1;32m    591\u001b[0m \u001b[0;34m\u001b[0m\u001b[0m\n\u001b[1;32m    592\u001b[0m \u001b[0;34m\u001b[0m\u001b[0m\n",
      "\u001b[0;31mInfeasible\u001b[0m: There is no optimal solution for the chosen objective! (infeasible)."
     ]
    }
   ],
   "source": [
    "with model:\n",
    "    model.reactions.BIOMASS_Ec_iML1515_core_75p37M.lower_bound = 0.44\n",
    "    model.reactions.EX_tyr__L_e.lower_bound = -10\n",
    "    model.reactions.TYRTA.lower_bound = 0.8\n",
    "    reactions_OE = [model.reactions.EX_tyr__L_e, model.reactions.TYRTA, model.reactions.PPND, model.reactions.DM_avite1_c]\n",
    "    fva = flux_variability_analysis(model, reaction_list = reactions_OE, fraction_of_optimum=0.9)\n",
    "print(fva)"
   ]
  },
  {
   "cell_type": "code",
   "execution_count": 89,
   "id": "1d5ccf47-f5e5-4094-99e0-4199ea06bfdc",
   "metadata": {},
   "outputs": [
    {
     "name": "stdout",
     "output_type": "stream",
     "text": [
      "              minimum   maximum\n",
      "EX_tyr__L_e -1.331703 -0.760772\n",
      "TYRTA        0.700000  0.798973\n",
      "PPND         0.000000  0.077662\n",
      "DM_avite1_c  0.719075  0.798973\n"
     ]
    }
   ],
   "source": [
    "with model:\n",
    "    model.reactions.BIOMASS_Ec_iML1515_core_75p37M.lower_bound = 0.44\n",
    "    model.reactions.EX_tyr__L_e.lower_bound = -10\n",
    "    model.reactions.TYRTA.lower_bound = 0.7\n",
    "    reactions_OE = [model.reactions.EX_tyr__L_e, model.reactions.TYRTA, model.reactions.PPND, model.reactions.DM_avite1_c]\n",
    "    fva = flux_variability_analysis(model, reaction_list = reactions_OE, fraction_of_optimum=0.9)\n",
    "print(fva)"
   ]
  },
  {
   "cell_type": "markdown",
   "id": "f5cd65db-cfee-4a62-af81-71d242c0b50c",
   "metadata": {},
   "source": [
    "Changing the lower bound of TYRTA to 0.7 to enforce a higher flux did not change the maximal flux of alpha-tocopherol production. "
   ]
  },
  {
   "cell_type": "markdown",
   "id": "ec3b794b-feca-4ed4-81d3-b0214a29b3c2",
   "metadata": {},
   "source": [
    "### Model summary"
   ]
  },
  {
   "cell_type": "markdown",
   "id": "702ecc59-4c2e-4490-8cc3-e055bd451e95",
   "metadata": {},
   "source": [
    "The summary() function is used to get an overview of the secretion reactions. Pathways that lead to the secretion of a metabolite that is in competition with the production of the desired product are potential targets for a knockout or a downregulation. To the secretion of the wildtype *E. coli* model is compared with the modiefied model containing the pathway of alpha-tocopherol production and the addition of tyrosine to the medium."
   ]
  },
  {
   "cell_type": "markdown",
   "id": "356af06a-7939-4282-a55d-9002fcd459ab",
   "metadata": {},
   "source": [
    "#### Summary of wildtype model"
   ]
  },
  {
   "cell_type": "code",
   "execution_count": 5,
   "id": "b2fbc0bd-97cf-4798-82fa-b21a4c5b3415",
   "metadata": {},
   "outputs": [],
   "source": [
    "model_1 = read_sbml_model('iML1515.xml')"
   ]
  },
  {
   "cell_type": "code",
   "execution_count": 6,
   "id": "cca60493-f0b2-498a-9400-27a0ddb99afa",
   "metadata": {},
   "outputs": [
    {
     "data": {
      "text/html": [
       "<h3>Objective</h3><p>1.0 BIOMASS_Ec_iML1515_core_75p37M = 0.8769972144269709</p><h4>Uptake</h4><table border=\"1\" class=\"dataframe\">\n",
       "  <thead>\n",
       "    <tr style=\"text-align: right;\">\n",
       "      <th>Metabolite</th>\n",
       "      <th>Reaction</th>\n",
       "      <th>Flux</th>\n",
       "      <th>C-Number</th>\n",
       "      <th>C-Flux</th>\n",
       "    </tr>\n",
       "  </thead>\n",
       "  <tbody>\n",
       "    <tr>\n",
       "      <td>ca2_e</td>\n",
       "      <td>EX_ca2_e</td>\n",
       "      <td>0.004565</td>\n",
       "      <td>0</td>\n",
       "      <td>0.00%</td>\n",
       "    </tr>\n",
       "    <tr>\n",
       "      <td>cl_e</td>\n",
       "      <td>EX_cl_e</td>\n",
       "      <td>0.004565</td>\n",
       "      <td>0</td>\n",
       "      <td>0.00%</td>\n",
       "    </tr>\n",
       "    <tr>\n",
       "      <td>cobalt2_e</td>\n",
       "      <td>EX_cobalt2_e</td>\n",
       "      <td>2.192E-05</td>\n",
       "      <td>0</td>\n",
       "      <td>0.00%</td>\n",
       "    </tr>\n",
       "    <tr>\n",
       "      <td>cu2_e</td>\n",
       "      <td>EX_cu2_e</td>\n",
       "      <td>0.0006218</td>\n",
       "      <td>0</td>\n",
       "      <td>0.00%</td>\n",
       "    </tr>\n",
       "    <tr>\n",
       "      <td>fe2_e</td>\n",
       "      <td>EX_fe2_e</td>\n",
       "      <td>0.01409</td>\n",
       "      <td>0</td>\n",
       "      <td>0.00%</td>\n",
       "    </tr>\n",
       "    <tr>\n",
       "      <td>glc__D_e</td>\n",
       "      <td>EX_glc__D_e</td>\n",
       "      <td>10</td>\n",
       "      <td>6</td>\n",
       "      <td>100.00%</td>\n",
       "    </tr>\n",
       "    <tr>\n",
       "      <td>k_e</td>\n",
       "      <td>EX_k_e</td>\n",
       "      <td>0.1712</td>\n",
       "      <td>0</td>\n",
       "      <td>0.00%</td>\n",
       "    </tr>\n",
       "    <tr>\n",
       "      <td>mg2_e</td>\n",
       "      <td>EX_mg2_e</td>\n",
       "      <td>0.007608</td>\n",
       "      <td>0</td>\n",
       "      <td>0.00%</td>\n",
       "    </tr>\n",
       "    <tr>\n",
       "      <td>mn2_e</td>\n",
       "      <td>EX_mn2_e</td>\n",
       "      <td>0.000606</td>\n",
       "      <td>0</td>\n",
       "      <td>0.00%</td>\n",
       "    </tr>\n",
       "    <tr>\n",
       "      <td>mobd_e</td>\n",
       "      <td>EX_mobd_e</td>\n",
       "      <td>6.139E-06</td>\n",
       "      <td>0</td>\n",
       "      <td>0.00%</td>\n",
       "    </tr>\n",
       "    <tr>\n",
       "      <td>nh4_e</td>\n",
       "      <td>EX_nh4_e</td>\n",
       "      <td>9.471</td>\n",
       "      <td>0</td>\n",
       "      <td>0.00%</td>\n",
       "    </tr>\n",
       "    <tr>\n",
       "      <td>ni2_e</td>\n",
       "      <td>EX_ni2_e</td>\n",
       "      <td>0.0002833</td>\n",
       "      <td>0</td>\n",
       "      <td>0.00%</td>\n",
       "    </tr>\n",
       "    <tr>\n",
       "      <td>o2_e</td>\n",
       "      <td>EX_o2_e</td>\n",
       "      <td>22.13</td>\n",
       "      <td>0</td>\n",
       "      <td>0.00%</td>\n",
       "    </tr>\n",
       "    <tr>\n",
       "      <td>pi_e</td>\n",
       "      <td>EX_pi_e</td>\n",
       "      <td>0.846</td>\n",
       "      <td>0</td>\n",
       "      <td>0.00%</td>\n",
       "    </tr>\n",
       "    <tr>\n",
       "      <td>so4_e</td>\n",
       "      <td>EX_so4_e</td>\n",
       "      <td>0.2208</td>\n",
       "      <td>0</td>\n",
       "      <td>0.00%</td>\n",
       "    </tr>\n",
       "    <tr>\n",
       "      <td>zn2_e</td>\n",
       "      <td>EX_zn2_e</td>\n",
       "      <td>0.0002991</td>\n",
       "      <td>0</td>\n",
       "      <td>0.00%</td>\n",
       "    </tr>\n",
       "  </tbody>\n",
       "</table><h4>Secretion</h4><table border=\"1\" class=\"dataframe\">\n",
       "  <thead>\n",
       "    <tr style=\"text-align: right;\">\n",
       "      <th>Metabolite</th>\n",
       "      <th>Reaction</th>\n",
       "      <th>Flux</th>\n",
       "      <th>C-Number</th>\n",
       "      <th>C-Flux</th>\n",
       "    </tr>\n",
       "  </thead>\n",
       "  <tbody>\n",
       "    <tr>\n",
       "      <td>4crsol_c</td>\n",
       "      <td>DM_4crsol_c</td>\n",
       "      <td>-0.0001956</td>\n",
       "      <td>7</td>\n",
       "      <td>0.01%</td>\n",
       "    </tr>\n",
       "    <tr>\n",
       "      <td>5drib_c</td>\n",
       "      <td>DM_5drib_c</td>\n",
       "      <td>-0.0001973</td>\n",
       "      <td>5</td>\n",
       "      <td>0.00%</td>\n",
       "    </tr>\n",
       "    <tr>\n",
       "      <td>amob_c</td>\n",
       "      <td>DM_amob_c</td>\n",
       "      <td>-1.754E-06</td>\n",
       "      <td>15</td>\n",
       "      <td>0.00%</td>\n",
       "    </tr>\n",
       "    <tr>\n",
       "      <td>co2_e</td>\n",
       "      <td>EX_co2_e</td>\n",
       "      <td>-24</td>\n",
       "      <td>1</td>\n",
       "      <td>99.99%</td>\n",
       "    </tr>\n",
       "    <tr>\n",
       "      <td>h2o_e</td>\n",
       "      <td>EX_h2o_e</td>\n",
       "      <td>-47.16</td>\n",
       "      <td>0</td>\n",
       "      <td>0.00%</td>\n",
       "    </tr>\n",
       "    <tr>\n",
       "      <td>h_e</td>\n",
       "      <td>EX_h_e</td>\n",
       "      <td>-8.058</td>\n",
       "      <td>0</td>\n",
       "      <td>0.00%</td>\n",
       "    </tr>\n",
       "    <tr>\n",
       "      <td>meoh_e</td>\n",
       "      <td>EX_meoh_e</td>\n",
       "      <td>-1.754E-06</td>\n",
       "      <td>1</td>\n",
       "      <td>0.00%</td>\n",
       "    </tr>\n",
       "  </tbody>\n",
       "</table>"
      ],
      "text/plain": [
       "<cobra.summary.model_summary.ModelSummary at 0x7fa60672b130>"
      ]
     },
     "execution_count": 6,
     "metadata": {},
     "output_type": "execute_result"
    }
   ],
   "source": [
    "model_1.summary()"
   ]
  },
  {
   "cell_type": "code",
   "execution_count": 7,
   "id": "afada677-5533-4f57-9bd9-86cdd8c6fc1f",
   "metadata": {},
   "outputs": [
    {
     "data": {
      "text/html": [
       "\n",
       "        <table>\n",
       "            <tr>\n",
       "                <td><strong>Metabolite identifier</strong></td><td>meoh_e</td>\n",
       "            </tr><tr>\n",
       "                <td><strong>Name</strong></td><td>Methanol</td>\n",
       "            </tr><tr>\n",
       "                <td><strong>Memory address</strong></td>\n",
       "                <td>0x07fa606710dc0</td>\n",
       "            </tr><tr>\n",
       "                <td><strong>Formula</strong></td><td>CH4O1</td>\n",
       "            </tr><tr>\n",
       "                <td><strong>Compartment</strong></td><td>e</td>\n",
       "            </tr><tr>\n",
       "                <td><strong>In 2 reaction(s)</strong></td><td>\n",
       "                    EX_meoh_e, MEOHtex</td>\n",
       "            </tr>\n",
       "        </table>"
      ],
      "text/plain": [
       "<Metabolite meoh_e at 0x7fa606710dc0>"
      ]
     },
     "execution_count": 7,
     "metadata": {},
     "output_type": "execute_result"
    }
   ],
   "source": [
    "model_1.metabolites.meoh_e"
   ]
  },
  {
   "cell_type": "markdown",
   "id": "596d6bc7-a48a-47f8-80d4-061c1b6e6baf",
   "metadata": {},
   "source": [
    "#### Summary of modified model"
   ]
  },
  {
   "cell_type": "code",
   "execution_count": 28,
   "id": "c4d70050-6e79-4705-b71d-96a6187291b4",
   "metadata": {},
   "outputs": [],
   "source": [
    "model_2 = read_sbml_model('model_atocopherol_thr.xml')"
   ]
  },
  {
   "cell_type": "code",
   "execution_count": 29,
   "id": "56892765-9c5d-44c0-b923-f680089ab765",
   "metadata": {},
   "outputs": [],
   "source": [
    "model_2.objective = model_2.reactions.DM_avite1_c"
   ]
  },
  {
   "cell_type": "code",
   "execution_count": 30,
   "id": "689b07e5-8fbc-4a2f-aae4-54b51e3e8a65",
   "metadata": {},
   "outputs": [
    {
     "data": {
      "text/html": [
       "<h3>Objective</h3><p>1.0 DM_avite1_c = 0.6133904007420902</p><h4>Uptake</h4><table border=\"1\" class=\"dataframe\">\n",
       "  <thead>\n",
       "    <tr style=\"text-align: right;\">\n",
       "      <th>Metabolite</th>\n",
       "      <th>Reaction</th>\n",
       "      <th>Flux</th>\n",
       "      <th>C-Number</th>\n",
       "      <th>C-Flux</th>\n",
       "    </tr>\n",
       "  </thead>\n",
       "  <tbody>\n",
       "    <tr>\n",
       "      <td>ca2_e</td>\n",
       "      <td>EX_ca2_e</td>\n",
       "      <td>0.00229</td>\n",
       "      <td>0</td>\n",
       "      <td>0.00%</td>\n",
       "    </tr>\n",
       "    <tr>\n",
       "      <td>cl_e</td>\n",
       "      <td>EX_cl_e</td>\n",
       "      <td>0.00229</td>\n",
       "      <td>0</td>\n",
       "      <td>0.00%</td>\n",
       "    </tr>\n",
       "    <tr>\n",
       "      <td>cobalt2_e</td>\n",
       "      <td>EX_cobalt2_e</td>\n",
       "      <td>1.1E-05</td>\n",
       "      <td>0</td>\n",
       "      <td>0.00%</td>\n",
       "    </tr>\n",
       "    <tr>\n",
       "      <td>cu2_e</td>\n",
       "      <td>EX_cu2_e</td>\n",
       "      <td>0.000312</td>\n",
       "      <td>0</td>\n",
       "      <td>0.00%</td>\n",
       "    </tr>\n",
       "    <tr>\n",
       "      <td>fe2_e</td>\n",
       "      <td>EX_fe2_e</td>\n",
       "      <td>0.007067</td>\n",
       "      <td>0</td>\n",
       "      <td>0.00%</td>\n",
       "    </tr>\n",
       "    <tr>\n",
       "      <td>glc__D_e</td>\n",
       "      <td>EX_glc__D_e</td>\n",
       "      <td>10</td>\n",
       "      <td>6</td>\n",
       "      <td>100.00%</td>\n",
       "    </tr>\n",
       "    <tr>\n",
       "      <td>k_e</td>\n",
       "      <td>EX_k_e</td>\n",
       "      <td>0.08588</td>\n",
       "      <td>0</td>\n",
       "      <td>0.00%</td>\n",
       "    </tr>\n",
       "    <tr>\n",
       "      <td>mg2_e</td>\n",
       "      <td>EX_mg2_e</td>\n",
       "      <td>0.003817</td>\n",
       "      <td>0</td>\n",
       "      <td>0.00%</td>\n",
       "    </tr>\n",
       "    <tr>\n",
       "      <td>mn2_e</td>\n",
       "      <td>EX_mn2_e</td>\n",
       "      <td>0.000304</td>\n",
       "      <td>0</td>\n",
       "      <td>0.00%</td>\n",
       "    </tr>\n",
       "    <tr>\n",
       "      <td>mobd_e</td>\n",
       "      <td>EX_mobd_e</td>\n",
       "      <td>3.08E-06</td>\n",
       "      <td>0</td>\n",
       "      <td>0.00%</td>\n",
       "    </tr>\n",
       "    <tr>\n",
       "      <td>nh4_e</td>\n",
       "      <td>EX_nh4_e</td>\n",
       "      <td>4.752</td>\n",
       "      <td>0</td>\n",
       "      <td>0.00%</td>\n",
       "    </tr>\n",
       "    <tr>\n",
       "      <td>ni2_e</td>\n",
       "      <td>EX_ni2_e</td>\n",
       "      <td>0.0001421</td>\n",
       "      <td>0</td>\n",
       "      <td>0.00%</td>\n",
       "    </tr>\n",
       "    <tr>\n",
       "      <td>o2_e</td>\n",
       "      <td>EX_o2_e</td>\n",
       "      <td>16.16</td>\n",
       "      <td>0</td>\n",
       "      <td>0.00%</td>\n",
       "    </tr>\n",
       "    <tr>\n",
       "      <td>pi_e</td>\n",
       "      <td>EX_pi_e</td>\n",
       "      <td>0.4244</td>\n",
       "      <td>0</td>\n",
       "      <td>0.00%</td>\n",
       "    </tr>\n",
       "    <tr>\n",
       "      <td>so4_e</td>\n",
       "      <td>EX_so4_e</td>\n",
       "      <td>0.1108</td>\n",
       "      <td>0</td>\n",
       "      <td>0.00%</td>\n",
       "    </tr>\n",
       "    <tr>\n",
       "      <td>zn2_e</td>\n",
       "      <td>EX_zn2_e</td>\n",
       "      <td>0.00015</td>\n",
       "      <td>0</td>\n",
       "      <td>0.00%</td>\n",
       "    </tr>\n",
       "  </tbody>\n",
       "</table><h4>Secretion</h4><table border=\"1\" class=\"dataframe\">\n",
       "  <thead>\n",
       "    <tr style=\"text-align: right;\">\n",
       "      <th>Metabolite</th>\n",
       "      <th>Reaction</th>\n",
       "      <th>Flux</th>\n",
       "      <th>C-Number</th>\n",
       "      <th>C-Flux</th>\n",
       "    </tr>\n",
       "  </thead>\n",
       "  <tbody>\n",
       "    <tr>\n",
       "      <td>4crsol_c</td>\n",
       "      <td>DM_4crsol_c</td>\n",
       "      <td>-9.812E-05</td>\n",
       "      <td>7</td>\n",
       "      <td>0.00%</td>\n",
       "    </tr>\n",
       "    <tr>\n",
       "      <td>5drib_c</td>\n",
       "      <td>DM_5drib_c</td>\n",
       "      <td>-9.9E-05</td>\n",
       "      <td>5</td>\n",
       "      <td>0.00%</td>\n",
       "    </tr>\n",
       "    <tr>\n",
       "      <td>amob_c</td>\n",
       "      <td>DM_amob_c</td>\n",
       "      <td>-8.8E-07</td>\n",
       "      <td>15</td>\n",
       "      <td>0.00%</td>\n",
       "    </tr>\n",
       "    <tr>\n",
       "      <td>avite1_c</td>\n",
       "      <td>DM_avite1_c</td>\n",
       "      <td>-0.6134</td>\n",
       "      <td>29</td>\n",
       "      <td>42.41%</td>\n",
       "    </tr>\n",
       "    <tr>\n",
       "      <td>co2_e</td>\n",
       "      <td>EX_co2_e</td>\n",
       "      <td>-24.15</td>\n",
       "      <td>1</td>\n",
       "      <td>57.58%</td>\n",
       "    </tr>\n",
       "    <tr>\n",
       "      <td>h2o_e</td>\n",
       "      <td>EX_h2o_e</td>\n",
       "      <td>-38.22</td>\n",
       "      <td>0</td>\n",
       "      <td>0.00%</td>\n",
       "    </tr>\n",
       "    <tr>\n",
       "      <td>h_e</td>\n",
       "      <td>EX_h_e</td>\n",
       "      <td>-4.656</td>\n",
       "      <td>0</td>\n",
       "      <td>0.00%</td>\n",
       "    </tr>\n",
       "    <tr>\n",
       "      <td>meoh_e</td>\n",
       "      <td>EX_meoh_e</td>\n",
       "      <td>-8.8E-07</td>\n",
       "      <td>1</td>\n",
       "      <td>0.00%</td>\n",
       "    </tr>\n",
       "  </tbody>\n",
       "</table>"
      ],
      "text/plain": [
       "<cobra.summary.model_summary.ModelSummary at 0x7ffb90e5ef40>"
      ]
     },
     "execution_count": 30,
     "metadata": {},
     "output_type": "execute_result"
    }
   ],
   "source": [
    "with model_2:\n",
    "    model_2.reactions.BIOMASS_Ec_iML1515_core_75p37M.lower_bound = 0.44\n",
    "    summary = model_2.summary()\n",
    "summary"
   ]
  },
  {
   "cell_type": "markdown",
   "id": "eab61567-ec5e-4d44-a7b0-47bb66232bba",
   "metadata": {},
   "source": []
  }
 ],
 "metadata": {
  "kernelspec": {
   "display_name": "Python 3",
   "language": "python",
   "name": "python3"
  },
  "language_info": {
   "codemirror_mode": {
    "name": "ipython",
    "version": 3
   },
   "file_extension": ".py",
   "mimetype": "text/x-python",
   "name": "python",
   "nbconvert_exporter": "python",
   "pygments_lexer": "ipython3",
   "version": "3.8.8"
  }
 },
 "nbformat": 4,
 "nbformat_minor": 5
}

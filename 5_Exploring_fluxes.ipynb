{
 "cells": [
  {
   "cell_type": "code",
   "execution_count": 1,
   "id": "6119d154-69ec-4aa1-8d8d-b5d7f89004bc",
   "metadata": {},
   "outputs": [],
   "source": [
    "import cobra\n",
    "from cobra.io import read_sbml_model\n",
    "from cobra import Reaction, Metabolite\n",
    "\n",
    "# Read model (model of Escherichia coli)\n",
    "model = read_sbml_model('model_atocopherol.xml')"
   ]
  },
  {
   "cell_type": "code",
   "execution_count": 45,
   "id": "c90e3f02-7f82-4e7f-998b-cc2c23f7238f",
   "metadata": {},
   "outputs": [],
   "source": [
    "model.objective = model.reactions.DM_avite1_c"
   ]
  },
  {
   "cell_type": "code",
   "execution_count": 46,
   "id": "939ccde5-7ce7-4fb9-9481-2498aba4628c",
   "metadata": {},
   "outputs": [],
   "source": [
    "solution = model.optimize()"
   ]
  },
  {
   "cell_type": "code",
   "execution_count": null,
   "id": "b779f232-802b-434b-944c-11f95ff711db",
   "metadata": {},
   "outputs": [],
   "source": []
  },
  {
   "cell_type": "code",
   "execution_count": 47,
   "id": "7441f1f6-055c-4413-8b2f-df8f89888db8",
   "metadata": {},
   "outputs": [
    {
     "data": {
      "text/plain": [
       "CYTDK2         0.00000\n",
       "XPPT           0.00000\n",
       "HXPRT          0.00000\n",
       "NDPK5          0.00000\n",
       "SHK3Dr         1.22285\n",
       "                ...   \n",
       "TOCOPHS1       1.22285\n",
       "TOCOPHOM1      1.22285\n",
       "GGPS           1.22285\n",
       "GGDR           1.22285\n",
       "DM_avite1_c    1.22285\n",
       "Name: fluxes, Length: 2720, dtype: float64"
      ]
     },
     "execution_count": 47,
     "metadata": {},
     "output_type": "execute_result"
    }
   ],
   "source": [
    "solution.fluxes"
   ]
  },
  {
   "cell_type": "code",
   "execution_count": 62,
   "id": "40de64ce-3452-42cb-949e-6b53a8f2854a",
   "metadata": {},
   "outputs": [
    {
     "data": {
      "text/plain": [
       "1.222850031113877"
      ]
     },
     "execution_count": 62,
     "metadata": {},
     "output_type": "execute_result"
    }
   ],
   "source": [
    "solution.fluxes.DM_avite1_c"
   ]
  },
  {
   "cell_type": "code",
   "execution_count": null,
   "id": "565add3c-211e-4cf0-9ea8-d4e59eab96b8",
   "metadata": {},
   "outputs": [],
   "source": []
  },
  {
   "cell_type": "code",
   "execution_count": 61,
   "id": "c70095e9-7d10-4957-b10e-b5a44a849b8e",
   "metadata": {},
   "outputs": [
    {
     "ename": "NameError",
     "evalue": "name 'get_by_id' is not defined",
     "output_type": "error",
     "traceback": [
      "\u001b[0;31m---------------------------------------------------------------------------\u001b[0m",
      "\u001b[0;31mNameError\u001b[0m                                 Traceback (most recent call last)",
      "\u001b[0;32m<ipython-input-61-9f85924433a1>\u001b[0m in \u001b[0;36m<module>\u001b[0;34m\u001b[0m\n\u001b[0;32m----> 1\u001b[0;31m \u001b[0msolution\u001b[0m\u001b[0;34m.\u001b[0m\u001b[0mfluxes\u001b[0m\u001b[0;34m[\u001b[0m\u001b[0mget_by_id\u001b[0m\u001b[0;34m(\u001b[0m\u001b[0;34m\"TOCOPHS1\"\u001b[0m\u001b[0;34m,\u001b[0m \u001b[0;34m\"TOCOPHOM1\"\u001b[0m \u001b[0;34m)\u001b[0m\u001b[0;34m]\u001b[0m\u001b[0;34m\u001b[0m\u001b[0;34m\u001b[0m\u001b[0m\n\u001b[0m",
      "\u001b[0;31mNameError\u001b[0m: name 'get_by_id' is not defined"
     ]
    }
   ],
   "source": [
    "solution.fluxes"
   ]
  },
  {
   "cell_type": "code",
   "execution_count": 17,
   "id": "6969d98a-6f77-4fa2-9b54-4221b703e4a3",
   "metadata": {},
   "outputs": [
    {
     "data": {
      "text/plain": [
       "count    2720.000000\n",
       "mean        0.090011\n",
       "std         1.739418\n",
       "min       -30.040174\n",
       "25%         0.000000\n",
       "50%         0.000000\n",
       "75%         0.000000\n",
       "max        30.040174\n",
       "Name: fluxes, dtype: float64"
      ]
     },
     "execution_count": 17,
     "metadata": {},
     "output_type": "execute_result"
    }
   ],
   "source": [
    "solution.fluxes.describe()"
   ]
  },
  {
   "cell_type": "code",
   "execution_count": 14,
   "id": "f6b1aca7-adfc-4f21-a210-d294bba66c51",
   "metadata": {},
   "outputs": [
    {
     "data": {
      "text/plain": [
       "Text(0, 0.5, 'Frequency')"
      ]
     },
     "execution_count": 14,
     "metadata": {},
     "output_type": "execute_result"
    },
    {
     "data": {
      "image/png": "[encoded data removed]",
      "text/plain": [
       "<Figure size 432x288 with 1 Axes>"
      ]
     },
     "metadata": {
      "needs_background": "light"
     },
     "output_type": "display_data"
    }
   ],
   "source": [
    "fig = solution.fluxes.hist()\n",
    "fig.set_xlabel('flux [$mmol gDW^{-1} h^{-1}]$')\n",
    "fig.set_ylabel('Frequency')"
   ]
  },
  {
   "cell_type": "code",
   "execution_count": 15,
   "id": "de024603-6f8a-4de0-91e1-fde9aae97750",
   "metadata": {},
   "outputs": [
    {
     "data": {
      "text/plain": [
       "SHK3Dr          1.222850\n",
       "CS              4.014437\n",
       "ICDHyr          4.014437\n",
       "PPA            12.228500\n",
       "PPM            -2.445700\n",
       "                 ...    \n",
       "TOCOPHS1        1.222850\n",
       "TOCOPHOM1       1.222850\n",
       "GGPS            1.222850\n",
       "GGDR            1.222850\n",
       "DM_avite1_c     1.222850\n",
       "Name: fluxes, Length: 104, dtype: float64"
      ]
     },
     "execution_count": 15,
     "metadata": {},
     "output_type": "execute_result"
    }
   ],
   "source": [
    "# filter non-zero fluxes\n",
    "solution.fluxes[solution.fluxes != 0.]"
   ]
  },
  {
   "cell_type": "code",
   "execution_count": 18,
   "id": "525cd1e1-404d-40ae-97ff-e059f33fe4e4",
   "metadata": {},
   "outputs": [
    {
     "data": {
      "text/plain": [
       "count    104.000000\n",
       "mean       2.354133\n",
       "std        8.630616\n",
       "min      -30.040174\n",
       "25%        1.222850\n",
       "50%        1.484306\n",
       "75%        4.891400\n",
       "max       30.040174\n",
       "Name: fluxes, dtype: float64"
      ]
     },
     "execution_count": 18,
     "metadata": {},
     "output_type": "execute_result"
    }
   ],
   "source": [
    "solution.fluxes[solution.fluxes != 0.].describe()"
   ]
  },
  {
   "cell_type": "code",
   "execution_count": 16,
   "id": "26866f47-c067-4aa9-9649-ecf88079fc13",
   "metadata": {},
   "outputs": [
    {
     "data": {
      "text/plain": [
       "Text(0, 0.5, 'Frequency')"
      ]
     },
     "execution_count": 16,
     "metadata": {},
     "output_type": "execute_result"
    },
    {
     "data": {
      "image/png": "[encoded data removed]",
      "text/plain": [
       "<Figure size 432x288 with 1 Axes>"
      ]
     },
     "metadata": {
      "needs_background": "light"
     },
     "output_type": "display_data"
    }
   ],
   "source": [
    "fig2 = solution.fluxes[solution.fluxes != 0.].hist()\n",
    "fig2.set_xlabel('flux [$mmol gDW^{-1} h^{-1}]$')\n",
    "fig2.set_ylabel('Frequency')"
   ]
  },
  {
   "cell_type": "code",
   "execution_count": 25,
   "id": "753225e1-4b12-4db2-a6a3-174f8d45ce9d",
   "metadata": {},
   "outputs": [
    {
     "data": {
      "text/html": [
       "\n",
       "        <table>\n",
       "            <tr>\n",
       "                <td><strong>Reaction identifier</strong></td><td>EX_tyr__L_e</td>\n",
       "            </tr><tr>\n",
       "                <td><strong>Name</strong></td><td>L-Tyrosine exchange</td>\n",
       "            </tr><tr>\n",
       "                <td><strong>Memory address</strong></td>\n",
       "                <td>0x07fe81414e850</td>\n",
       "            </tr><tr>\n",
       "                <td><strong>Stoichiometry</strong></td>\n",
       "                <td>\n",
       "                    <p style='text-align:right'>tyr__L_e --></p>\n",
       "                    <p style='text-align:right'>L-Tyrosine --></p>\n",
       "                </td>\n",
       "            </tr><tr>\n",
       "                <td><strong>GPR</strong></td><td></td>\n",
       "            </tr><tr>\n",
       "                <td><strong>Lower bound</strong></td><td>0.0</td>\n",
       "            </tr><tr>\n",
       "                <td><strong>Upper bound</strong></td><td>1000.0</td>\n",
       "            </tr>\n",
       "        </table>\n",
       "        "
      ],
      "text/plain": [
       "<Reaction EX_tyr__L_e at 0x7fe81414e850>"
      ]
     },
     "execution_count": 25,
     "metadata": {},
     "output_type": "execute_result"
    }
   ],
   "source": [
    "#model.exchanges\n",
    "model.reactions.EX_tyr__L_e"
   ]
  },
  {
   "cell_type": "code",
   "execution_count": 34,
   "id": "1bcef134-35ff-4ab4-91b7-4bec2ff196a5",
   "metadata": {},
   "outputs": [
    {
     "data": {
      "text/html": [
       "\n",
       "        <table>\n",
       "            <tr>\n",
       "                <td><strong>Metabolite identifier</strong></td><td>34hpp_c</td>\n",
       "            </tr><tr>\n",
       "                <td><strong>Name</strong></td><td>3-(4-Hydroxyphenyl)pyruvate</td>\n",
       "            </tr><tr>\n",
       "                <td><strong>Memory address</strong></td>\n",
       "                <td>0x07fe81375b4f0</td>\n",
       "            </tr><tr>\n",
       "                <td><strong>Formula</strong></td><td>C9H7O4</td>\n",
       "            </tr><tr>\n",
       "                <td><strong>Compartment</strong></td><td>c</td>\n",
       "            </tr><tr>\n",
       "                <td><strong>In 3 reaction(s)</strong></td><td>\n",
       "                    TYRTA, 34HPPOR, PPND</td>\n",
       "            </tr>\n",
       "        </table>"
      ],
      "text/plain": [
       "<Metabolite 34hpp_c at 0x7fe81375b4f0>"
      ]
     },
     "execution_count": 34,
     "metadata": {},
     "output_type": "execute_result"
    }
   ],
   "source": [
    "model.metabolites.get_by_id('34hpp_c')"
   ]
  },
  {
   "cell_type": "code",
   "execution_count": 35,
   "id": "d280ec02-e7fd-4df0-9485-74f8995344a5",
   "metadata": {},
   "outputs": [
    {
     "data": {
      "text/html": [
       "\n",
       "        <table>\n",
       "            <tr>\n",
       "                <td><strong>Reaction identifier</strong></td><td>TYRTA</td>\n",
       "            </tr><tr>\n",
       "                <td><strong>Name</strong></td><td>Tyrosine transaminase</td>\n",
       "            </tr><tr>\n",
       "                <td><strong>Memory address</strong></td>\n",
       "                <td>0x07fe814eba880</td>\n",
       "            </tr><tr>\n",
       "                <td><strong>Stoichiometry</strong></td>\n",
       "                <td>\n",
       "                    <p style='text-align:right'>akg_c + tyr__L_c <=> 34hpp_c + glu__L_c</p>\n",
       "                    <p style='text-align:right'>2-Oxoglutarate + L-Tyrosine <=> 3-(4-Hydroxyphenyl)pyruvate + L-Glutamate</p>\n",
       "                </td>\n",
       "            </tr><tr>\n",
       "                <td><strong>GPR</strong></td><td>b4054 or b0928 or b3770</td>\n",
       "            </tr><tr>\n",
       "                <td><strong>Lower bound</strong></td><td>-1000.0</td>\n",
       "            </tr><tr>\n",
       "                <td><strong>Upper bound</strong></td><td>1000.0</td>\n",
       "            </tr>\n",
       "        </table>\n",
       "        "
      ],
      "text/plain": [
       "<Reaction TYRTA at 0x7fe814eba880>"
      ]
     },
     "execution_count": 35,
     "metadata": {},
     "output_type": "execute_result"
    }
   ],
   "source": [
    "model.reactions.get_by_id('TYRTA')"
   ]
  },
  {
   "cell_type": "code",
   "execution_count": 26,
   "id": "a0be948e-cea6-4560-bcc3-b8ba604feb14",
   "metadata": {},
   "outputs": [
    {
     "data": {
      "text/plain": [
       "{'EX_pi_e': 1000.0,\n",
       " 'EX_co2_e': 1000.0,\n",
       " 'EX_fe3_e': 1000.0,\n",
       " 'EX_h_e': 1000.0,\n",
       " 'EX_mn2_e': 1000.0,\n",
       " 'EX_fe2_e': 1000.0,\n",
       " 'EX_glc__D_e': 10.0,\n",
       " 'EX_zn2_e': 1000.0,\n",
       " 'EX_mg2_e': 1000.0,\n",
       " 'EX_ca2_e': 1000.0,\n",
       " 'EX_ni2_e': 1000.0,\n",
       " 'EX_cu2_e': 1000.0,\n",
       " 'EX_sel_e': 1000.0,\n",
       " 'EX_cobalt2_e': 1000.0,\n",
       " 'EX_h2o_e': 1000.0,\n",
       " 'EX_mobd_e': 1000.0,\n",
       " 'EX_so4_e': 1000.0,\n",
       " 'EX_nh4_e': 1000.0,\n",
       " 'EX_k_e': 1000.0,\n",
       " 'EX_na1_e': 1000.0,\n",
       " 'EX_cl_e': 1000.0,\n",
       " 'EX_o2_e': 1000.0,\n",
       " 'EX_tungs_e': 1000.0,\n",
       " 'EX_slnt_e': 1000.0}"
      ]
     },
     "execution_count": 26,
     "metadata": {},
     "output_type": "execute_result"
    }
   ],
   "source": [
    "model.medium"
   ]
  },
  {
   "cell_type": "code",
   "execution_count": 29,
   "id": "873889b8-e79c-4332-8085-c5e5d60337e2",
   "metadata": {},
   "outputs": [],
   "source": [
    "from cobra.flux_analysis import flux_variability_analysis"
   ]
  },
  {
   "cell_type": "code",
   "execution_count": 40,
   "id": "095b8b30-982c-44ca-af3d-73d0bd86d93c",
   "metadata": {},
   "outputs": [
    {
     "name": "stdout",
     "output_type": "stream",
     "text": [
      "              minimum  maximum\n",
      "EX_tyr__L_e  0.000000  0.56469\n",
      "TOCOPHOM1    1.100565  1.22285\n",
      "TYRTA       -0.564690  0.00000\n"
     ]
    }
   ],
   "source": [
    "with model:\n",
    "    reactions_subset = [model.reactions.EX_tyr__L_e, model.reactions.TOCOPHOM1, model.reactions.TYRTA]\n",
    "    fva = flux_variability_analysis(model, reaction_list = reactions_subset, fraction_of_optimum=0.9)\n",
    "print(fva)"
   ]
  },
  {
   "cell_type": "code",
   "execution_count": 41,
   "id": "d4cc500d-15c6-40bf-80e0-323edd0e171f",
   "metadata": {},
   "outputs": [
    {
     "name": "stdout",
     "output_type": "stream",
     "text": [
      "              minimum   maximum\n",
      "EX_tyr__L_e -2.466999 -0.840082\n",
      "TYRTA        0.840082  1.560858\n",
      "TOCOPHOM1    1.404772  1.560858\n"
     ]
    }
   ],
   "source": [
    "medium = model.medium\n",
    "with model:\n",
    "    model.reactions.EX_tyr__L_e.lower_bound = -10\n",
    "    reactions_tt = [model.reactions.EX_tyr__L_e, model.reactions.TYRTA, model.reactions.TOCOPHOM1]\n",
    "    fva = flux_variability_analysis(model, reaction_list = reactions_tt, fraction_of_optimum=0.9)\n",
    "print(fva)"
   ]
  },
  {
   "cell_type": "code",
   "execution_count": 51,
   "id": "e02d30f3-197b-4d22-92ea-792a2c3d02a2",
   "metadata": {},
   "outputs": [
    {
     "name": "stdout",
     "output_type": "stream",
     "text": [
      "                                 minimum   maximum\n",
      "BIOMASS_Ec_iML1515_core_75p37M  0.000000  0.091468\n",
      "EX_tyr__L_e                    -2.466999 -0.840082\n",
      "TYRTA                           0.840082  1.560858\n",
      "TOCOPHOM1                       1.404772  1.560858\n"
     ]
    }
   ],
   "source": [
    "medium = model.medium\n",
    "with model:\n",
    "    model.reactions.EX_tyr__L_e.lower_bound = -10\n",
    "    #model.reactions.TYRTA.lower_bound = 1.5\n",
    "    reactions_tt = [model.reactions.BIOMASS_Ec_iML1515_core_75p37M, model.reactions.EX_tyr__L_e, model.reactions.TYRTA, model.reactions.TOCOPHOM1]\n",
    "    fva = flux_variability_analysis(model, reaction_list = reactions_tt, fraction_of_optimum=0.9)\n",
    "print(fva)"
   ]
  },
  {
   "cell_type": "markdown",
   "id": "6ff19285-891d-41cb-b255-29bed47266af",
   "metadata": {},
   "source": [
    "## Fluxes with considering biomass growth rate"
   ]
  },
  {
   "cell_type": "code",
   "execution_count": 50,
   "id": "a9d6d22f-4cc3-48fa-8254-05655275fa7b",
   "metadata": {},
   "outputs": [
    {
     "name": "stdout",
     "output_type": "stream",
     "text": [
      "                                 minimum   maximum\n",
      "BIOMASS_Ec_iML1515_core_75p37M  0.440000  0.483911\n",
      "EX_tyr__L_e                     0.000000  0.282438\n",
      "TYRTA                          -0.343210 -0.060772\n",
      "TOCOPHOM1                       0.552051  0.613390\n"
     ]
    }
   ],
   "source": [
    "medium = model.medium\n",
    "with model:\n",
    "    model.reactions.BIOMASS_Ec_iML1515_core_75p37M.lower_bound = 0.44\n",
    "    reactions_tt = [model.reactions.BIOMASS_Ec_iML1515_core_75p37M, model.reactions.EX_tyr__L_e, model.reactions.TYRTA, model.reactions.TOCOPHOM1]\n",
    "    fva = flux_variability_analysis(model, reaction_list = reactions_tt, fraction_of_optimum=0.9)\n",
    "print(fva)"
   ]
  },
  {
   "cell_type": "markdown",
   "id": "a4bf759a-a46e-4efb-be77-f446ef8e49e9",
   "metadata": {},
   "source": [
    "When fixing the biomass growth to half of the optimal growth, the max. flux to alpha-tocopherol is 0.61"
   ]
  },
  {
   "cell_type": "code",
   "execution_count": 49,
   "id": "1a93b55d-c964-44cc-bec8-55bad67adbde",
   "metadata": {},
   "outputs": [
    {
     "name": "stdout",
     "output_type": "stream",
     "text": [
      "                                 minimum   maximum\n",
      "BIOMASS_Ec_iML1515_core_75p37M  0.440000  0.485597\n",
      "EX_tyr__L_e                    -1.331703 -0.488684\n",
      "TYRTA                           0.427912  0.798973\n",
      "TOCOPHOM1                       0.719075  0.798973\n"
     ]
    }
   ],
   "source": [
    "medium = model.medium\n",
    "with model:\n",
    "    model.reactions.EX_tyr__L_e.lower_bound = -10\n",
    "    model.reactions.BIOMASS_Ec_iML1515_core_75p37M.lower_bound = 0.44\n",
    "    reactions_tt = [model.reactions.BIOMASS_Ec_iML1515_core_75p37M, model.reactions.EX_tyr__L_e, model.reactions.TYRTA, model.reactions.TOCOPHOM1]\n",
    "    fva = flux_variability_analysis(model, reaction_list = reactions_tt, fraction_of_optimum=0.9)\n",
    "print(fva)"
   ]
  },
  {
   "cell_type": "markdown",
   "id": "3abe2a05-f963-4c7c-b528-3e0dd5b91e9b",
   "metadata": {},
   "source": [
    "By simulating tyrosine uptake from the medium, the flux to alpha-tocopherol can be increased to 0.80"
   ]
  },
  {
   "cell_type": "code",
   "execution_count": 52,
   "id": "2d270f67-e78b-4562-af90-c696121ef212",
   "metadata": {},
   "outputs": [
    {
     "data": {
      "text/html": [
       "\n",
       "        <table>\n",
       "            <tr>\n",
       "                <td><strong>Metabolite identifier</strong></td><td>tyr__L_c</td>\n",
       "            </tr><tr>\n",
       "                <td><strong>Name</strong></td><td>L-Tyrosine</td>\n",
       "            </tr><tr>\n",
       "                <td><strong>Memory address</strong></td>\n",
       "                <td>0x07fe813873190</td>\n",
       "            </tr><tr>\n",
       "                <td><strong>Formula</strong></td><td>C9H11NO3</td>\n",
       "            </tr><tr>\n",
       "                <td><strong>Compartment</strong></td><td>c</td>\n",
       "            </tr><tr>\n",
       "                <td><strong>In 6 reaction(s)</strong></td><td>\n",
       "                    BIOMASS_Ec_iML1515_core_75p37M, TYRL, TYRt2rpp, BIOMASS_Ec_iML1515_WT_75p37M, TYRTA, TYRtipp</td>\n",
       "            </tr>\n",
       "        </table>"
      ],
      "text/plain": [
       "<Metabolite tyr__L_c at 0x7fe813873190>"
      ]
     },
     "execution_count": 52,
     "metadata": {},
     "output_type": "execute_result"
    }
   ],
   "source": [
    "model.metabolites.tyr__L_c"
   ]
  },
  {
   "cell_type": "code",
   "execution_count": 53,
   "id": "e940ff4b-db1a-43b2-84f4-9e6c269396d3",
   "metadata": {},
   "outputs": [
    {
     "data": {
      "text/html": [
       "\n",
       "        <table>\n",
       "            <tr>\n",
       "                <td><strong>Reaction identifier</strong></td><td>TYRL</td>\n",
       "            </tr><tr>\n",
       "                <td><strong>Name</strong></td><td>Tyrosine lyase</td>\n",
       "            </tr><tr>\n",
       "                <td><strong>Memory address</strong></td>\n",
       "                <td>0x07fe81598a550</td>\n",
       "            </tr><tr>\n",
       "                <td><strong>Stoichiometry</strong></td>\n",
       "                <td>\n",
       "                    <p style='text-align:right'>amet_c + nadph_c + tyr__L_c --> 4crsol_c + dad_5_c + dhgly_c + h_c + met__L_c + nadp_c</p>\n",
       "                    <p style='text-align:right'>S-Adenosyl-L-methionine + Nicotinamide adenine dinucleotide phosphate - reduced + L-Tyrosine --> P-Cresol + 5'-Deoxyadenosine + Dehydroglycine + H+ + L-Methionine + Nicotinamide adenine...</p>\n",
       "                </td>\n",
       "            </tr><tr>\n",
       "                <td><strong>GPR</strong></td><td>b3991</td>\n",
       "            </tr><tr>\n",
       "                <td><strong>Lower bound</strong></td><td>0.0</td>\n",
       "            </tr><tr>\n",
       "                <td><strong>Upper bound</strong></td><td>1000.0</td>\n",
       "            </tr>\n",
       "        </table>\n",
       "        "
      ],
      "text/plain": [
       "<Reaction TYRL at 0x7fe81598a550>"
      ]
     },
     "execution_count": 53,
     "metadata": {},
     "output_type": "execute_result"
    }
   ],
   "source": [
    "model.reactions.TYRL"
   ]
  },
  {
   "cell_type": "code",
   "execution_count": 54,
   "id": "1c426f92-1dff-4786-a763-8b664f12f378",
   "metadata": {},
   "outputs": [
    {
     "data": {
      "text/html": [
       "\n",
       "        <table>\n",
       "            <tr>\n",
       "                <td><strong>Reaction identifier</strong></td><td>TYRtipp</td>\n",
       "            </tr><tr>\n",
       "                <td><strong>Name</strong></td><td>L-tyrosine transport out (periplasm)</td>\n",
       "            </tr><tr>\n",
       "                <td><strong>Memory address</strong></td>\n",
       "                <td>0x07fe8158d90a0</td>\n",
       "            </tr><tr>\n",
       "                <td><strong>Stoichiometry</strong></td>\n",
       "                <td>\n",
       "                    <p style='text-align:right'>tyr__L_c --> tyr__L_p</p>\n",
       "                    <p style='text-align:right'>L-Tyrosine --> L-Tyrosine</p>\n",
       "                </td>\n",
       "            </tr><tr>\n",
       "                <td><strong>GPR</strong></td><td>b1473</td>\n",
       "            </tr><tr>\n",
       "                <td><strong>Lower bound</strong></td><td>0.0</td>\n",
       "            </tr><tr>\n",
       "                <td><strong>Upper bound</strong></td><td>1000.0</td>\n",
       "            </tr>\n",
       "        </table>\n",
       "        "
      ],
      "text/plain": [
       "<Reaction TYRtipp at 0x7fe8158d90a0>"
      ]
     },
     "execution_count": 54,
     "metadata": {},
     "output_type": "execute_result"
    }
   ],
   "source": [
    "model.reactions.TYRtipp"
   ]
  },
  {
   "cell_type": "code",
   "execution_count": 55,
   "id": "a49b9171-d87c-48b0-81e1-9dd4d1def34e",
   "metadata": {},
   "outputs": [
    {
     "data": {
      "text/html": [
       "\n",
       "        <table>\n",
       "            <tr>\n",
       "                <td><strong>Reaction identifier</strong></td><td>TYRt2rpp</td>\n",
       "            </tr><tr>\n",
       "                <td><strong>Name</strong></td><td>L-tyrosine reversible transport via proton symport (periplasm)</td>\n",
       "            </tr><tr>\n",
       "                <td><strong>Memory address</strong></td>\n",
       "                <td>0x07fe8148d3160</td>\n",
       "            </tr><tr>\n",
       "                <td><strong>Stoichiometry</strong></td>\n",
       "                <td>\n",
       "                    <p style='text-align:right'>h_p + tyr__L_p <=> h_c + tyr__L_c</p>\n",
       "                    <p style='text-align:right'>H+ + L-Tyrosine <=> H+ + L-Tyrosine</p>\n",
       "                </td>\n",
       "            </tr><tr>\n",
       "                <td><strong>GPR</strong></td><td>b1907 or b0112</td>\n",
       "            </tr><tr>\n",
       "                <td><strong>Lower bound</strong></td><td>-1000.0</td>\n",
       "            </tr><tr>\n",
       "                <td><strong>Upper bound</strong></td><td>1000.0</td>\n",
       "            </tr>\n",
       "        </table>\n",
       "        "
      ],
      "text/plain": [
       "<Reaction TYRt2rpp at 0x7fe8148d3160>"
      ]
     },
     "execution_count": 55,
     "metadata": {},
     "output_type": "execute_result"
    }
   ],
   "source": [
    "model.reactions.TYRt2rpp"
   ]
  },
  {
   "cell_type": "code",
   "execution_count": 57,
   "id": "015b2f43-1af1-4fa3-a2d9-73ba47b757ec",
   "metadata": {},
   "outputs": [
    {
     "name": "stdout",
     "output_type": "stream",
     "text": [
      "                                 minimum    maximum\n",
      "BIOMASS_Ec_iML1515_core_75p37M  0.440000   0.485597\n",
      "BIOMASS_Ec_iML1515_WT_75p37M    0.000000   0.000000\n",
      "TYRt2rpp                        0.488684  48.239408\n",
      "TYRtipp                         0.000000  47.459561\n",
      "TYRL                            0.000098   0.551953\n"
     ]
    }
   ],
   "source": [
    "medium = model.medium\n",
    "with model:\n",
    "    model.reactions.EX_tyr__L_e.lower_bound = -10\n",
    "    model.reactions.BIOMASS_Ec_iML1515_core_75p37M.lower_bound = 0.44\n",
    "    reactions_tt = [model.reactions.BIOMASS_Ec_iML1515_core_75p37M, model.reactions.BIOMASS_Ec_iML1515_WT_75p37M, model.reactions.TYRt2rpp, model.reactions.TYRtipp, model.reactions.TYRL]\n",
    "    fva = flux_variability_analysis(model, reaction_list = reactions_tt, fraction_of_optimum=0.9)\n",
    "print(fva)"
   ]
  },
  {
   "cell_type": "code",
   "execution_count": 58,
   "id": "5ce591e8-527a-465a-beed-894b60609509",
   "metadata": {},
   "outputs": [
    {
     "name": "stdout",
     "output_type": "stream",
     "text": [
      "                                 minimum   maximum\n",
      "BIOMASS_Ec_iML1515_core_75p37M  0.440000  0.485597\n",
      "EX_tyr__L_e                    -1.331703 -0.488684\n",
      "TYRTA                           0.427912  0.798973\n",
      "TOCOPHOM1                       0.719075  0.798973\n"
     ]
    }
   ],
   "source": [
    "medium = model.medium\n",
    "with model:\n",
    "    model.reactions.EX_tyr__L_e.lower_bound = -10\n",
    "    model.reactions.BIOMASS_Ec_iML1515_core_75p37M.lower_bound = 0.44\n",
    "    model.reactions.TYRt2rpp.upper_bound = 10\n",
    "    model.reactions.TYRtipp.upper_bound = 10\n",
    "    reactions_tt = [model.reactions.BIOMASS_Ec_iML1515_core_75p37M, model.reactions.EX_tyr__L_e, model.reactions.TYRTA, model.reactions.TOCOPHOM1]\n",
    "    fva = flux_variability_analysis(model, reaction_list = reactions_tt, fraction_of_optimum=0.9)\n",
    "print(fva)"
   ]
  },
  {
   "cell_type": "code",
   "execution_count": 65,
   "id": "60371c24-31af-44c7-90bd-821e4a3fb0d8",
   "metadata": {},
   "outputs": [
    {
     "name": "stdout",
     "output_type": "stream",
     "text": [
      "[0.7989720203366939, -0.8597443803366946]\n"
     ]
    }
   ],
   "source": [
    "with model:\n",
    "    model.reactions.EX_tyr__L_e.lower_bound = -10\n",
    "    model.reactions.BIOMASS_Ec_iML1515_core_75p37M.lower_bound = 0.44\n",
    "    solution = model.optimize()\n",
    "    #model.reactions.EX_glc__D_e.flux\n",
    "    reaction_list = [solution.fluxes.TYRTA, solution.fluxes.EX_tyr__L_e]\n",
    "    print(reaction_list)"
   ]
  },
  {
   "cell_type": "code",
   "execution_count": 67,
   "id": "a596d511-c1b7-4c42-80a2-730881d6d3a4",
   "metadata": {},
   "outputs": [
    {
     "data": {
      "text/plain": [
       "0.0"
      ]
     },
     "execution_count": 67,
     "metadata": {},
     "output_type": "execute_result"
    }
   ],
   "source": [
    "solution = model.optimize()\n",
    "solution.fluxes.TYRL\n"
   ]
  },
  {
   "cell_type": "code",
   "execution_count": 66,
   "id": "91ac429a-eeeb-4014-a3d3-46b2be839add",
   "metadata": {},
   "outputs": [
    {
     "data": {
      "text/plain": [
       "pandas.core.series.Series"
      ]
     },
     "execution_count": 66,
     "metadata": {},
     "output_type": "execute_result"
    }
   ],
   "source": [
    "type(solution.fluxes)"
   ]
  },
  {
   "cell_type": "code",
   "execution_count": null,
   "id": "c6e0ab66-141e-478f-a169-0428534147c1",
   "metadata": {},
   "outputs": [],
   "source": []
  }
 ],
 "metadata": {
  "kernelspec": {
   "display_name": "Python 3",
   "language": "python",
   "name": "python3"
  },
  "language_info": {
   "codemirror_mode": {
    "name": "ipython",
    "version": 3
   },
   "file_extension": ".py",
   "mimetype": "text/x-python",
   "name": "python",
   "nbconvert_exporter": "python",
   "pygments_lexer": "ipython3",
   "version": "3.8.8"
  }
 },
 "nbformat": 4,
 "nbformat_minor": 5
}

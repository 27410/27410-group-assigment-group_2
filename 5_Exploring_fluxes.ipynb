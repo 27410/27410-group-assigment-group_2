{
 "cells": [
  {
   "cell_type": "code",
   "execution_count": 76,
   "id": "6119d154-69ec-4aa1-8d8d-b5d7f89004bc",
   "metadata": {},
   "outputs": [],
   "source": [
    "import cobra\n",
    "from cobra.io import read_sbml_model\n",
    "from cobra import Reaction, Metabolite\n",
    "\n",
    "# Read model (model of Escherichia coli)\n",
    "model = read_sbml_model('model_atocopherol_tyr.xml')"
   ]
  },
  {
   "cell_type": "code",
   "execution_count": 77,
   "id": "c90e3f02-7f82-4e7f-998b-cc2c23f7238f",
   "metadata": {},
   "outputs": [],
   "source": [
    "model.objective = model.reactions.DM_avite1_c"
   ]
  },
  {
   "cell_type": "code",
   "execution_count": 78,
   "id": "939ccde5-7ce7-4fb9-9481-2498aba4628c",
   "metadata": {},
   "outputs": [],
   "source": [
    "with model:\n",
    "    model.reactions.BIOMASS_Ec_iML1515_core_75p37M.lower_bound = 0.44\n",
    "    solution = model.optimize()"
   ]
  },
  {
   "cell_type": "code",
   "execution_count": 79,
   "id": "7441f1f6-055c-4413-8b2f-df8f89888db8",
   "metadata": {},
   "outputs": [
    {
     "data": {
      "text/plain": [
       "CYTDK2         0.000000\n",
       "XPPT           0.000000\n",
       "HXPRT          0.000000\n",
       "NDPK5          0.000000\n",
       "SHK3Dr         0.106920\n",
       "                 ...   \n",
       "TOCOPHS1       0.798972\n",
       "TOCOPHOM1      0.798972\n",
       "GGPS           0.798972\n",
       "GGDR           0.798972\n",
       "DM_avite1_c    0.798972\n",
       "Name: fluxes, Length: 2720, dtype: float64"
      ]
     },
     "execution_count": 79,
     "metadata": {},
     "output_type": "execute_result"
    }
   ],
   "source": [
    "solution.fluxes"
   ]
  },
  {
   "cell_type": "code",
   "execution_count": 80,
   "id": "40de64ce-3452-42cb-949e-6b53a8f2854a",
   "metadata": {},
   "outputs": [
    {
     "data": {
      "text/plain": [
       "0.7989720203366969"
      ]
     },
     "execution_count": 80,
     "metadata": {},
     "output_type": "execute_result"
    }
   ],
   "source": [
    "solution.fluxes.DM_avite1_c"
   ]
  },
  {
   "cell_type": "code",
   "execution_count": 81,
   "id": "6969d98a-6f77-4fa2-9b54-4221b703e4a3",
   "metadata": {},
   "outputs": [
    {
     "data": {
      "text/plain": [
       "count    2720.000000\n",
       "mean        0.091980\n",
       "std         2.213778\n",
       "min       -37.023882\n",
       "25%         0.000000\n",
       "50%         0.000000\n",
       "75%         0.000000\n",
       "max        49.974861\n",
       "Name: fluxes, dtype: float64"
      ]
     },
     "execution_count": 81,
     "metadata": {},
     "output_type": "execute_result"
    }
   ],
   "source": [
    "solution.fluxes.describe()"
   ]
  },
  {
   "cell_type": "code",
   "execution_count": 82,
   "id": "f6b1aca7-adfc-4f21-a210-d294bba66c51",
   "metadata": {},
   "outputs": [
    {
     "data": {
      "text/plain": [
       "Text(0, 0.5, 'Frequency')"
      ]
     },
     "execution_count": 82,
     "metadata": {},
     "output_type": "execute_result"
    },
    {
     "data": {
      "image/png": "[encoded data removed]",
      "text/plain": [
       "<Figure size 432x288 with 1 Axes>"
      ]
     },
     "metadata": {
      "needs_background": "light"
     },
     "output_type": "display_data"
    }
   ],
   "source": [
    "fig = solution.fluxes.hist()\n",
    "fig.set_xlabel('flux [$mmol gDW^{-1} h^{-1}]$')\n",
    "fig.set_ylabel('Frequency')"
   ]
  },
  {
   "cell_type": "code",
   "execution_count": 83,
   "id": "de024603-6f8a-4de0-91e1-fde9aae97750",
   "metadata": {},
   "outputs": [
    {
     "data": {
      "text/plain": [
       "SHK3Dr         0.106920\n",
       "DHORTS        -0.145550\n",
       "OMPDC          0.145550\n",
       "G5SD           0.097264\n",
       "CS             6.586366\n",
       "                 ...   \n",
       "TOCOPHS1       0.798972\n",
       "TOCOPHOM1      0.798972\n",
       "GGPS           0.798972\n",
       "GGDR           0.798972\n",
       "DM_avite1_c    0.798972\n",
       "Name: fluxes, Length: 440, dtype: float64"
      ]
     },
     "execution_count": 83,
     "metadata": {},
     "output_type": "execute_result"
    }
   ],
   "source": [
    "# filter non-zero fluxes\n",
    "solution.fluxes[solution.fluxes != 0.]"
   ]
  },
  {
   "cell_type": "code",
   "execution_count": 84,
   "id": "525cd1e1-404d-40ae-97ff-e059f33fe4e4",
   "metadata": {},
   "outputs": [
    {
     "data": {
      "text/plain": [
       "count    440.000000\n",
       "mean       0.568606\n",
       "std        5.484719\n",
       "min      -37.023882\n",
       "25%        0.000098\n",
       "50%        0.025011\n",
       "75%        0.163218\n",
       "max       49.974861\n",
       "Name: fluxes, dtype: float64"
      ]
     },
     "execution_count": 84,
     "metadata": {},
     "output_type": "execute_result"
    }
   ],
   "source": [
    "solution.fluxes[solution.fluxes != 0.].describe()"
   ]
  },
  {
   "cell_type": "code",
   "execution_count": 85,
   "id": "26866f47-c067-4aa9-9649-ecf88079fc13",
   "metadata": {},
   "outputs": [
    {
     "data": {
      "text/plain": [
       "Text(0, 0.5, 'Frequency')"
      ]
     },
     "execution_count": 85,
     "metadata": {},
     "output_type": "execute_result"
    },
    {
     "data": {
      "image/png": "[encoded data removed]",
      "text/plain": [
       "<Figure size 432x288 with 1 Axes>"
      ]
     },
     "metadata": {
      "needs_background": "light"
     },
     "output_type": "display_data"
    }
   ],
   "source": [
    "fig2 = solution.fluxes[solution.fluxes != 0.].hist()\n",
    "fig2.set_xlabel('flux [$mmol gDW^{-1} h^{-1}]$')\n",
    "fig2.set_ylabel('Frequency')"
   ]
  },
  {
   "cell_type": "code",
   "execution_count": null,
   "id": "753225e1-4b12-4db2-a6a3-174f8d45ce9d",
   "metadata": {},
   "outputs": [],
   "source": []
  },
  {
   "cell_type": "code",
   "execution_count": null,
   "id": "1bcef134-35ff-4ab4-91b7-4bec2ff196a5",
   "metadata": {},
   "outputs": [],
   "source": []
  },
  {
   "cell_type": "code",
   "execution_count": null,
   "id": "d280ec02-e7fd-4df0-9485-74f8995344a5",
   "metadata": {},
   "outputs": [],
   "source": []
  },
  {
   "cell_type": "code",
   "execution_count": null,
   "id": "a0be948e-cea6-4560-bcc3-b8ba604feb14",
   "metadata": {},
   "outputs": [],
   "source": []
  },
  {
   "cell_type": "code",
   "execution_count": 29,
   "id": "873889b8-e79c-4332-8085-c5e5d60337e2",
   "metadata": {},
   "outputs": [],
   "source": [
    "from cobra.flux_analysis import flux_variability_analysis"
   ]
  },
  {
   "cell_type": "code",
   "execution_count": 40,
   "id": "095b8b30-982c-44ca-af3d-73d0bd86d93c",
   "metadata": {},
   "outputs": [
    {
     "name": "stdout",
     "output_type": "stream",
     "text": [
      "              minimum  maximum\n",
      "EX_tyr__L_e  0.000000  0.56469\n",
      "TOCOPHOM1    1.100565  1.22285\n",
      "TYRTA       -0.564690  0.00000\n"
     ]
    }
   ],
   "source": [
    "with model:\n",
    "    reactions_subset = [model.reactions.EX_tyr__L_e, model.reactions.TOCOPHOM1, model.reactions.TYRTA]\n",
    "    fva = flux_variability_analysis(model, reaction_list = reactions_subset, fraction_of_optimum=0.9)\n",
    "print(fva)"
   ]
  },
  {
   "cell_type": "code",
   "execution_count": 41,
   "id": "d4cc500d-15c6-40bf-80e0-323edd0e171f",
   "metadata": {},
   "outputs": [
    {
     "name": "stdout",
     "output_type": "stream",
     "text": [
      "              minimum   maximum\n",
      "EX_tyr__L_e -2.466999 -0.840082\n",
      "TYRTA        0.840082  1.560858\n",
      "TOCOPHOM1    1.404772  1.560858\n"
     ]
    }
   ],
   "source": [
    "medium = model.medium\n",
    "with model:\n",
    "    model.reactions.EX_tyr__L_e.lower_bound = -10\n",
    "    reactions_tt = [model.reactions.EX_tyr__L_e, model.reactions.TYRTA, model.reactions.TOCOPHOM1]\n",
    "    fva = flux_variability_analysis(model, reaction_list = reactions_tt, fraction_of_optimum=0.9)\n",
    "print(fva)"
   ]
  },
  {
   "cell_type": "code",
   "execution_count": 51,
   "id": "e02d30f3-197b-4d22-92ea-792a2c3d02a2",
   "metadata": {},
   "outputs": [
    {
     "name": "stdout",
     "output_type": "stream",
     "text": [
      "                                 minimum   maximum\n",
      "BIOMASS_Ec_iML1515_core_75p37M  0.000000  0.091468\n",
      "EX_tyr__L_e                    -2.466999 -0.840082\n",
      "TYRTA                           0.840082  1.560858\n",
      "TOCOPHOM1                       1.404772  1.560858\n"
     ]
    }
   ],
   "source": [
    "medium = model.medium\n",
    "with model:\n",
    "    model.reactions.EX_tyr__L_e.lower_bound = -10\n",
    "    #model.reactions.TYRTA.lower_bound = 1.5\n",
    "    reactions_tt = [model.reactions.BIOMASS_Ec_iML1515_core_75p37M, model.reactions.EX_tyr__L_e, model.reactions.TYRTA, model.reactions.TOCOPHOM1]\n",
    "    fva = flux_variability_analysis(model, reaction_list = reactions_tt, fraction_of_optimum=0.9)\n",
    "print(fva)"
   ]
  },
  {
   "cell_type": "markdown",
   "id": "6ff19285-891d-41cb-b255-29bed47266af",
   "metadata": {},
   "source": [
    "## Fluxes with considering biomass growth rate"
   ]
  },
  {
   "cell_type": "code",
   "execution_count": 50,
   "id": "a9d6d22f-4cc3-48fa-8254-05655275fa7b",
   "metadata": {},
   "outputs": [
    {
     "name": "stdout",
     "output_type": "stream",
     "text": [
      "                                 minimum   maximum\n",
      "BIOMASS_Ec_iML1515_core_75p37M  0.440000  0.483911\n",
      "EX_tyr__L_e                     0.000000  0.282438\n",
      "TYRTA                          -0.343210 -0.060772\n",
      "TOCOPHOM1                       0.552051  0.613390\n"
     ]
    }
   ],
   "source": [
    "medium = model.medium\n",
    "with model:\n",
    "    model.reactions.BIOMASS_Ec_iML1515_core_75p37M.lower_bound = 0.44\n",
    "    reactions_tt = [model.reactions.BIOMASS_Ec_iML1515_core_75p37M, model.reactions.EX_tyr__L_e, model.reactions.TYRTA, model.reactions.TOCOPHOM1]\n",
    "    fva = flux_variability_analysis(model, reaction_list = reactions_tt, fraction_of_optimum=0.9)\n",
    "print(fva)"
   ]
  },
  {
   "cell_type": "markdown",
   "id": "a4bf759a-a46e-4efb-be77-f446ef8e49e9",
   "metadata": {},
   "source": [
    "When fixing the biomass growth to half of the optimal growth, the max. flux to alpha-tocopherol is 0.61"
   ]
  },
  {
   "cell_type": "code",
   "execution_count": 49,
   "id": "1a93b55d-c964-44cc-bec8-55bad67adbde",
   "metadata": {},
   "outputs": [
    {
     "name": "stdout",
     "output_type": "stream",
     "text": [
      "                                 minimum   maximum\n",
      "BIOMASS_Ec_iML1515_core_75p37M  0.440000  0.485597\n",
      "EX_tyr__L_e                    -1.331703 -0.488684\n",
      "TYRTA                           0.427912  0.798973\n",
      "TOCOPHOM1                       0.719075  0.798973\n"
     ]
    }
   ],
   "source": [
    "medium = model.medium\n",
    "with model:\n",
    "    model.reactions.EX_tyr__L_e.lower_bound = -10\n",
    "    model.reactions.BIOMASS_Ec_iML1515_core_75p37M.lower_bound = 0.44\n",
    "    reactions_tt = [model.reactions.BIOMASS_Ec_iML1515_core_75p37M, model.reactions.EX_tyr__L_e, model.reactions.TYRTA, model.reactions.TOCOPHOM1]\n",
    "    fva = flux_variability_analysis(model, reaction_list = reactions_tt, fraction_of_optimum=0.9)\n",
    "print(fva)"
   ]
  },
  {
   "cell_type": "markdown",
   "id": "3abe2a05-f963-4c7c-b528-3e0dd5b91e9b",
   "metadata": {},
   "source": [
    "By simulating tyrosine uptake from the medium, the flux to alpha-tocopherol can be increased to 0.80"
   ]
  },
  {
   "cell_type": "code",
   "execution_count": 52,
   "id": "2d270f67-e78b-4562-af90-c696121ef212",
   "metadata": {},
   "outputs": [
    {
     "data": {
      "text/html": [
       "\n",
       "        <table>\n",
       "            <tr>\n",
       "                <td><strong>Metabolite identifier</strong></td><td>tyr__L_c</td>\n",
       "            </tr><tr>\n",
       "                <td><strong>Name</strong></td><td>L-Tyrosine</td>\n",
       "            </tr><tr>\n",
       "                <td><strong>Memory address</strong></td>\n",
       "                <td>0x07fe813873190</td>\n",
       "            </tr><tr>\n",
       "                <td><strong>Formula</strong></td><td>C9H11NO3</td>\n",
       "            </tr><tr>\n",
       "                <td><strong>Compartment</strong></td><td>c</td>\n",
       "            </tr><tr>\n",
       "                <td><strong>In 6 reaction(s)</strong></td><td>\n",
       "                    BIOMASS_Ec_iML1515_core_75p37M, TYRL, TYRt2rpp, BIOMASS_Ec_iML1515_WT_75p37M, TYRTA, TYRtipp</td>\n",
       "            </tr>\n",
       "        </table>"
      ],
      "text/plain": [
       "<Metabolite tyr__L_c at 0x7fe813873190>"
      ]
     },
     "execution_count": 52,
     "metadata": {},
     "output_type": "execute_result"
    }
   ],
   "source": [
    "model.metabolites.tyr__L_c"
   ]
  },
  {
   "cell_type": "code",
   "execution_count": 53,
   "id": "e940ff4b-db1a-43b2-84f4-9e6c269396d3",
   "metadata": {},
   "outputs": [
    {
     "data": {
      "text/html": [
       "\n",
       "        <table>\n",
       "            <tr>\n",
       "                <td><strong>Reaction identifier</strong></td><td>TYRL</td>\n",
       "            </tr><tr>\n",
       "                <td><strong>Name</strong></td><td>Tyrosine lyase</td>\n",
       "            </tr><tr>\n",
       "                <td><strong>Memory address</strong></td>\n",
       "                <td>0x07fe81598a550</td>\n",
       "            </tr><tr>\n",
       "                <td><strong>Stoichiometry</strong></td>\n",
       "                <td>\n",
       "                    <p style='text-align:right'>amet_c + nadph_c + tyr__L_c --> 4crsol_c + dad_5_c + dhgly_c + h_c + met__L_c + nadp_c</p>\n",
       "                    <p style='text-align:right'>S-Adenosyl-L-methionine + Nicotinamide adenine dinucleotide phosphate - reduced + L-Tyrosine --> P-Cresol + 5'-Deoxyadenosine + Dehydroglycine + H+ + L-Methionine + Nicotinamide adenine...</p>\n",
       "                </td>\n",
       "            </tr><tr>\n",
       "                <td><strong>GPR</strong></td><td>b3991</td>\n",
       "            </tr><tr>\n",
       "                <td><strong>Lower bound</strong></td><td>0.0</td>\n",
       "            </tr><tr>\n",
       "                <td><strong>Upper bound</strong></td><td>1000.0</td>\n",
       "            </tr>\n",
       "        </table>\n",
       "        "
      ],
      "text/plain": [
       "<Reaction TYRL at 0x7fe81598a550>"
      ]
     },
     "execution_count": 53,
     "metadata": {},
     "output_type": "execute_result"
    }
   ],
   "source": [
    "model.reactions.TYRL"
   ]
  },
  {
   "cell_type": "code",
   "execution_count": 54,
   "id": "1c426f92-1dff-4786-a763-8b664f12f378",
   "metadata": {},
   "outputs": [
    {
     "data": {
      "text/html": [
       "\n",
       "        <table>\n",
       "            <tr>\n",
       "                <td><strong>Reaction identifier</strong></td><td>TYRtipp</td>\n",
       "            </tr><tr>\n",
       "                <td><strong>Name</strong></td><td>L-tyrosine transport out (periplasm)</td>\n",
       "            </tr><tr>\n",
       "                <td><strong>Memory address</strong></td>\n",
       "                <td>0x07fe8158d90a0</td>\n",
       "            </tr><tr>\n",
       "                <td><strong>Stoichiometry</strong></td>\n",
       "                <td>\n",
       "                    <p style='text-align:right'>tyr__L_c --> tyr__L_p</p>\n",
       "                    <p style='text-align:right'>L-Tyrosine --> L-Tyrosine</p>\n",
       "                </td>\n",
       "            </tr><tr>\n",
       "                <td><strong>GPR</strong></td><td>b1473</td>\n",
       "            </tr><tr>\n",
       "                <td><strong>Lower bound</strong></td><td>0.0</td>\n",
       "            </tr><tr>\n",
       "                <td><strong>Upper bound</strong></td><td>1000.0</td>\n",
       "            </tr>\n",
       "        </table>\n",
       "        "
      ],
      "text/plain": [
       "<Reaction TYRtipp at 0x7fe8158d90a0>"
      ]
     },
     "execution_count": 54,
     "metadata": {},
     "output_type": "execute_result"
    }
   ],
   "source": [
    "model.reactions.TYRtipp"
   ]
  },
  {
   "cell_type": "code",
   "execution_count": 55,
   "id": "a49b9171-d87c-48b0-81e1-9dd4d1def34e",
   "metadata": {},
   "outputs": [
    {
     "data": {
      "text/html": [
       "\n",
       "        <table>\n",
       "            <tr>\n",
       "                <td><strong>Reaction identifier</strong></td><td>TYRt2rpp</td>\n",
       "            </tr><tr>\n",
       "                <td><strong>Name</strong></td><td>L-tyrosine reversible transport via proton symport (periplasm)</td>\n",
       "            </tr><tr>\n",
       "                <td><strong>Memory address</strong></td>\n",
       "                <td>0x07fe8148d3160</td>\n",
       "            </tr><tr>\n",
       "                <td><strong>Stoichiometry</strong></td>\n",
       "                <td>\n",
       "                    <p style='text-align:right'>h_p + tyr__L_p <=> h_c + tyr__L_c</p>\n",
       "                    <p style='text-align:right'>H+ + L-Tyrosine <=> H+ + L-Tyrosine</p>\n",
       "                </td>\n",
       "            </tr><tr>\n",
       "                <td><strong>GPR</strong></td><td>b1907 or b0112</td>\n",
       "            </tr><tr>\n",
       "                <td><strong>Lower bound</strong></td><td>-1000.0</td>\n",
       "            </tr><tr>\n",
       "                <td><strong>Upper bound</strong></td><td>1000.0</td>\n",
       "            </tr>\n",
       "        </table>\n",
       "        "
      ],
      "text/plain": [
       "<Reaction TYRt2rpp at 0x7fe8148d3160>"
      ]
     },
     "execution_count": 55,
     "metadata": {},
     "output_type": "execute_result"
    }
   ],
   "source": [
    "model.reactions.TYRt2rpp"
   ]
  },
  {
   "cell_type": "code",
   "execution_count": 57,
   "id": "015b2f43-1af1-4fa3-a2d9-73ba47b757ec",
   "metadata": {},
   "outputs": [
    {
     "name": "stdout",
     "output_type": "stream",
     "text": [
      "                                 minimum    maximum\n",
      "BIOMASS_Ec_iML1515_core_75p37M  0.440000   0.485597\n",
      "BIOMASS_Ec_iML1515_WT_75p37M    0.000000   0.000000\n",
      "TYRt2rpp                        0.488684  48.239408\n",
      "TYRtipp                         0.000000  47.459561\n",
      "TYRL                            0.000098   0.551953\n"
     ]
    }
   ],
   "source": [
    "medium = model.medium\n",
    "with model:\n",
    "    model.reactions.EX_tyr__L_e.lower_bound = -10\n",
    "    model.reactions.BIOMASS_Ec_iML1515_core_75p37M.lower_bound = 0.44\n",
    "    reactions_tt = [model.reactions.BIOMASS_Ec_iML1515_core_75p37M, model.reactions.BIOMASS_Ec_iML1515_WT_75p37M, model.reactions.TYRt2rpp, model.reactions.TYRtipp, model.reactions.TYRL]\n",
    "    fva = flux_variability_analysis(model, reaction_list = reactions_tt, fraction_of_optimum=0.9)\n",
    "print(fva)"
   ]
  },
  {
   "cell_type": "code",
   "execution_count": 58,
   "id": "5ce591e8-527a-465a-beed-894b60609509",
   "metadata": {},
   "outputs": [
    {
     "name": "stdout",
     "output_type": "stream",
     "text": [
      "                                 minimum   maximum\n",
      "BIOMASS_Ec_iML1515_core_75p37M  0.440000  0.485597\n",
      "EX_tyr__L_e                    -1.331703 -0.488684\n",
      "TYRTA                           0.427912  0.798973\n",
      "TOCOPHOM1                       0.719075  0.798973\n"
     ]
    }
   ],
   "source": [
    "medium = model.medium\n",
    "with model:\n",
    "    model.reactions.EX_tyr__L_e.lower_bound = -10\n",
    "    model.reactions.BIOMASS_Ec_iML1515_core_75p37M.lower_bound = 0.44\n",
    "    model.reactions.TYRt2rpp.upper_bound = 10\n",
    "    model.reactions.TYRtipp.upper_bound = 10\n",
    "    reactions_tt = [model.reactions.BIOMASS_Ec_iML1515_core_75p37M, model.reactions.EX_tyr__L_e, model.reactions.TYRTA, model.reactions.TOCOPHOM1]\n",
    "    fva = flux_variability_analysis(model, reaction_list = reactions_tt, fraction_of_optimum=0.9)\n",
    "print(fva)"
   ]
  },
  {
   "cell_type": "code",
   "execution_count": 65,
   "id": "60371c24-31af-44c7-90bd-821e4a3fb0d8",
   "metadata": {},
   "outputs": [
    {
     "name": "stdout",
     "output_type": "stream",
     "text": [
      "[0.7989720203366939, -0.8597443803366946]\n"
     ]
    }
   ],
   "source": [
    "with model:\n",
    "    model.reactions.EX_tyr__L_e.lower_bound = -10\n",
    "    model.reactions.BIOMASS_Ec_iML1515_core_75p37M.lower_bound = 0.44\n",
    "    solution = model.optimize()\n",
    "    #model.reactions.EX_glc__D_e.flux\n",
    "    reaction_list = [solution.fluxes.TYRTA, solution.fluxes.EX_tyr__L_e]\n",
    "    print(reaction_list)"
   ]
  },
  {
   "cell_type": "code",
   "execution_count": 67,
   "id": "a596d511-c1b7-4c42-80a2-730881d6d3a4",
   "metadata": {},
   "outputs": [
    {
     "data": {
      "text/plain": [
       "0.0"
      ]
     },
     "execution_count": 67,
     "metadata": {},
     "output_type": "execute_result"
    }
   ],
   "source": [
    "solution = model.optimize()\n",
    "solution.fluxes.TYRL\n"
   ]
  },
  {
   "cell_type": "code",
   "execution_count": null,
   "id": "91ac429a-eeeb-4014-a3d3-46b2be839add",
   "metadata": {},
   "outputs": [],
   "source": []
  },
  {
   "cell_type": "code",
   "execution_count": null,
   "id": "c6e0ab66-141e-478f-a169-0428534147c1",
   "metadata": {},
   "outputs": [],
   "source": []
  }
 ],
 "metadata": {
  "kernelspec": {
   "display_name": "Python 3",
   "language": "python",
   "name": "python3"
  },
  "language_info": {
   "codemirror_mode": {
    "name": "ipython",
    "version": 3
   },
   "file_extension": ".py",
   "mimetype": "text/x-python",
   "name": "python",
   "nbconvert_exporter": "python",
   "pygments_lexer": "ipython3",
   "version": "3.8.8"
  }
 },
 "nbformat": 4,
 "nbformat_minor": 5
}

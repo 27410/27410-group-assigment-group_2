{
 "cells": [
  {
   "cell_type": "code",
   "execution_count": 10,
   "id": "49494516-ed58-45f7-a435-bce7ebd06b48",
   "metadata": {},
   "outputs": [],
   "source": [
    "import cobra\n",
    "from cobra.io import read_sbml_model\n",
    "from cobra import Reaction, Metabolite\n",
    "\n",
    "# Read model (model of Escherichia coli)\n",
    "model = read_sbml_model('model_atocopherol.xml')"
   ]
  },
  {
   "cell_type": "code",
   "execution_count": 11,
   "id": "9e958d20-74f2-48a6-8021-81e4633a30bc",
   "metadata": {},
   "outputs": [],
   "source": [
    "model.objective = model.reactions.TOCOPHOM1"
   ]
  },
  {
   "cell_type": "code",
   "execution_count": 12,
   "id": "7dc749e7-7982-4a1b-ae7a-0636cd586360",
   "metadata": {},
   "outputs": [
    {
     "name": "stdout",
     "output_type": "stream",
     "text": [
      "Maximize\n",
      "1.0*TOCOPHOM1 - 1.0*TOCOPHOM1_reverse_7c610\n"
     ]
    }
   ],
   "source": [
    "print(model.objective)"
   ]
  },
  {
   "cell_type": "code",
   "execution_count": 13,
   "id": "1b0b6f6e-392d-474b-98cb-e9d30ad7f386",
   "metadata": {},
   "outputs": [
    {
     "name": "stdout",
     "output_type": "stream",
     "text": [
      "            minimum   maximum\n",
      "PPND       1.100565  1.665255\n",
      "TOCOPHOM1  1.100565  1.222850\n"
     ]
    }
   ],
   "source": [
    "from cobra.flux_analysis import flux_variability_analysis\n",
    "reactions_OE = [model.reactions.PPND, model.reactions.TOCOPHOM1]\n",
    "fva = flux_variability_analysis(model, reaction_list = reactions_OE, fraction_of_optimum=0.9)\n",
    "print(fva)"
   ]
  },
  {
   "cell_type": "code",
   "execution_count": 19,
   "id": "bedadf39-fc9b-41b7-9b3d-ad697613f6a3",
   "metadata": {},
   "outputs": [
    {
     "name": "stdout",
     "output_type": "stream",
     "text": [
      "           minimum  maximum\n",
      "TOCOPHOM1      1.2  1.22285\n"
     ]
    }
   ],
   "source": [
    "# higher bounds\n",
    "with model:\n",
    "    #model.reactions.PPND.lower_bound = 2\n",
    "    model.reactions.TOCOPHOM1.lower_bound = 1.2\n",
    "    #model.reactions.EX_ptrc_e.lower_bound = 1\n",
    "    #reactions_OE = [model.reactions.PPND, model.reactions.TOCOPHOM1]\n",
    "    reactions_OE = model.reactions.TOCOPHOM1\n",
    "    fva = flux_variability_analysis(model, reaction_list = reactions_OE, fraction_of_optimum=0.9)\n",
    "    print(fva)"
   ]
  },
  {
   "cell_type": "code",
   "execution_count": 20,
   "id": "4155d437-1dc8-4033-b239-eed6f5120ab6",
   "metadata": {},
   "outputs": [
    {
     "name": "stdout",
     "output_type": "stream",
     "text": [
      "            minimum   maximum\n",
      "PPND       1.100565  1.665255\n",
      "34HPPOR    1.100565  1.222850\n",
      "HGPHT      1.100565  1.222850\n",
      "MPBQ       1.100565  1.222850\n",
      "TOCOPHS1   1.100565  1.222850\n",
      "TOCOPHOM1  1.100565  1.222850\n"
     ]
    }
   ],
   "source": [
    "from cobra.flux_analysis import flux_variability_analysis\n",
    "reactions_OE = [model.reactions.PPND, model.reactions.get_by_id('34HPPOR'), model.reactions.HGPHT, model.reactions.MPBQ, model.reactions.TOCOPHS1, model.reactions.TOCOPHOM1]\n",
    "fva = flux_variability_analysis(model, reaction_list = reactions_OE, fraction_of_optimum=0.9)\n",
    "print(fva)"
   ]
  },
  {
   "cell_type": "code",
   "execution_count": 22,
   "id": "f877c2f6-97c0-4899-871c-e939c85e14aa",
   "metadata": {},
   "outputs": [
    {
     "ename": "Infeasible",
     "evalue": "There is no optimal solution for the chosen objective! (infeasible).",
     "output_type": "error",
     "traceback": [
      "\u001b[0;31m---------------------------------------------------------------------------\u001b[0m",
      "\u001b[0;31mInfeasible\u001b[0m                                Traceback (most recent call last)",
      "\u001b[0;32m<ipython-input-22-01fffd2a9842>\u001b[0m in \u001b[0;36m<module>\u001b[0;34m\u001b[0m\n\u001b[1;32m      8\u001b[0m     \u001b[0mmodel\u001b[0m\u001b[0;34m.\u001b[0m\u001b[0mreactions\u001b[0m\u001b[0;34m.\u001b[0m\u001b[0mTOCOPHOM1\u001b[0m\u001b[0;34m.\u001b[0m\u001b[0mlower_bound\u001b[0m \u001b[0;34m=\u001b[0m \u001b[0;36m1.2\u001b[0m\u001b[0;34m\u001b[0m\u001b[0;34m\u001b[0m\u001b[0m\n\u001b[1;32m      9\u001b[0m     \u001b[0mreactions_OE\u001b[0m \u001b[0;34m=\u001b[0m \u001b[0;34m[\u001b[0m\u001b[0mmodel\u001b[0m\u001b[0;34m.\u001b[0m\u001b[0mreactions\u001b[0m\u001b[0;34m.\u001b[0m\u001b[0mPPND\u001b[0m\u001b[0;34m,\u001b[0m \u001b[0mmodel\u001b[0m\u001b[0;34m.\u001b[0m\u001b[0mreactions\u001b[0m\u001b[0;34m.\u001b[0m\u001b[0mget_by_id\u001b[0m\u001b[0;34m(\u001b[0m\u001b[0;34m'34HPPOR'\u001b[0m\u001b[0;34m)\u001b[0m\u001b[0;34m,\u001b[0m \u001b[0mmodel\u001b[0m\u001b[0;34m.\u001b[0m\u001b[0mreactions\u001b[0m\u001b[0;34m.\u001b[0m\u001b[0mHGPHT\u001b[0m\u001b[0;34m,\u001b[0m \u001b[0mmodel\u001b[0m\u001b[0;34m.\u001b[0m\u001b[0mreactions\u001b[0m\u001b[0;34m.\u001b[0m\u001b[0mMPBQ\u001b[0m\u001b[0;34m,\u001b[0m \u001b[0mmodel\u001b[0m\u001b[0;34m.\u001b[0m\u001b[0mreactions\u001b[0m\u001b[0;34m.\u001b[0m\u001b[0mTOCOPHS1\u001b[0m\u001b[0;34m,\u001b[0m \u001b[0mmodel\u001b[0m\u001b[0;34m.\u001b[0m\u001b[0mreactions\u001b[0m\u001b[0;34m.\u001b[0m\u001b[0mTOCOPHOM1\u001b[0m\u001b[0;34m]\u001b[0m\u001b[0;34m\u001b[0m\u001b[0;34m\u001b[0m\u001b[0m\n\u001b[0;32m---> 10\u001b[0;31m     \u001b[0mfva\u001b[0m \u001b[0;34m=\u001b[0m \u001b[0mflux_variability_analysis\u001b[0m\u001b[0;34m(\u001b[0m\u001b[0mmodel\u001b[0m\u001b[0;34m,\u001b[0m \u001b[0mreaction_list\u001b[0m \u001b[0;34m=\u001b[0m \u001b[0mreactions_OE\u001b[0m\u001b[0;34m,\u001b[0m \u001b[0mfraction_of_optimum\u001b[0m\u001b[0;34m=\u001b[0m\u001b[0;36m0.9\u001b[0m\u001b[0;34m)\u001b[0m\u001b[0;34m\u001b[0m\u001b[0;34m\u001b[0m\u001b[0m\n\u001b[0m\u001b[1;32m     11\u001b[0m     \u001b[0mprint\u001b[0m\u001b[0;34m(\u001b[0m\u001b[0mfva\u001b[0m\u001b[0;34m)\u001b[0m\u001b[0;34m\u001b[0m\u001b[0;34m\u001b[0m\u001b[0m\n",
      "\u001b[0;32m/opt/anaconda3/lib/python3.8/site-packages/cobra/flux_analysis/variability.py\u001b[0m in \u001b[0;36mflux_variability_analysis\u001b[0;34m(model, reaction_list, loopless, fraction_of_optimum, pfba_factor, processes)\u001b[0m\n\u001b[1;32m    186\u001b[0m     \u001b[0;32mwith\u001b[0m \u001b[0mmodel\u001b[0m\u001b[0;34m:\u001b[0m\u001b[0;34m\u001b[0m\u001b[0;34m\u001b[0m\u001b[0m\n\u001b[1;32m    187\u001b[0m         \u001b[0;31m# Safety check before setting up FVA.\u001b[0m\u001b[0;34m\u001b[0m\u001b[0;34m\u001b[0m\u001b[0;34m\u001b[0m\u001b[0m\n\u001b[0;32m--> 188\u001b[0;31m         model.slim_optimize(\n\u001b[0m\u001b[1;32m    189\u001b[0m             \u001b[0merror_value\u001b[0m\u001b[0;34m=\u001b[0m\u001b[0;32mNone\u001b[0m\u001b[0;34m,\u001b[0m\u001b[0;34m\u001b[0m\u001b[0;34m\u001b[0m\u001b[0m\n\u001b[1;32m    190\u001b[0m             \u001b[0mmessage\u001b[0m\u001b[0;34m=\u001b[0m\u001b[0;34m\"There is no optimal solution for the chosen objective!\"\u001b[0m\u001b[0;34m,\u001b[0m\u001b[0;34m\u001b[0m\u001b[0;34m\u001b[0m\u001b[0m\n",
      "\u001b[0;32m/opt/anaconda3/lib/python3.8/site-packages/cobra/core/model.py\u001b[0m in \u001b[0;36mslim_optimize\u001b[0;34m(self, error_value, message)\u001b[0m\n\u001b[1;32m   1061\u001b[0m             \u001b[0;32mreturn\u001b[0m \u001b[0merror_value\u001b[0m\u001b[0;34m\u001b[0m\u001b[0;34m\u001b[0m\u001b[0m\n\u001b[1;32m   1062\u001b[0m         \u001b[0;32melse\u001b[0m\u001b[0;34m:\u001b[0m\u001b[0;34m\u001b[0m\u001b[0;34m\u001b[0m\u001b[0m\n\u001b[0;32m-> 1063\u001b[0;31m             \u001b[0massert_optimal\u001b[0m\u001b[0;34m(\u001b[0m\u001b[0mself\u001b[0m\u001b[0;34m,\u001b[0m \u001b[0mmessage\u001b[0m\u001b[0;34m)\u001b[0m\u001b[0;34m\u001b[0m\u001b[0;34m\u001b[0m\u001b[0m\n\u001b[0m\u001b[1;32m   1064\u001b[0m \u001b[0;34m\u001b[0m\u001b[0m\n\u001b[1;32m   1065\u001b[0m     \u001b[0;32mdef\u001b[0m \u001b[0moptimize\u001b[0m\u001b[0;34m(\u001b[0m\u001b[0mself\u001b[0m\u001b[0;34m,\u001b[0m \u001b[0mobjective_sense\u001b[0m\u001b[0;34m=\u001b[0m\u001b[0;32mNone\u001b[0m\u001b[0;34m,\u001b[0m \u001b[0mraise_error\u001b[0m\u001b[0;34m=\u001b[0m\u001b[0;32mFalse\u001b[0m\u001b[0;34m)\u001b[0m\u001b[0;34m:\u001b[0m\u001b[0;34m\u001b[0m\u001b[0;34m\u001b[0m\u001b[0m\n",
      "\u001b[0;32m/opt/anaconda3/lib/python3.8/site-packages/cobra/util/solver.py\u001b[0m in \u001b[0;36massert_optimal\u001b[0;34m(model, message)\u001b[0m\n\u001b[1;32m    588\u001b[0m     \u001b[0;32mif\u001b[0m \u001b[0mstatus\u001b[0m \u001b[0;34m!=\u001b[0m \u001b[0mOPTIMAL\u001b[0m\u001b[0;34m:\u001b[0m\u001b[0;34m\u001b[0m\u001b[0;34m\u001b[0m\u001b[0m\n\u001b[1;32m    589\u001b[0m         \u001b[0mexception_cls\u001b[0m \u001b[0;34m=\u001b[0m \u001b[0mOPTLANG_TO_EXCEPTIONS_DICT\u001b[0m\u001b[0;34m.\u001b[0m\u001b[0mget\u001b[0m\u001b[0;34m(\u001b[0m\u001b[0mstatus\u001b[0m\u001b[0;34m,\u001b[0m \u001b[0mOptimizationError\u001b[0m\u001b[0;34m)\u001b[0m\u001b[0;34m\u001b[0m\u001b[0;34m\u001b[0m\u001b[0m\n\u001b[0;32m--> 590\u001b[0;31m         \u001b[0;32mraise\u001b[0m \u001b[0mexception_cls\u001b[0m\u001b[0;34m(\u001b[0m\u001b[0;34mf\"{message} ({status}).\"\u001b[0m\u001b[0;34m)\u001b[0m\u001b[0;34m\u001b[0m\u001b[0;34m\u001b[0m\u001b[0m\n\u001b[0m\u001b[1;32m    591\u001b[0m \u001b[0;34m\u001b[0m\u001b[0m\n\u001b[1;32m    592\u001b[0m \u001b[0;34m\u001b[0m\u001b[0m\n",
      "\u001b[0;31mInfeasible\u001b[0m: There is no optimal solution for the chosen objective! (infeasible)."
     ]
    }
   ],
   "source": [
    "# higher bounds\n",
    "with model:\n",
    "    model.reactions.PPND.lower_bound = 2\n",
    "    model.reactions.get_by_id('34HPPOR').lower_bound = 1.1\n",
    "    model.reactions.HGPHT.lower_bound = 1.1\n",
    "    model.reactions.MPBQ.lower_bound = 1.1\n",
    "    model.reactions.TOCOPHS1.lower_bound = 1.1\n",
    "    model.reactions.TOCOPHOM1.lower_bound = 1.1\n",
    "    reactions_OE = [model.reactions.PPND, model.reactions.get_by_id('34HPPOR'), model.reactions.HGPHT, model.reactions.MPBQ, model.reactions.TOCOPHS1, model.reactions.TOCOPHOM1]\n",
    "    fva = flux_variability_analysis(model, reaction_list = reactions_OE, fraction_of_optimum=0.9)\n",
    "    print(fva)\n"
   ]
  },
  {
   "cell_type": "code",
   "execution_count": null,
   "id": "fe87711e-ab9b-45db-8b3f-9678dd2ec6cd",
   "metadata": {},
   "outputs": [],
   "source": []
  }
 ],
 "metadata": {
  "kernelspec": {
   "display_name": "Python 3",
   "language": "python",
   "name": "python3"
  },
  "language_info": {
   "codemirror_mode": {
    "name": "ipython",
    "version": 3
   },
   "file_extension": ".py",
   "mimetype": "text/x-python",
   "name": "python",
   "nbconvert_exporter": "python",
   "pygments_lexer": "ipython3",
   "version": "3.8.8"
  }
 },
 "nbformat": 4,
 "nbformat_minor": 5
}

{
 "cells": [
  {
   "cell_type": "code",
   "execution_count": 1,
   "id": "49494516-ed58-45f7-a435-bce7ebd06b48",
   "metadata": {},
   "outputs": [],
   "source": [
    "import cobra\n",
    "from cobra.io import read_sbml_model\n",
    "from cobra import Reaction, Metabolite\n",
    "\n",
    "# Read model (model of Escherichia coli)\n",
    "model = read_sbml_model('model_atocopherol.xml')"
   ]
  },
  {
   "cell_type": "code",
   "execution_count": 2,
   "id": "9e958d20-74f2-48a6-8021-81e4633a30bc",
   "metadata": {},
   "outputs": [],
   "source": [
    "model.objective = model.reactions.TOCOPHOM1"
   ]
  },
  {
   "cell_type": "code",
   "execution_count": 3,
   "id": "7dc749e7-7982-4a1b-ae7a-0636cd586360",
   "metadata": {},
   "outputs": [
    {
     "name": "stdout",
     "output_type": "stream",
     "text": [
      "Maximize\n",
      "1.0*TOCOPHOM1 - 1.0*TOCOPHOM1_reverse_7c610\n"
     ]
    }
   ],
   "source": [
    "print(model.objective)"
   ]
  },
  {
   "cell_type": "code",
   "execution_count": 6,
   "id": "1b0b6f6e-392d-474b-98cb-e9d30ad7f386",
   "metadata": {},
   "outputs": [
    {
     "name": "stdout",
     "output_type": "stream",
     "text": [
      "            minimum   maximum\n",
      "PPND       1.100565  1.665255\n",
      "TOCOPHOM1  1.100565  1.222850\n"
     ]
    }
   ],
   "source": [
    "from cobra.flux_analysis import flux_variability_analysis\n",
    "reactions_OE = [model.reactions.PPND, model.reactions.TOCOPHOM1]\n",
    "fva = flux_variability_analysis(model, reaction_list = reactions_OE, fraction_of_optimum=0.9)\n",
    "print(fva)"
   ]
  },
  {
   "cell_type": "code",
   "execution_count": 9,
   "id": "bedadf39-fc9b-41b7-9b3d-ad697613f6a3",
   "metadata": {},
   "outputs": [
    {
     "name": "stdout",
     "output_type": "stream",
     "text": [
      "           minimum   maximum\n",
      "PPND           2.0  2.029080\n",
      "TOCOPHOM1      1.0  1.008038\n"
     ]
    }
   ],
   "source": [
    "# higher bounds\n",
    "with model:\n",
    "    model.reactions.PPND.lower_bound = 2\n",
    "    model.reactions.TOCOPHOM1.lower_bound = 1\n",
    "    #model.reactions.EX_ptrc_e.lower_bound = 1\n",
    "    reactions_OE = [model.reactions.PPND, model.reactions.TOCOPHOM1]\n",
    "    fva = flux_variability_analysis(model, reaction_list = reactions_OE, fraction_of_optimum=0.9)\n",
    "    print(fva)"
   ]
  },
  {
   "cell_type": "code",
   "execution_count": null,
   "id": "f877c2f6-97c0-4899-871c-e939c85e14aa",
   "metadata": {},
   "outputs": [],
   "source": [
    "avite_production = model.optimize().objective_value\n"
   ]
  }
 ],
 "metadata": {
  "kernelspec": {
   "display_name": "Python 3",
   "language": "python",
   "name": "python3"
  },
  "language_info": {
   "codemirror_mode": {
    "name": "ipython",
    "version": 3
   },
   "file_extension": ".py",
   "mimetype": "text/x-python",
   "name": "python",
   "nbconvert_exporter": "python",
   "pygments_lexer": "ipython3",
   "version": "3.8.8"
  }
 },
 "nbformat": 4,
 "nbformat_minor": 5
}

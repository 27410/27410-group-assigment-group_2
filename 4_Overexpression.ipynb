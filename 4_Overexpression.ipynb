{
 "cells": [
  {
   "cell_type": "code",
   "execution_count": 27,
   "id": "49494516-ed58-45f7-a435-bce7ebd06b48",
   "metadata": {},
   "outputs": [],
   "source": [
    "import cobra\n",
    "from cobra.io import read_sbml_model\n",
    "from cobra import Reaction, Metabolite\n",
    "\n",
    "# Read model (model of Escherichia coli)\n",
    "model = read_sbml_model('model_atocopherol.xml')"
   ]
  },
  {
   "cell_type": "code",
   "execution_count": 11,
   "id": "9e958d20-74f2-48a6-8021-81e4633a30bc",
   "metadata": {},
   "outputs": [],
   "source": [
    "model.objective = model.reactions.TOCOPHOM1"
   ]
  },
  {
   "cell_type": "code",
   "execution_count": 12,
   "id": "7dc749e7-7982-4a1b-ae7a-0636cd586360",
   "metadata": {},
   "outputs": [
    {
     "name": "stdout",
     "output_type": "stream",
     "text": [
      "Maximize\n",
      "1.0*TOCOPHOM1 - 1.0*TOCOPHOM1_reverse_7c610\n"
     ]
    }
   ],
   "source": [
    "print(model.objective)"
   ]
  },
  {
   "cell_type": "code",
   "execution_count": 13,
   "id": "1b0b6f6e-392d-474b-98cb-e9d30ad7f386",
   "metadata": {},
   "outputs": [
    {
     "name": "stdout",
     "output_type": "stream",
     "text": [
      "            minimum   maximum\n",
      "PPND       1.100565  1.665255\n",
      "TOCOPHOM1  1.100565  1.222850\n"
     ]
    }
   ],
   "source": [
    "from cobra.flux_analysis import flux_variability_analysis\n",
    "reactions_OE = [model.reactions.PPND, model.reactions.TOCOPHOM1]\n",
    "fva = flux_variability_analysis(model, reaction_list = reactions_OE, fraction_of_optimum=0.9)\n",
    "print(fva)"
   ]
  },
  {
   "cell_type": "code",
   "execution_count": 19,
   "id": "bedadf39-fc9b-41b7-9b3d-ad697613f6a3",
   "metadata": {},
   "outputs": [
    {
     "name": "stdout",
     "output_type": "stream",
     "text": [
      "           minimum  maximum\n",
      "TOCOPHOM1      1.2  1.22285\n"
     ]
    }
   ],
   "source": [
    "# higher bounds\n",
    "with model:\n",
    "    #model.reactions.PPND.lower_bound = 2\n",
    "    model.reactions.TOCOPHOM1.lower_bound = 1.2\n",
    "    #model.reactions.EX_ptrc_e.lower_bound = 1\n",
    "    #reactions_OE = [model.reactions.PPND, model.reactions.TOCOPHOM1]\n",
    "    reactions_OE = model.reactions.TOCOPHOM1\n",
    "    fva = flux_variability_analysis(model, reaction_list = reactions_OE, fraction_of_optimum=0.9)\n",
    "    print(fva)"
   ]
  },
  {
   "cell_type": "code",
   "execution_count": 20,
   "id": "4155d437-1dc8-4033-b239-eed6f5120ab6",
   "metadata": {},
   "outputs": [
    {
     "name": "stdout",
     "output_type": "stream",
     "text": [
      "            minimum   maximum\n",
      "PPND       1.100565  1.665255\n",
      "34HPPOR    1.100565  1.222850\n",
      "HGPHT      1.100565  1.222850\n",
      "MPBQ       1.100565  1.222850\n",
      "TOCOPHS1   1.100565  1.222850\n",
      "TOCOPHOM1  1.100565  1.222850\n"
     ]
    }
   ],
   "source": [
    "from cobra.flux_analysis import flux_variability_analysis\n",
    "reactions_OE = [model.reactions.PPND, model.reactions.get_by_id('34HPPOR'), model.reactions.HGPHT, model.reactions.MPBQ, model.reactions.TOCOPHS1, model.reactions.TOCOPHOM1]\n",
    "fva = flux_variability_analysis(model, reaction_list = reactions_OE, fraction_of_optimum=0.9)\n",
    "print(fva)"
   ]
  },
  {
   "cell_type": "code",
   "execution_count": 24,
   "id": "f877c2f6-97c0-4899-871c-e939c85e14aa",
   "metadata": {},
   "outputs": [
    {
     "name": "stdout",
     "output_type": "stream",
     "text": [
      "           minimum   maximum\n",
      "PPND           1.5  1.667299\n",
      "34HPPOR        1.1  1.146243\n",
      "HGPHT          1.1  1.146243\n",
      "MPBQ           1.1  1.146243\n",
      "TOCOPHS1       1.1  1.146243\n",
      "TOCOPHOM1      1.1  1.146243\n"
     ]
    }
   ],
   "source": [
    "# higher bounds\n",
    "with model:\n",
    "    model.reactions.PPND.lower_bound = 1.5\n",
    "    model.reactions.get_by_id('34HPPOR').lower_bound = 1.1\n",
    "    model.reactions.HGPHT.lower_bound = 1.1\n",
    "    model.reactions.MPBQ.lower_bound = 1.1\n",
    "    model.reactions.TOCOPHS1.lower_bound = 1.1\n",
    "    model.reactions.TOCOPHOM1.lower_bound = 1.1\n",
    "    reactions_OE = [model.reactions.PPND, model.reactions.get_by_id('34HPPOR'), model.reactions.HGPHT, model.reactions.MPBQ, model.reactions.TOCOPHS1, model.reactions.TOCOPHOM1]\n",
    "    fva = flux_variability_analysis(model, reaction_list = reactions_OE, fraction_of_optimum=0.9)\n",
    "    print(fva)\n"
   ]
  },
  {
   "cell_type": "code",
   "execution_count": null,
   "id": "fe87711e-ab9b-45db-8b3f-9678dd2ec6cd",
   "metadata": {},
   "outputs": [],
   "source": [
    "#FSEOF Flux Scanning Based On Enforced Objective Flux"
   ]
  },
  {
   "cell_type": "code",
   "execution_count": 28,
   "id": "0b54147f-753d-4896-ad43-78785464ba2d",
   "metadata": {},
   "outputs": [],
   "source": [
    "import cameo\n",
    "from cameo.strain_design.deterministic.flux_variability_based import FSEOF"
   ]
  },
  {
   "cell_type": "code",
   "execution_count": null,
   "id": "55af2d61-0e6d-4b4f-b077-ab32b35d962e",
   "metadata": {},
   "outputs": [],
   "source": [
    "fseof = FSEOF(model)"
   ]
  },
  {
   "cell_type": "code",
   "execution_count": null,
   "id": "bdb59d3c-afc4-46e4-af16-b51ac6191b7f",
   "metadata": {},
   "outputs": [],
   "source": [
    "result = fseof.run(target=model.reactions.TOCOPHOM1)"
   ]
  },
  {
   "cell_type": "code",
   "execution_count": null,
   "id": "30090e60-67fa-4c70-b165-f52fe4757795",
   "metadata": {},
   "outputs": [],
   "source": [
    "result.data_frame"
   ]
  }
 ],
 "metadata": {
  "kernelspec": {
   "display_name": "Python 3",
   "language": "python",
   "name": "python3"
  },
  "language_info": {
   "codemirror_mode": {
    "name": "ipython",
    "version": 3
   },
   "file_extension": ".py",
   "mimetype": "text/x-python",
   "name": "python",
   "nbconvert_exporter": "python",
   "pygments_lexer": "ipython3",
   "version": "3.8.8"
  }
 },
 "nbformat": 4,
 "nbformat_minor": 5
}

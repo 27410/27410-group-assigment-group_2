{
 "cells": [
  {
   "cell_type": "markdown",
   "metadata": {},
   "source": [
    "# Production of alpha-tocopherol (vitamin E) in *Escherichia coli* "
   ]
  },
  {
   "cell_type": "markdown",
   "metadata": {},
   "source": [
    "## 1. Introduction"
   ]
  },
  {
   "cell_type": "markdown",
   "metadata": {},
   "source": [
    "### 1.1 Literature review of the compound vitamin E"
   ]
  },
  {
   "cell_type": "markdown",
   "metadata": {},
   "source": [
    "#### Vitamin E\n",
    "Vitamin E is a fat-soluble vitamin that is mainly found in plant based foods, such as nuts, whole grains and vegetable oil. In resent times, vitamin E has been used as a supplement for its health benefits, either in pill or liquid form, even though it is possible to meet the recommended uptake through diet. Vitamin E is a group of eight chemical structures called tocopherols and tocotrinols, which antioxidant properties helps inhibition of free oxygen and free radical peroxidation of polyunsaturated fatty acids, making them assist in stabilizing the phospholipids of the cell membranes. \n",
    "\n",
    "#### Market size of vitamin E \n",
    "The global natural vitamin E market size was valued at USD 672.18 million in 2018 and is projected to reach USD 1,187.59 million by the end of 2026, exhibiting a CAGR of 7.54% during the forecast period from 2019 to 2026 (Fortune Business Insights 2022; Sumesh et al. 2021)\n",
    "\n",
    "This is due to the increased awareness on personal health and fitness, where vitamins play a big part in the personal diet. There is an all round increase in the interest of vitamins, but we see an especially large increase in Asia these years. The largest market share of vitamin E is found in the aforementioned dietary supplements, with almost 50% of the market share. Followed by food and beverages with approximately 25%. The cosmetic industry is also a user of vitamin E and is responsible for appr. 10% of the market share.  \n",
    "\n",
    "The market is increasing over all generations, like millennials, that have an increased focus on their health. Mostly, it’s the generations above 60 that in developed countries is expected to drive the sale in the future. \n",
    "\n",
    "#### Applications of vitamin E\n",
    "The use of vitamin E has a long list of potential health benefits, among them is prevention of heart disease, a boost of the immune system as well as prevention of inflammation and lowering the risk of some forms of cancer. The research however, is very varying in its conclusion and therefore cannot be generally recommended as a form of treatment. \n",
    "\n",
    "Promising studies show that supplements of vitamin E could benefit people suffering from non-alcoholic fat liver disease by reducing liver enzymes and blood lipid levels, thus improving liver health. \n",
    "\n",
    "Some studies show that vitamin E might delay the progression of Alzheimer’s disease, in those cases, where the progressing is mild to moderate. However, other studies have not been able to find an effect for vitamin E on Alzheimer’s disease. \n",
    "\n",
    "A big potential for vitamin E, is the use in skin treatment, such as eczema, psoriasis and sun burn as well as scar healing, since vitamin E in form of an oil is a great moisturizer. Studies have been made for each subject, but further research is required (Keen et al. 2016; [4][5][6][7]\n"
   ]
  },
  {
   "cell_type": "markdown",
   "metadata": {},
   "source": [
    "### 1.2 Literature review of the cell factory\n",
    "The cell factory that was chosen to be used for the production of alpha-tocopherol is *Escherichia coli* K-12 MG1655. *E. coli* is not a natural producer of alpha-tocopherol but the precursors to the production pathway are present in *E. coli*. Therefore, with the addition of a few enzymatic reactions using metabolic engineering, alpha-tocopherol can be produced in E. coli. The overall process for enabling the production of alpha-tocopherol in *E. coli* begins with adding the additional enzymatic reactions to the natural metabolic pathway of *E. coli*. Secondly, optimization of the production of alpha-tocopherol through modifications to the natural *E. coli* metabolic pathway as well as the added alpha-tocopherol producing pathway takes place.  \n",
    "\n",
    "*E. coli* was chosen as the cell factory for a multitude of reasons. To begin with, *E. coli* is a very well documented and researched bacterium that has been used copious amounts of times to produce a large array of compounds. *E. coli* is also GRAS certified and has been used many times for production of comparable products, meaning it as able to be FDA and EMA approved, which is a crucial stamp of approval when producing compounds for human consumption. Some other advantageous qualities of *E. coli* include its low cost, fast growth rates, high expression capabilities and relatively simple downstream processing (Guerrero et al. 2019). These attributes of *E. coli* are very important to consider when developing a cell factory, as they have a huge influence on the feasibility for future large scale industrial applications.\n",
    "\n",
    "Although *E. coli* seems to be a clear choice for cell factories because of all its advantages, it also has some disadvantages that need to be discussed and considered when determining the optimum cell factory design. When producing larger and more complex compounds in *E. coli*, the simple mechanisms within *E. coli* give it a low ability to perform post-translational modifications (PTMs). This can be quite problematic as PTMs are vital for the functionality of proteins. However, in this cell factory the product, vitamin E, is a relatively small molecule and not a protein and should therefore not have any issues with PTMs. Another quality of *E. coli* that can sometimes be problematic is its production of inclusion bodies. Inclusion bodies are insoluble clusters of proteins that are formed and remain in the cytoplasm of the cell. These inclusion bodies are formed as a result of misfolded proteins (Yang et al. 2011). As these inclusion bodies remain within the cytoplasm, it causes the product purification to be more difficult, which can be a major deciding factor for industrial scale production. However as aforementioned, vitamin E is a simple compound and therefore misfolded proteins should not be an issue, but an understanding of this phenomenon is important for solving potential issues in regards to expression levels of the desired product.\n",
    "\n"
   ]
  },
  {
   "cell_type": "markdown",
   "metadata": {},
   "source": [
    "## 2. Problem definition\n",
    "\n",
    "The goal of the project is to come up with an engineering strategy for the heterologous production of Vitamin E (tocochromanols/-trienols) in *E. coli* through the adaption and use of a verified genome-scale metabolic model (GSM). The modelling decisions should be informed by the need of the bioprocess to be GMP-compatible, e.g. by the use of glucose as the main carbon souce. Currently, only precursors of this class of molecules of interest have been produced, in insufficient titers for real-world use and at slow rates. We hope to be able to contribute suggestions for an engineering strategy that can improve the titer and productivity of the process.\n"
   ]
  },
  {
   "cell_type": "markdown",
   "metadata": {},
   "source": [
    "## 3. Selection and assessment of existing GSM\n",
    "\n",
    "The GSM that was chosen for this project is *Escherichia coli* K-12 MG1655. Specifically, model iML1515, the most through reconstruction of *E. coli* on a genome level, is used (Monk et al. 2017). Its close approximation to the wild type means most of the pathways are in position and it will also have everything mapped out when further investigation is needed.  \n",
    "\n",
    "According to the publication attached to the BiGG model, this model was developed on the bases of model iJO1366. This new model contains 184 new genes, 196 new reactions, updated confidence scores for the remaining reactions and it has been properly integrated with external databases, such as KEGG, PDB, and CHEBI. It can also be used by tools such as Cobra toolbox in the model’s computational format (Monk et al. 2017).\n",
    "\n",
    "The team who build iLM1515 also tested its ability to predict gene essentiality and found it to have a success rate of 93.4%. That is an increase of 3.7% over the previous model iJO1366, which has a success rate of 89.8% (Monk et al. 2017). Based on this, it can be expected that the GSM will compute reliable predictions when we used in this project.  \n",
    "\n",
    "Additionally, memote was used to assess the model’s ability to provide reliable predictions. The results for consistency came out to a total of 98%, with the detractor being that 11.13% of reactions had unbound flux. In terms of annotations, 100% of the metabolites are annotated. True to its publication, iML1515 has annotations tied to KEEG and CHEBI. The total score for metabolite annotations reached 79%. Memote also assesses the annotations for reactions, genes, and SBO terms. Their respective sub totals were rated as 81%, 63%, and 91%. Based on these numbers, iML1515 was rated to a have a total score of 91% (Lieven et al. 2020). \n",
    "\n",
    "It should be noted that evaluation skipped several processes that were marked as Erroneously Energy-generating Cycles. It also skipped experimental data comparisons. How much it affects the validity is not specified, but it is important to consider (Lieven et al. 2020).\n",
    "\n",
    "In summary, with a total score of 91%, the GSM iML1515 should be able to generate reliable predictions for the project.\n"
   ]
  },
  {
   "cell_type": "markdown",
   "metadata": {},
   "source": [
    "## 4. Computer-Aided Cell Factory Engineering "
   ]
  },
  {
   "cell_type": "markdown",
   "metadata": {},
   "source": [
    "To simulate the production of alpha-tocopherol in *E. coli*, the heterologous pathway was added to the chosen GSM (iML1515) as the first step. The pathway and model were chosen based on the verifiability of the enzymes involved and the .... respectively. The pathway requires the addition of seven reactions to the wildtype GSM: Five pathway reactions and two reactions to generate additional substrates. The pathway is based on the KEGG PATHWAY map of the vitamin E biosynthesis section of *E. coli*. The metabolites and reactions were added to the iML1515-model using the cobrapy library. The full pathway is shown in figure 1. "
   ]
  },
  {
   "cell_type": "markdown",
   "metadata": {},
   "source": [
    "![Overview of alpha-tocopherol biosynthesis pathway](Pics/VitaminE_biosynthesis_pathway.png \"Overview of alpha-tocopherol biosynthesis pathway\")"
   ]
  },
  {
   "cell_type": "markdown",
   "metadata": {},
   "source": [
    "Fig. 1: Pathway of alpha-tocopherol biosynthesis."
   ]
  },
  {
   "cell_type": "code",
   "execution_count": 3,
   "metadata": {},
   "outputs": [],
   "source": [
    "import cobra\n",
    "from cobra.io import read_sbml_model, write_sbml_model\n",
    "from cobra import Metabolite, Reaction"
   ]
  },
  {
   "cell_type": "code",
   "execution_count": 2,
   "metadata": {},
   "outputs": [],
   "source": [
    "WT_model = read_sbml_model('iML1515.xml')"
   ]
  },
  {
   "cell_type": "markdown",
   "metadata": {},
   "source": [
    "The first reaction that was added to the native *E. coli* metabolism, is the conversion of 3-(4-hydroxyphenyl)pyruvate to homogentisate and CO2: "
   ]
  },
  {
   "cell_type": "code",
   "execution_count": null,
   "metadata": {},
   "outputs": [],
   "source": [
    "# Reaction 1: 3-(4-Hydroxyphenyl)pyruvate + O2 O2 --> CO2 CO2 + Homogentisate\n",
    "new_reaction1 = Reaction('34HPPOR') # 4 Hydroxyphenylpyruvateoxygen oxidoreductase\n",
    "homogentisate = Metabolite(\n",
    "    id='hgentis_c', \n",
    "    formula = 'C8H8O4',\n",
    "    compartment='c')\n",
    "new_reaction1.add_metabolites({model.metabolites.get_by_id('34hpp_c'): -1, # 3-(4-Hydroxyphenyl)pyruvate\n",
    "                               model.metabolites.o2_c: -1, #O2\n",
    "                               homogentisate: 1, # Homogentisate\n",
    "                               model.metabolites.co2_c: 1, # CO2\n",
    "                              })\n",
    "model.add_reactions([new_reaction1])"
   ]
  },
  {
   "cell_type": "markdown",
   "metadata": {},
   "source": [
    "The rest of the pathway was added in the same way, and the new model was written to an XML-file. This was done for both pathways leading to alpha-tocopherol, although the enzyme catalyzing the conversion of beta-tocopherol to alpha-tocoperol (pathway #2 in figure 1) is not well-characterized. For this reason, the further work was based upon the model going through route #1, although the two were compared initially.\n"
   ]
  },
  {
   "cell_type": "code",
   "execution_count": 4,
   "metadata": {},
   "outputs": [],
   "source": [
    "model = read_sbml_model('model_atocopherol.xml')"
   ]
  },
  {
   "cell_type": "code",
   "execution_count": 6,
   "metadata": {},
   "outputs": [],
   "source": [
    "model_2 = read_sbml_model('model_atocopherol_2.xml')"
   ]
  },
  {
   "cell_type": "markdown",
   "metadata": {},
   "source": [
    "### Characterization of basic models"
   ]
  },
  {
   "cell_type": "markdown",
   "metadata": {},
   "source": [
    "The theoretical maximum productivity and yield of the two routes were calculated. These are calculated on the assumption that no carbon is used to generate biomass, thus they represent the boundaries of the process as it currently is, not actual attainable figures. The productivity is the flux through the reaction generating alpha-tocopherol (DM_avite_c) and the yield is calculated by dividing this flux by the glucose uptake rate (as this is the only carbon source in the model)."
   ]
  },
  {
   "cell_type": "code",
   "execution_count": 5,
   "metadata": {},
   "outputs": [],
   "source": [
    "from cobra import Reaction, Metabolite\n",
    "import pandas as pd\n",
    "import matplotlib.pyplot as plt\n",
    "%matplotlib inline"
   ]
  },
  {
   "cell_type": "markdown",
   "metadata": {},
   "source": [
    "First the values are calculated for route 1:"
   ]
  },
  {
   "cell_type": "code",
   "execution_count": 71,
   "metadata": {},
   "outputs": [
    {
     "name": "stdout",
     "output_type": "stream",
     "text": [
      "Max. alpha-tocopherol productivity [mmol gDW^-1 h^-1]: 1.2228500311138757\n",
      "Max. theoretical yield [mmol-put / mmol-glc]: 0.12228500311138757\n"
     ]
    }
   ],
   "source": [
    "model.objective = model.reactions.DM_avite1_c\n",
    "avite_production = model.optimize().objective_value\n",
    "theor_yield = avite_production / (-1*model.reactions.EX_glc__D_e.flux)\n",
    "print(\"Max. alpha-tocopherol productivity [mmol gDW^-1 h^-1]:\", avite_production)\n",
    "print(\"Max. theoretical yield [mmol-put / mmol-glc]:\", theor_yield)"
   ]
  },
  {
   "cell_type": "markdown",
   "metadata": {},
   "source": [
    "Since alpha-tocopherol has a molecular mass of 430.7 g/mol this corresponds to approximately 0.526 g of product per gDW per hour, and a yield of a little more than 12% on glucose."
   ]
  },
  {
   "cell_type": "code",
   "execution_count": 25,
   "metadata": {},
   "outputs": [
    {
     "name": "stdout",
     "output_type": "stream",
     "text": [
      "Max. alpha-tocopherol productivity [mmol gDW^-1 h^-1]: 1.2966809633784213\n",
      "Max. theoretical yield [mmol-put / mmol-glc]: 0.12966809633784213\n"
     ]
    }
   ],
   "source": [
    "model_2.objective = model_2.reactions.DM_avite1_c\n",
    "avite_production = model_2.optimize().objective_value\n",
    "theor_yield = avite_production / (-1*model_2.reactions.EX_glc__D_e.flux)\n",
    "print(\"Max. alpha-tocopherol productivity [mmol gDW^-1 h^-1]:\", avite_production)\n",
    "print(\"Max. theoretical yield [mmol-put / mmol-glc]:\", theor_yield)"
   ]
  },
  {
   "cell_type": "markdown",
   "metadata": {},
   "source": [
    "For the second model the maximal theoretical productivity and the yield is slightly higher, at 1.297 [mmol gDW^-1 h^-1] (0.558 g product per gDW per hour) and almost 13%, respectively."
   ]
  },
  {
   "cell_type": "markdown",
   "metadata": {},
   "source": [
    "### Phenotypic phase plane"
   ]
  },
  {
   "cell_type": "markdown",
   "metadata": {},
   "source": [
    "In order to potentially enhance the production of alpha-tocopherol in E. coli, a better understanding of the optimal growth rates is desired. A phenotypic phase plane analysis (PPP) is thus performed, which is a constraint-based method to analyze how optimal growth rates are affected by environmental variables. In the PPP analyses performed in this report the effects of the environmental variable, oxygen, was tested. Product formation and biomass generation both require carbon, and as the production of alpha-tocopherol is not coupled to growth, maximizing one, will minimize the other. This is clearly seen when plotting the phenotypic phase plane of biomass against alpha-tocopherol productivity."
   ]
  },
  {
   "cell_type": "code",
   "execution_count": 3,
   "metadata": {},
   "outputs": [],
   "source": [
    "from cobra.flux_analysis.phenotype_phase_plane import production_envelope"
   ]
  },
  {
   "cell_type": "code",
   "execution_count": 7,
   "metadata": {},
   "outputs": [
    {
     "data": {
      "text/plain": [
       "<AxesSubplot:title={'center':'Biomass as a function of alpha-tocopherol production'}, xlabel='DM_avite1_c'>"
      ]
     },
     "execution_count": 7,
     "metadata": {},
     "output_type": "execute_result"
    },
    {
     "data": {
      "image/png": "[encoded data removed]",
      "text/plain": [
       "<Figure size 432x288 with 1 Axes>"
      ]
     },
     "metadata": {
      "needs_background": "light"
     },
     "output_type": "display_data"
    }
   ],
   "source": [
    "ppp_BIOMASS = production_envelope(model,\n",
    "            reactions=[model.reactions.DM_avite1_c],\n",
    "            objective=model.reactions.BIOMASS_Ec_iML1515_core_75p37M)\n",
    "ppp_avite = production_envelope(model,\n",
    "            reactions=[model.reactions.EX_glc__D_e],\n",
    "            objective=model.reactions.DM_avite1_c)\n",
    "ppp_o2 = production_envelope(model,\n",
    "            reactions=[model.reactions.EX_o2_e],\n",
    "            objective=model.reactions.DM_avite1_c)\n",
    "\n",
    "\n",
    "ppp_BIOMASS.plot(x='DM_avite1_c', y='flux_maximum', title = 'Biomass as a function of alpha-tocopherol production' )"
   ]
  },
  {
   "cell_type": "markdown",
   "metadata": {},
   "source": [
    "As expected, the productivity of biomass, i.e.the growth rate, decreases the higher the production rate of alpha-tocopherol is, and vice versa. To get a realistic evaluation, the lower bound for the flux through the biomass reaction was set to approximately half of its maximum (according to the model)."
   ]
  },
  {
   "cell_type": "code",
   "execution_count": 74,
   "metadata": {},
   "outputs": [
    {
     "name": "stdout",
     "output_type": "stream",
     "text": [
      "max. alpha-tocopherol production [mmol gDW^-1 h^-1]: 0.6133904007420847\n",
      "max. theoretical yield [mmol-put / mmol-glc]: 0.06133904007420847\n"
     ]
    }
   ],
   "source": [
    "with model:\n",
    "    model.reactions.BIOMASS_Ec_iML1515_core_75p37M.lower_bound = 0.44\n",
    "    avite_production = model.optimize().objective_value\n",
    "    theor_yield = avite_production / (-1*model.reactions.EX_glc__D_e.flux)\n",
    "    print(\"max. alpha-tocopherol production [mmol gDW^-1 h^-1]:\", avite_production)\n",
    "    print(\"max. theoretical yield [mmol-put / mmol-glc]:\", theor_yield)"
   ]
  },
  {
   "cell_type": "markdown",
   "metadata": {},
   "source": [
    "Forcing the model to produce biomass at half the maximal growth rate, means that less carbon can be spent on product formation, resulting in a halving of the specific productivity and yield. \n",
    "\n",
    "Looking at the yield of alpha-tocopherol as a function of the glucose uptake rate, it can be seen that there is a steep drop in yield as the glucose uptake rate gets close to zero: "
   ]
  },
  {
   "cell_type": "code",
   "execution_count": 8,
   "metadata": {},
   "outputs": [
    {
     "data": {
      "text/plain": [
       "<AxesSubplot:title={'center':'alpha-tocopherol yield as a function of glucose uptake rate'}, xlabel='EX_glc__D_e'>"
      ]
     },
     "execution_count": 8,
     "metadata": {},
     "output_type": "execute_result"
    },
    {
     "data": {
      "image/png": "[encoded data removed]",
      "text/plain": [
       "<Figure size 432x288 with 1 Axes>"
      ]
     },
     "metadata": {
      "needs_background": "light"
     },
     "output_type": "display_data"
    }
   ],
   "source": [
    "ppp_avite.plot(x='EX_glc__D_e', y='carbon_yield_maximum', title = 'alpha-tocopherol yield as a function of glucose uptake rate')"
   ]
  },
  {
   "cell_type": "markdown",
   "metadata": {},
   "source": [
    "This seems to be in accordance with the experimental observation, where at low growth rates, the relative portion of carbon spent on cell maintenance is higher, leading to lower yields per unit substrate.\n",
    "\n",
    "The effect of the oxygen uptake rate showed a similar trend, with the difference that specific productivity drops at both extremes:"
   ]
  },
  {
   "cell_type": "code",
   "execution_count": 9,
   "metadata": {},
   "outputs": [
    {
     "data": {
      "text/plain": [
       "<AxesSubplot:title={'center':'alpha-tocopherol production as a function of oxygen exchange reaction flux'}, xlabel='EX_o2_e'>"
      ]
     },
     "execution_count": 9,
     "metadata": {},
     "output_type": "execute_result"
    },
    {
     "data": {
      "image/png": "[encoded data removed]",
      "text/plain": [
       "<Figure size 432x288 with 1 Axes>"
      ]
     },
     "metadata": {
      "needs_background": "light"
     },
     "output_type": "display_data"
    }
   ],
   "source": [
    "ppp_o2.plot(x='EX_o2_e', y='flux_maximum', title = 'alpha-tocopherol production as a function of oxygen exchange reaction flux')"
   ]
  },
  {
   "cell_type": "markdown",
   "metadata": {},
   "source": [
    "The drop in alpha-tocopherol production at low and zero oxygen uptake shows that *E. coli* must be cultivated under aerobic conditions to enable alpha-tocopherol production."
   ]
  },
  {
   "cell_type": "markdown",
   "metadata": {},
   "source": [
    "### Addition of tyrosine improves metrics"
   ]
  },
  {
   "cell_type": "markdown",
   "metadata": {},
   "source": [
    "As it is shown in the biosynthesis pathway (figure 1), one of the main precursors of 3-(4-hydroxyphenyl)pyruvate is tyrosine. Therefore it was hypothesized that the addition of tyrosine to the media could increase the fluxes through the production pathway, leading to a higher productivity. In order to test this, tyrosine was added to the growth medium at a flux of 10 [mmol / gDW / hr]  to yield the resulting model:"
   ]
  },
  {
   "cell_type": "code",
   "execution_count": 10,
   "metadata": {},
   "outputs": [],
   "source": [
    "model_tyr = read_sbml_model('model_atocopherol_tyr.xml')"
   ]
  },
  {
   "cell_type": "code",
   "execution_count": 11,
   "metadata": {},
   "outputs": [
    {
     "name": "stdout",
     "output_type": "stream",
     "text": [
      "Maximum theoretical biomass productivity: 0.44 /h\n",
      "max. alpha-tocopherol production [mmol gDW^-1 h^-1]: 0.7989720203366969\n",
      "max. theoretical yield [mmol-put / mmol-glc]: 0.07989720203366969\n"
     ]
    }
   ],
   "source": [
    "with model_tyr:\n",
    "    model_tyr.reactions.BIOMASS_Ec_iML1515_core_75p37M.lower_bound = 0.44\n",
    "    solution = model_tyr.optimize()\n",
    "    avite_production = model_tyr.optimize().objective_value\n",
    "    theor_yield = avite_production / (-1*model_tyr.reactions.EX_glc__D_e.flux)\n",
    "print('Maximum theoretical biomass productivity:', solution.fluxes['BIOMASS_Ec_iML1515_core_75p37M'], '/h') \n",
    "print(\"max. alpha-tocopherol production [mmol gDW^-1 h^-1]:\", avite_production)\n",
    "print(\"max. theoretical yield [mmol-put / mmol-glc]:\", theor_yield)"
   ]
  },
  {
   "cell_type": "markdown",
   "metadata": {},
   "source": [
    "When tested at half the maximal growth rate the new model showed an increase in both specific productivity and yield, approximately a 30% improvement. A phenotype phase plane was created to model the tyrosine exchange reaction versus productivity to investigate further:"
   ]
  },
  {
   "cell_type": "code",
   "execution_count": 13,
   "metadata": {},
   "outputs": [
    {
     "data": {
      "text/plain": [
       "<AxesSubplot:title={'center':'alpha-tocopherol production as a function of tyrosine exchange reaction flux'}, xlabel='EX_tyr__L_e'>"
      ]
     },
     "execution_count": 13,
     "metadata": {},
     "output_type": "execute_result"
    },
    {
     "data": {
      "image/png": "[encoded data removed]",
      "text/plain": [
       "<Figure size 432x288 with 1 Axes>"
      ]
     },
     "metadata": {
      "needs_background": "light"
     },
     "output_type": "display_data"
    }
   ],
   "source": [
    "ppp_tyr = production_envelope(model_tyr,\n",
    "            reactions=[model_tyr.reactions.EX_tyr__L_e],\n",
    "            objective=model_tyr.reactions.DM_avite1_c)\n",
    "\n",
    "ppp_tyr.plot(x='EX_tyr__L_e', y='flux_maximum', title = 'alpha-tocopherol production as a function of tyrosine exchange reaction flux')"
   ]
  },
  {
   "cell_type": "markdown",
   "metadata": {},
   "source": [
    "Upon closer inspection of the figure, we can see that the highest production of alpha-tocopherol occurs when tyrosine influx is 1.77. \n",
    "\n",
    "The PPP analysis was further continued to model the effects anaerobic conditions on the optimal growth rate, to potentially obtain more information regarding the effects of an anaerobic environment on this cell factory model. However, the only conclusion that could be drawn from the anaerobic PPP analysis is that the cell factory does not produce any fluxes without oxygen present, confirming that the chosen model requires an aerobic process. "
   ]
  },
  {
   "cell_type": "markdown",
   "metadata": {},
   "source": [
    "### Gene optimization algorithms\n",
    "The cell-factory was sought to be further improved by using the gene-knockout optimization algorithms KnockOpt and OptGene. The solutions can be found in the notebook \"3_Gene_knockout_algorithms.ipynb\".\n",
    "\n",
    "In the case of the KnockOpt algorithm, the result contained one reaction that was suggested for knockout, namely reaction \"PGPP141pp\", which corresponds to the phosphatidylglycerol phosphate phosphatase. When this reaction was knocked out by changing the bounds to zero, no change in the theoretical productivity of alpha-tocopherol could be observed.\n",
    "In the case of OptGene, the algorithm did not return any solution.\n",
    "\n",
    "In a nutshell, neither of the two algorithms rendered a solution that could improve the production of alpha-tocopherol in the model.\n",
    "\n",
    "\n",
    "One further approach that was tested, was to find genes with an experimentally demonstrated effect on tyrosine production in the literature, and simulate deletions of these using built-in cobra functionality. The work can be found in notebook 6, \"6_Single_deletions.ipynb\". One of the major regulators of tyrosine biosynthesis, tyrR, was mentioned in several studies, but it is not included in the GSM, as it works on the transcriptional level. That was problematic, since many of the deletions that have been shown to improve tyrosine production, are regulatory genes, or depend on their deletion in the published articles (Rodriguez et al., 2014). The non-regulatory genes, e.g. the tryptophanase encoding *tnaA* did not make a significant difference on their own, as demonstrated below.\n"
   ]
  },
  {
   "cell_type": "code",
   "execution_count": 6,
   "metadata": {},
   "outputs": [],
   "source": [
    "from cobra.flux_analysis import (\n",
    "    single_gene_deletion\n",
    "    )"
   ]
  },
  {
   "cell_type": "code",
   "execution_count": 7,
   "metadata": {},
   "outputs": [
    {
     "name": "stdout",
     "output_type": "stream",
     "text": [
      "complete model:  <Solution 0.613 at 0x24f6826bdc0>\n",
      "single knockout:  <Solution 0.613 at 0x24f682f8250>\n"
     ]
    }
   ],
   "source": [
    "with model:\n",
    "    model.reactions.BIOMASS_Ec_iML1515_core_75p37M.lower_bound = 0.44\n",
    "    model.objective = model.reactions.TOCOPHOM1\n",
    "    print('complete model: ', model.optimize())\n",
    "with model:\n",
    "    # Set objective and lower biomass bound: \n",
    "    model.reactions.BIOMASS_Ec_iML1515_core_75p37M.lower_bound = 0.44\n",
    "    model.objective = model.reactions.TOCOPHOM1\n",
    "    model.genes.b3708.knock_out()\n",
    "    print('single knockout: ', model.optimize())"
   ]
  },
  {
   "cell_type": "markdown",
   "metadata": {},
   "source": [
    "### Exploring Fluxes\n",
    "To get a better understanding of how to improve the production pathway, the associated reactions and fluxes were explored in detail. The metabolite 3-(4-Hydroxyphenyl)pyruvate is the starting point for the heterologous pathway that was added to the model.\n",
    "3-(4-Hydroxyphenyl)pyruvate is part of three reactions. 34HPPOR is the first reaction of the heterologous pathway that consumes 3-(4-Hydroxyphenyl)pyruvate. Whereas TYRTA and PPND are reactions where 3-(4-Hydroxyphenyl)pyruvate is produced.\n",
    "\n",
    "By looking into the fluxes, it was shown that in the absence of exogenous tyrosine, 3-(4-Hydroxyphenyl)pyruvate is produced in reaction PPND while reaction TYRTA has a negative flux, meaning that a part of the 3-(4-Hydroxyphenyl)pyruvate pool is consumed to produce tyrosine. When tyrosine is supplied in the medium, the reaction PPND does not carry any flux anymore. In this case, 3-(4-Hydroxyphenyl)pyruvate is produced from tyrosine in the reaction TYRTA. For this reason, TYRTA could be a potential target for overexpresssion. To test this, a flux variability analysis was performed which shows the minimal and maximal flux that a reaction can carry. In an attempt to enforce a higher flux in the reaction TYRTA, the lower bound was raised to 0.8. However, this modification proofed to be infeasible. Changing the lower bound of TYRTA to 0.7 did not change the maximal flux of alpha-tocopherol production.\n",
    "\n",
    "Another potential target for downregulation are pathways that lead to the secretion of a metabolites that are in competition with the production of the desired product. By comparing the secretion reactions of the wildtype *E. coli* model with the modiefied model containing the pathway of alpha-tocopherol production and the addition of tyrosine to the medium, \n",
    "In the summary of the modified model, the production of the compound alpha-tocopherol can be seen as a secretion reaction. Just as in the wildtype model, there are three additional demand reactions with metabolites that are secreted, namely P-Cresol, 5'-deoxyribose and S-Adenosyl-4-methylthio-2-oxobutanoate. However, the fluxes of these demand reactions are so low that they can not compete with the production of alpha-tocopherol. So it was not deemed necessary to knock them out or to downregulate them.\n"
   ]
  },
  {
   "cell_type": "markdown",
   "metadata": {},
   "source": [
    "### Flux Scanning Based On Enforced Objective Flux\n",
    "In order to find potential target genes for overexpression that could improve the production of alpha-tocopherol, Flux Scanning Based On Enforced Objective Flux (FSEOF) was performed (see notebook \"4_FSEOF.ipynb\"). FSEOF is an algorithm that was created for this purpose. Constraint-based flux analysis is used to search for fluxes that rise when the formation of the desired product is enforced as the objective, while maximizing the flux into biomass formation at the same time [Choi et al., 2010].\n",
    "As a result, twelve reactions were found that have a relative change in flux above 1.8 when running the FSEOF algorithm.\n",
    "\n",
    "As the rate of the target reaction DM_avite1_c went down with every iteration and not up as it would be expected, the applicability of the results of FSEOF to the objective to maximize the production of alpha-tocopherol is in question. For this reason, the potential target reactions were not investigated further.\n"
   ]
  },
  {
   "cell_type": "markdown",
   "metadata": {},
   "source": [
    "### Dynamic Flux Balance Analysis (dFBA)\n",
    "Attempts have been made to generate a Dynamic Flux Balance Analysis for the modified GSM using the software Copasi, but without success. Using the wildtype *E. coli* models from the course unfortunately resulted in an error message, which could not be resolved. In addition, several SBML models have been found on various forums, but since the desired pathway is too distant in relation to the central metabolism, there are no models that take it into account. \n",
    "\n",
    "The solution to the problem would be to set up all reactions with the audience's rate law. However, it has not been possible to calculate the rate laws, and therefore it was not possible to generate any results. It is an option to create the model from scratch, but data and skills have been insufficient. \n",
    "\n",
    "Based on other simulation results and the fact that the pathway is so distant from the central metabolism, it was assessed that a dFBA does not make sense in this project."
   ]
  },
  {
   "cell_type": "markdown",
   "metadata": {},
   "source": [
    "## 5. Discussion\n",
    "During the project, a heterologous pathway for the production of alpha-tocopherol was added to the E. coli model iML1515 and different strategies for the optimization of production were applied. \n",
    "\n",
    "When performing these modifications, it was assumed that the enzymes inserted into E. coli do not pose any conflicts and work flawlessly with the rest of the metabolic system already in place within the chosen strain. It could be the case that the enzymes require a process during synthesis that is beyond E. coli’s abilities. This could be tested by splicing the enzymes into the strain and monitor how it adapts. \n",
    "\n",
    "Naturally, alpha-tocopherol is only produced in photosynthetic organisms. However, there are studies where precursors of alpha-tocopherol were produced in well-known cell factories such as E. coli and S. cerevisiae which show that the production of vitamin E is indeed possible in non-photosynthetic cell-factories by cloning genes that were taken from suitable organisms with a natural production of vitamin E [Albermann et al., 2008; Shen et al., 2020].\n",
    "In the study that used S. cerevisiae for the production of vitamin E, the production rate was improved by supplementing tyrosine in the medium [Shen et al, 2020]. Simulating this approach also yielded some increases in product output for the modified E. coli model.\n",
    "\n",
    "Part of the reason for picking E. coli was to minimize risk. E. coli is well researched and generally a safe organism to work with. Efforts should still be made to try and study what kind of by-products the organism would make if the gene-insertion was successful, and if the enzymes worked. \n",
    "\n",
    "Based on the results of the optimization process, improving the yield of vitamin E is challenging. Among the major drawbacks is that the attempts to simulate knocking out some of the genes that were thought to be competing with the production of alpha-tocopherol via an algorithm did not return a proper result. \n",
    "Another hinderance is the lack of knowledge about potential flux bottle necks. Such information would help direct the effort to optimize the flux towards the desired product. \n",
    "Finally, it might be the case that further modifications are needed for an efficient production of alpha-tocopherol in *E. coli* as the compound is normally found in plants, which are more complex organisms.\n"
   ]
  },
  {
   "cell_type": "markdown",
   "metadata": {},
   "source": [
    "## 6. Conclusion"
   ]
  },
  {
   "cell_type": "markdown",
   "metadata": {},
   "source": [
    "Overall conclusions of the theoretically engineered cell factory design for the production of alpha-tocopherol (Vitamin E) in the E. coli model iML1515. \n",
    "\n",
    "The addition of the heterologous metabolic pathways for the production of alpha-tocopherol, was successful. However, as the additional pathways are far from the core metabolism of the iML1515 model, fluxes into the alpha-tocopherol production pathway were initially low. Nonetheless, after further investigation of the metabolic pathway, it was predicted that the addition of tyrosine, a precursor of the alpha-tocopherol pathway, to the medium, could lead to an increased flux of alpha-tocopherol production. This hypothesis was proven correct as after the addition of tyrosine to the medium, the production of alpha-tocopherol was increased by 30%. \n",
    "\n",
    "Apart from this improvement, other stategies to further increase the production rate such as the use of gene knockout algorithms and the analyisis of overexpression targets were unsuccessful.\n",
    "Although an improvement in the production rate was achieved, further modifications to the metabolic pathways and optimizations would need to be done to increase the production. Therefore, this report provides a basis for understanding the metabolic processes required to produce alpha-tocopherol in *E. coli* and potential ways of improving the cell factory design. However, for industrial implementation of this cell factory, further optimizations would need to occur to meet the requirements of an industrial production scale."
   ]
  },
  {
   "cell_type": "markdown",
   "metadata": {},
   "source": [
    "## References"
   ]
  },
  {
   "cell_type": "markdown",
   "metadata": {},
   "source": [
    "\n",
    "[4] Baumann, L S. & Spencer, J. (1999, April). The effects of topical vitamin E on the cosmetic appearance of scars. Wolters Kluwer. https://pubmed.ncbi.nlm.nih.gov/10417589/\n",
    "\n",
    "[5] Reza Emami, M., Safabakhsh, M., Alizadeh, S., Asbaghi, O. & Zeinali Khosroshahi, M. (2019, 7. March). Effect of vitamin E supplementation on blood pressure: a systematic review and meta-analysis. Nature Publishing Group. https://pubmed.ncbi.nlm.nih.gov/30846828/\n",
    "\n",
    "[6] Vadarlis, A. & Et al, . (2020, 10. September). Systematic review with meta-analysis: The effect of vitamin E supplementation in adult patients with non-alcoholic fatty liver disease. Wiley. https://pubmed.ncbi.nlm.nih.gov/32810309/\n",
    "\n",
    "[7] Wei Ling Teo, C., Han Yueh Tay, S., Liang Tey, H., Wei Ung, Y. & Ney Yap, W. (2016, October). Vitamin E in Atopic Dermatitis: From Preclinical to Clinical Studies. Karger Publishers. https://pubmed.ncbi.nlm.nih.gov/33070130/\n",
    "\n",
    "Albermann, C., Ghanegaonkar, S., Lemuth, K., Vallon, T., Reuss, M., Armbruster, W., & Sprenger, G. A. (2008). Biosynthesis of the Vitamin E Compound δ-Tocotrienol in Recombinant Escherichia coli Cells. ChemBioChem, 9(15), 2524–2533. https://doi.org/10.1002/cbic.200800242\n",
    "\n",
    "Baumann, L. S., & Md, J. S. (1999). The Effects of Topical Vitamin E on the Cosmetic Appearance of Scars. Dermatologic Surgery, 25(4), 311–315. https://doi.org/10.1046/j.1524-4725.1999.08223.x\n",
    "\n",
    "Choi, H. S., Lee, S. Y., Kim, T. Y., & Woo, H. M. (2010). In Silico Identification of Gene Amplification Targets for Improvement of Lycopene Production. Applied and Environmental Microbiology, 76(10), 3097–3105. https://doi.org/10.1128/AEM.00115-10\n",
    "\n",
    "Emami, M. R., Safabakhsh, M., Alizadeh, S., Asbaghi, O., & Khosroshahi, M. Z. (2019). Effect of vitamin E supplementation on blood pressure: a systematic review and meta-analysis. Journal of Human Hypertension, 33(7), 499–507. https://doi.org/10.1038/s41371-019-0192-0\n",
    "\n",
    "Fortune Business Insights. Natural vitamin E market. (2019, november). Lokaliseret den 25. november 2022 på https://www.fortunebusinessinsights.com/industry-reports/natural-vitamin-e-market-101591\n",
    "\n",
    "Guerrero Montero, I., Dolata, K. M., Schlüter, R., Malherbe, G., Sievers, S., Zühlke, D., Sura, T., Dave, E., Riedel, K., & Robinson, C. (2019). Comparative proteome analysis in an Escherichia coli CyDisCo strain identifies stress responses related to protein production, oxidative stress and accumulation of misfolded protein. Microbial cell factories, 18(1), 19. https://doi.org/10.1186/s12934-019-1071-7\n",
    "\n",
    "Keen, M., & Hassan, I. (2016). Vitamin E in dermatology. Indian Dermatology Online Journal, 7(4), 311. https://doi.org/10.4103/2229-5178.185494\n",
    "\n",
    "Lieven, C., Beber, M. E., Olivier, B. G., Bergmann, F. T., Ataman, M., Babaei, P., Bartell, J. A., Blank, L. M., Chauhan, S., Correia, K., Diener, C., Dräger, A., Ebert, B. E., Edirisinghe, J. N., Faria, J. P., Feist, A. M., Fengos, G., Fleming, R. M. T., García-Jiménez, B., … Zhang, C. (2020). MEMOTE for standardized genome-scale metabolic model testing. Nature Biotechnology, 38(3), 272–276. https://doi.org/10.1038/s41587-020-0446-y\n",
    "\n",
    "Monk, J. M., Lloyd, C. J., Brunk, E., Mih, N., Sastry, A., King, Z., Takeuchi, R., Nomura, W., Zhang, Z., Mori, H., Feist, A. M., & Palsson, B. O. (2017). iML1515, a knowledgebase that computes Escherichia coli traits. Nature Biotechnology, 35(10), 904–908. https://doi.org/10.1038/nbt.3956\n",
    "\n",
    "Rodriguez, A., Martnez, J.A., Flores, N. et al. Engineering *Escherichia coli* to overproduce aromatic amino acids and derived compounds. Microb Cell Fact 13, 126 (2014). https://doi.org/10.1186/s12934-014-0126-z\n",
    "\n",
    "Shen, B., Zhou, P., Jiao, X., Yao, Z., Ye, L., & Yu, H. (2020). Fermentative production of Vitamin E tocotrienols in Saccharomyces cerevisiae under cold-shock-triggered temperature control. Nature Communications, 11(1), 5155. https://doi.org/10.1038/s41467-020-18958-9\n",
    "\n",
    "Sumesh, K. & Roshan, D. (2021, August). Vitamin E Market. Allied Market Research. Lokaliseret den 25. November 2022 på https://www.alliedmarketresearch.com/vitamin-e-market-A13002\n",
    "\n",
    "Teo, C. W. L., Tay, S. H. Y., Tey, H. L., Ung, Y. W., & Yap, W. N. (2021). Vitamin E in Atopic Dermatitis: From Preclinical to Clinical Studies. Dermatology, 237(4), 553–564. https://doi.org/10.1159/000510653\n",
    "\n",
    "Vadarlis, A., Antza, C., Bakaloudi, D. R., Doundoulakis, I., Kalopitas, G., Samara, M., Dardavessis, T., Maris, T., & Chourdakis, M. (2021). Systematic review with meta‐analysis: The effect of vitamin E supplementation in adult patients with non‐alcoholic fatty liver disease. Journal of Gastroenterology and Hepatology, 36(2), 311–319. https://doi.org/10.1111/jgh.15221\n",
    "\n",
    "Yang, Z., Zhang, L., Zhang, Y., Zhang, T., Feng, Y., Lu, X., ... & Wang, X. (2011). Highly efficient production of soluble proteins from insoluble inclusion bodies by a two-step-denaturing and refolding method. PloS one, 6(7), e22981.\n",
    "\n"
   ]
  },
  {
   "cell_type": "code",
   "execution_count": null,
   "metadata": {},
   "outputs": [],
   "source": []
  }
 ],
 "metadata": {
  "kernelspec": {
   "display_name": "Python 3",
   "language": "python",
   "name": "python3"
  },
  "language_info": {
   "codemirror_mode": {
    "name": "ipython",
    "version": 3
   },
   "file_extension": ".py",
   "mimetype": "text/x-python",
   "name": "python",
   "nbconvert_exporter": "python",
   "pygments_lexer": "ipython3",
   "version": "3.8.8"
  },
  "vscode": {
   "interpreter": {
    "hash": "31f2aee4e71d21fbe5cf8b01ff0e069b9275f58929596ceb00d14d90e3e16cd6"
   }
  }
 },
 "nbformat": 4,
 "nbformat_minor": 4
}

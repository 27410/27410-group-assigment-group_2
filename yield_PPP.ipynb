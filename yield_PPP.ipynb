{
 "cells": [
  {
   "cell_type": "code",
   "execution_count": 1,
   "id": "fa513135-8ea7-49a3-9312-a13562ea30b5",
   "metadata": {},
   "outputs": [],
   "source": [
    "from cobra.io import read_sbml_model\n",
    "from cobra import Reaction, Metabolite\n",
    "\n",
    "# Read model (model of Escherichia coli)\n",
    "model = read_sbml_model('model_atocopherol.xml')"
   ]
  },
  {
   "cell_type": "code",
   "execution_count": 18,
   "id": "83d7fce1-de26-48a3-9e86-5351d7868c20",
   "metadata": {},
   "outputs": [],
   "source": [
    "import pandas as pd\n",
    "import matplotlib.pyplot as plt\n",
    "plt.style.use('seaborn')\n",
    "%matplotlib inline"
   ]
  },
  {
   "cell_type": "markdown",
   "id": "57a77c16-2633-43ad-a426-dab6b27b73ea",
   "metadata": {},
   "source": [
    "# Phenotypic phase planes\n",
    "## Aerobic conditions"
   ]
  },
  {
   "cell_type": "code",
   "execution_count": 29,
   "id": "754f73ae-18a9-42c9-b7c1-a3728b6dcf44",
   "metadata": {},
   "outputs": [],
   "source": [
    "# phenotypic phase planes analysis\n",
    "from cobra.flux_analysis.phenotype_phase_plane import production_envelope"
   ]
  },
  {
   "cell_type": "code",
   "execution_count": 30,
   "id": "d90a4ad9-a802-4fae-98d7-8d49a7daeebf",
   "metadata": {},
   "outputs": [],
   "source": [
    "# glucose uptake\n",
    "avite_prod = production_envelope(model,\n",
    "                    reactions=[model.reactions.EX_glc__D_e],\n",
    "                    objective=model.reactions.TOCOPHOM1)\n"
   ]
  },
  {
   "cell_type": "code",
   "execution_count": 31,
   "id": "c638de6f-b52e-4957-b8e3-ac63f42ba7d2",
   "metadata": {},
   "outputs": [
    {
     "data": {
      "text/plain": [
       "<AxesSubplot:xlabel='EX_glc__D_e'>"
      ]
     },
     "execution_count": 31,
     "metadata": {},
     "output_type": "execute_result"
    },
    {
     "data": {
      "image/png": "[encoded data removed]",
      "text/plain": [
       "<Figure size 432x288 with 1 Axes>"
      ]
     },
     "metadata": {
      "needs_background": "light"
     },
     "output_type": "display_data"
    }
   ],
   "source": [
    "avite_prod.plot(x='EX_glc__D_e', y='flux_maximum')"
   ]
  },
  {
   "cell_type": "code",
   "execution_count": 32,
   "id": "4c51b96c-50e5-4bd7-9e20-62cb616fcd74",
   "metadata": {},
   "outputs": [],
   "source": [
    "# optimal O2 uptake rate\n",
    "ppp_o2 = production_envelope(model,\n",
    "                 reactions=[model.reactions.EX_o2_e],\n",
    "                    objective=model.reactions.TOCOPHOM1)   "
   ]
  },
  {
   "cell_type": "code",
   "execution_count": 33,
   "id": "ce6f3fd6-f439-40ca-b275-9b6f74f7eb1c",
   "metadata": {},
   "outputs": [
    {
     "data": {
      "text/plain": [
       "-244.73684210530027"
      ]
     },
     "execution_count": 33,
     "metadata": {},
     "output_type": "execute_result"
    }
   ],
   "source": [
    "ppp_o2.EX_o2_e[ppp_o2.flux_maximum.idxmax()]"
   ]
  },
  {
   "cell_type": "code",
   "execution_count": 34,
   "id": "6ca2837c-b24c-4c19-a137-be92495658c8",
   "metadata": {},
   "outputs": [
    {
     "data": {
      "text/plain": [
       "<AxesSubplot:xlabel='EX_o2_e'>"
      ]
     },
     "execution_count": 34,
     "metadata": {},
     "output_type": "execute_result"
    },
    {
     "data": {
      "image/png": "[encoded data removed]",
      "text/plain": [
       "<Figure size 432x288 with 1 Axes>"
      ]
     },
     "metadata": {
      "needs_background": "light"
     },
     "output_type": "display_data"
    }
   ],
   "source": [
    "ppp_o2.plot(x='EX_o2_e', y='flux_maximum')"
   ]
  },
  {
   "cell_type": "markdown",
   "id": "a695e93e-1966-4cad-bde6-ce23f6d930cd",
   "metadata": {},
   "source": [
    "negative flux in the O2 exchange means aerobic growth (?)"
   ]
  },
  {
   "cell_type": "code",
   "execution_count": 35,
   "id": "8b8a0a54-8078-4e23-b77a-2e71304ecf46",
   "metadata": {},
   "outputs": [
    {
     "data": {
      "text/plain": [
       "{'EX_pi_e': 1000.0,\n",
       " 'EX_co2_e': 1000.0,\n",
       " 'EX_fe3_e': 1000.0,\n",
       " 'EX_h_e': 1000.0,\n",
       " 'EX_mn2_e': 1000.0,\n",
       " 'EX_fe2_e': 1000.0,\n",
       " 'EX_glc__D_e': 10.0,\n",
       " 'EX_zn2_e': 1000.0,\n",
       " 'EX_mg2_e': 1000.0,\n",
       " 'EX_ca2_e': 1000.0,\n",
       " 'EX_ni2_e': 1000.0,\n",
       " 'EX_cu2_e': 1000.0,\n",
       " 'EX_sel_e': 1000.0,\n",
       " 'EX_cobalt2_e': 1000.0,\n",
       " 'EX_h2o_e': 1000.0,\n",
       " 'EX_mobd_e': 1000.0,\n",
       " 'EX_so4_e': 1000.0,\n",
       " 'EX_nh4_e': 1000.0,\n",
       " 'EX_k_e': 1000.0,\n",
       " 'EX_na1_e': 1000.0,\n",
       " 'EX_cl_e': 1000.0,\n",
       " 'EX_o2_e': 1000.0,\n",
       " 'EX_tungs_e': 1000.0,\n",
       " 'EX_slnt_e': 1000.0}"
      ]
     },
     "execution_count": 35,
     "metadata": {},
     "output_type": "execute_result"
    }
   ],
   "source": [
    "model.medium"
   ]
  },
  {
   "cell_type": "code",
   "execution_count": 38,
   "id": "ff48fd38-9bdd-4c57-b6f2-7a27fc379c69",
   "metadata": {},
   "outputs": [],
   "source": []
  }
 ],
 "metadata": {
  "kernelspec": {
   "display_name": "Python 3",
   "language": "python",
   "name": "python3"
  },
  "language_info": {
   "codemirror_mode": {
    "name": "ipython",
    "version": 3
   },
   "file_extension": ".py",
   "mimetype": "text/x-python",
   "name": "python",
   "nbconvert_exporter": "python",
   "pygments_lexer": "ipython3",
   "version": "3.8.8"
  }
 },
 "nbformat": 4,
 "nbformat_minor": 5
}

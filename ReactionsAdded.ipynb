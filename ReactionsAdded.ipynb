{
 "cells": [
  {
   "cell_type": "code",
   "execution_count": 1,
   "id": "039ce3fc-ea3f-4000-9f6c-2fcce5289c94",
   "metadata": {},
   "outputs": [],
   "source": [
    "from cobra.io import read_sbml_model\n",
    "from cobra import Reaction, Metabolite\n",
    "\n",
    "# Read model (model of Escherichia coli)\n",
    "model = read_sbml_model('iML1515.xml')"
   ]
  },
  {
   "cell_type": "code",
   "execution_count": 2,
   "id": "f53a8958-5ea3-4cec-9320-d0eee1352258",
   "metadata": {},
   "outputs": [
    {
     "data": {
      "text/html": [
       "\n",
       "        <table>\n",
       "            <tr>\n",
       "                <td><strong>Metabolite identifier</strong></td><td>34hpp_c</td>\n",
       "            </tr><tr>\n",
       "                <td><strong>Name</strong></td><td>3-(4-Hydroxyphenyl)pyruvate</td>\n",
       "            </tr><tr>\n",
       "                <td><strong>Memory address</strong></td>\n",
       "                <td>0x7ff4a1f2f6d0</td>\n",
       "            </tr><tr>\n",
       "                <td><strong>Formula</strong></td><td>C9H7O4</td>\n",
       "            </tr><tr>\n",
       "                <td><strong>Compartment</strong></td><td>c</td>\n",
       "            </tr><tr>\n",
       "                <td><strong>In 2 reaction(s)</strong></td><td>\n",
       "                    TYRTA, PPND\n",
       "                    </td>\n",
       "            </tr>\n",
       "        </table>"
      ],
      "text/plain": [
       "<Metabolite 34hpp_c at 0x7ff4a1f2f6d0>"
      ]
     },
     "execution_count": 2,
     "metadata": {},
     "output_type": "execute_result"
    }
   ],
   "source": [
    "model.metabolites.get_by_id('34hpp_c')\n",
    "#starting point\n",
    "#add 5 reactions: \n",
    "#homogentisate, \n",
    "#2-Methyl-6-phytylquinol, \n",
    "#2,3-Dimethyl-5-phytylquinol, \n",
    "#gamma-Tocopherol,\n",
    "#alpha-Tocopherol"
   ]
  },
  {
   "cell_type": "code",
   "execution_count": 4,
   "id": "abf17e1f-5314-4336-8cb1-0d94a2ec9f32",
   "metadata": {},
   "outputs": [],
   "source": [
    "# Reaction 1: 3-(4-Hydroxyphenyl)pyruvate + O2 O2 --> CO2 CO2 + Homogentisate\n",
    "new_reaction1 = Reaction('34HPPOR') # 4 Hydroxyphenylpyruvateoxygen oxidoreductase\n",
    "homogentisate = Metabolite(id='hgentis_c', compartment='c')\n",
    "new_reaction1.add_metabolites({model.metabolites.get_by_id('34hpp_c'): -1, # 3-(4-Hydroxyphenyl)pyruvate\n",
    "                               model.metabolites.o2_c: -1, #O2\n",
    "                               homogentisate: 1, # Homogentisate\n",
    "                               model.metabolites.co2_c: 1, # CO2\n",
    "                              })\n",
    "model.add_reactions([new_reaction1])"
   ]
  },
  {
   "cell_type": "code",
   "execution_count": 5,
   "id": "f134e94d-eb6c-4ae6-8945-f3fed923dc89",
   "metadata": {},
   "outputs": [],
   "source": [
    "# Reaction 2: h_c + hgentis_c + phdp_c ⇌ co2_c + ppi_c + 2m6phol_c\n",
    "new_reaction2 = Reaction('HGPHT') # Homogenitisate phytyltransferase\n",
    "methylphytylquinol = Metabolite(id='2m6phol_c', compartment='c')\n",
    "phytyldiphosphate = Metabolite(id='phdp_c', compartment='c') # Phytyl diphosphate\n",
    "new_reaction2.add_metabolites({model.metabolites.hgentis_c: -1, # Homogentisate\n",
    "                               model.metabolites.h_c: -1, # H+\n",
    "                               phytyldiphosphate: -1,\n",
    "                               methylphytylquinol: 1, # 2-Methyl-6-phytylquinol\n",
    "                               model.metabolites.ppi_c: 1, # diphosphate\n",
    "                               model.metabolites.co2_c: 1, # CO2\n",
    "                              })\n",
    "model.add_reactions([new_reaction2])"
   ]
  },
  {
   "cell_type": "code",
   "execution_count": 7,
   "id": "b8587ce9-0850-44c6-89f7-5a82f5d65cb1",
   "metadata": {},
   "outputs": [],
   "source": [
    "# Reaction 3: amet_c + 2m6phol_c ⇌ ahcys_c + h_c + 23dmphol_c\n",
    "new_reaction3 = Reaction('MPBQ') # 2-methyl-6-phytylbenzoquinone methyltransferase\n",
    "dimethylphytylquinol = Metabolite(id='23dmphol_c', compartment='c')\n",
    "new_reaction3.add_metabolites({model.metabolites.get_by_id('2m6phol_c'): -1, # 2-Methyl-6-phytylquinol\n",
    "                               model.metabolites.amet_c: -1, # S-Adenosyl-L-methionine\n",
    "                               dimethylphytylquinol: 1, # 2,3-Dimethyl-5-phytylquinol\n",
    "                               model.metabolites.ahcys_c: 1, # S-Adenosyl-L-homocysteine\n",
    "                               model.metabolites.h_c: 1, # H+\n",
    "                              })\n",
    "model.add_reactions([new_reaction3])"
   ]
  },
  {
   "cell_type": "code",
   "execution_count": 8,
   "id": "6e4a9b37-4ac4-4ffe-a965-84f7bb267f72",
   "metadata": {},
   "outputs": [],
   "source": [
    "# Reaction 4: 23dmphol_c ⇌ gtocophe_c\n",
    "new_reaction4 = Reaction('TOCOPHS1') # Tocopherol cyclase (g)\n",
    "gammatocopherol = Metabolite(id='gtocophe_c', compartment='c')\n",
    "new_reaction4.add_metabolites({model.metabolites.get_by_id('23dmphol_c'): -1, # 2,3-Dimethyl-5-phytylquinol\n",
    "                               gammatocopherol: 1, # Gamma-Tocopherol\n",
    "                              })\n",
    "model.add_reactions([new_reaction4])"
   ]
  },
  {
   "cell_type": "code",
   "execution_count": 9,
   "id": "87ef358d-7728-4139-bdc9-fc9f8828501f",
   "metadata": {},
   "outputs": [],
   "source": [
    "# Reaction 5: amet_c + gtocophe_c ⇌ ahcys_c + h_c + avite1_c\n",
    "new_reaction5 = Reaction('TOCOPHOM1') # Tocopherol O-methyltransferase\n",
    "alphatocopherol = Metabolite(id='avite1_c', compartment='c')\n",
    "new_reaction5.add_metabolites({model.metabolites.gtocophe_c: -1, # Gamma-Tocopherol\n",
    "                               model.metabolites.amet_c: -1, # S-Adenosyl-L-methionine\n",
    "                               alphatocopherol: 1, # Alpha-Tocopherol\n",
    "                               model.metabolites.ahcys_c: 1, # S-Adenosyl-L-homocysteine\n",
    "                               model.metabolites.h_c: 1, # H+\n",
    "                              })\n",
    "model.add_reactions([new_reaction5])"
   ]
  },
  {
   "cell_type": "code",
   "execution_count": 18,
   "id": "6db24b3b-f54d-41a5-9cdf-b6dde6607687",
   "metadata": {},
   "outputs": [],
   "source": [
    "# Co-factor production\n",
    "# Reaction 6: frdp_c + ipdp_c ⇌ ggdp_c + h_c + ppi_c\n",
    "new_reaction6 = Reaction('GGPS') # Geranylgeranyl diphosphate synthase\n",
    "geranylgeranyldiphosphate = Metabolite(id='ggdp_c', compartment='c')\n",
    "new_reaction6.add_metabolites({model.metabolites.frdp_c: -1, # Farnesyl diphosphate\n",
    "                               model.metabolites.ipdp_c: -1, # Isopentenyl diphosphat\n",
    "                               geranylgeranyldiphosphate: 1, # Geranylgeranyl diphosphate\n",
    "                               model.metabolites.ppi_c: 1, # diphosphate\n",
    "                               model.metabolites.h_c: 1, # H+\n",
    "                              })\n",
    "model.add_reactions([new_reaction6])"
   ]
  },
  {
   "cell_type": "code",
   "execution_count": 22,
   "id": "6321865e-f53e-4057-a283-e1921c587a00",
   "metadata": {},
   "outputs": [],
   "source": [
    "# Co-factor production\n",
    "# Reaction 7: ggdp_c + 3.0 h_c + 3.0 nadph_c ⇌ 3.0 nadp_c + phdp_c\n",
    "new_reaction7 = Reaction('GGDR') # Geranylgeranyl diphosphate reductase\n",
    "new_reaction7.add_metabolites({model.metabolites.ggdp_c: -1, # Geranylgeranyl diphosphate\n",
    "                               model.metabolites.h_c: -3, # H+\n",
    "                               model.metabolites.nadph_c: -3, # NADPH\n",
    "                               model.metabolites.nadp_c: 3, # NADP\n",
    "                               model.metabolites.phdp_c: 1, # # Phytyl diphosphate\n",
    "                              })\n",
    "model.add_reactions([new_reaction7])"
   ]
  },
  {
   "cell_type": "code",
   "execution_count": 23,
   "id": "70622b53-9625-4db3-8f60-9ce1e303cc09",
   "metadata": {},
   "outputs": [],
   "source": [
    "#production of vitamin E (avite1_c)\n",
    "model.add_boundary(model.metabolites.avite1_c, type='demand')\n",
    "\n",
    "with model:\n",
    "    model.objective = model.reactions.TOCOPHOM1\n",
    "    lets_produce_avite1 = model.optimize().objective_value"
   ]
  },
  {
   "cell_type": "code",
   "execution_count": 24,
   "id": "696efa5c-b80f-4f38-b214-39e871274a5f",
   "metadata": {},
   "outputs": [
    {
     "data": {
      "text/plain": [
       "1.222850031113874"
      ]
     },
     "execution_count": 24,
     "metadata": {},
     "output_type": "execute_result"
    }
   ],
   "source": [
    "#production rate of vitamin E\n",
    "lets_produce_avite1"
   ]
  },
  {
   "cell_type": "code",
   "execution_count": null,
   "id": "2e31aa78-9a4d-4424-a12c-b3e7ab59cb98",
   "metadata": {},
   "outputs": [],
   "source": []
  }
 ],
 "metadata": {
  "kernelspec": {
   "display_name": "Python 3",
   "language": "python",
   "name": "python3"
  },
  "language_info": {
   "codemirror_mode": {
    "name": "ipython",
    "version": 3
   },
   "file_extension": ".py",
   "mimetype": "text/x-python",
   "name": "python",
   "nbconvert_exporter": "python",
   "pygments_lexer": "ipython3",
   "version": "3.8.8"
  }
 },
 "nbformat": 4,
 "nbformat_minor": 5
}

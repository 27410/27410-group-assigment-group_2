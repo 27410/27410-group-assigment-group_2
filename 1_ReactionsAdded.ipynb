{
 "cells": [
  {
   "cell_type": "code",
   "execution_count": 1,
   "id": "039ce3fc-ea3f-4000-9f6c-2fcce5289c94",
   "metadata": {},
   "outputs": [],
   "source": [
    "from cobra.io import read_sbml_model\n",
    "from cobra import Reaction, Metabolite\n",
    "\n",
    "# Read model (model of Escherichia coli)\n",
    "model = read_sbml_model('iML1515.xml')"
   ]
  },
  {
   "cell_type": "code",
   "execution_count": 31,
   "id": "9b5da3cd-f32e-418c-9a24-819b4468fbe0",
   "metadata": {},
   "outputs": [
    {
     "data": {
      "text/html": [
       "<h3>Objective</h3><p>1.0 BIOMASS_Ec_iML1515_core_75p37M = 0.8769972144269651</p><h4>Uptake</h4><table border=\"1\" class=\"dataframe\">\n",
       "  <thead>\n",
       "    <tr style=\"text-align: right;\">\n",
       "      <th>Metabolite</th>\n",
       "      <th>Reaction</th>\n",
       "      <th>Flux</th>\n",
       "      <th>C-Number</th>\n",
       "      <th>C-Flux</th>\n",
       "    </tr>\n",
       "  </thead>\n",
       "  <tbody>\n",
       "    <tr>\n",
       "      <td>ca2_e</td>\n",
       "      <td>EX_ca2_e</td>\n",
       "      <td>0.004565</td>\n",
       "      <td>0</td>\n",
       "      <td>0.00%</td>\n",
       "    </tr>\n",
       "    <tr>\n",
       "      <td>cl_e</td>\n",
       "      <td>EX_cl_e</td>\n",
       "      <td>0.004565</td>\n",
       "      <td>0</td>\n",
       "      <td>0.00%</td>\n",
       "    </tr>\n",
       "    <tr>\n",
       "      <td>cobalt2_e</td>\n",
       "      <td>EX_cobalt2_e</td>\n",
       "      <td>2.192E-05</td>\n",
       "      <td>0</td>\n",
       "      <td>0.00%</td>\n",
       "    </tr>\n",
       "    <tr>\n",
       "      <td>cu2_e</td>\n",
       "      <td>EX_cu2_e</td>\n",
       "      <td>0.0006218</td>\n",
       "      <td>0</td>\n",
       "      <td>0.00%</td>\n",
       "    </tr>\n",
       "    <tr>\n",
       "      <td>fe2_e</td>\n",
       "      <td>EX_fe2_e</td>\n",
       "      <td>0.01409</td>\n",
       "      <td>0</td>\n",
       "      <td>0.00%</td>\n",
       "    </tr>\n",
       "    <tr>\n",
       "      <td>glc__D_e</td>\n",
       "      <td>EX_glc__D_e</td>\n",
       "      <td>10</td>\n",
       "      <td>6</td>\n",
       "      <td>100.00%</td>\n",
       "    </tr>\n",
       "    <tr>\n",
       "      <td>k_e</td>\n",
       "      <td>EX_k_e</td>\n",
       "      <td>0.1712</td>\n",
       "      <td>0</td>\n",
       "      <td>0.00%</td>\n",
       "    </tr>\n",
       "    <tr>\n",
       "      <td>mg2_e</td>\n",
       "      <td>EX_mg2_e</td>\n",
       "      <td>0.007608</td>\n",
       "      <td>0</td>\n",
       "      <td>0.00%</td>\n",
       "    </tr>\n",
       "    <tr>\n",
       "      <td>mn2_e</td>\n",
       "      <td>EX_mn2_e</td>\n",
       "      <td>0.000606</td>\n",
       "      <td>0</td>\n",
       "      <td>0.00%</td>\n",
       "    </tr>\n",
       "    <tr>\n",
       "      <td>mobd_e</td>\n",
       "      <td>EX_mobd_e</td>\n",
       "      <td>6.139E-06</td>\n",
       "      <td>0</td>\n",
       "      <td>0.00%</td>\n",
       "    </tr>\n",
       "    <tr>\n",
       "      <td>nh4_e</td>\n",
       "      <td>EX_nh4_e</td>\n",
       "      <td>9.471</td>\n",
       "      <td>0</td>\n",
       "      <td>0.00%</td>\n",
       "    </tr>\n",
       "    <tr>\n",
       "      <td>ni2_e</td>\n",
       "      <td>EX_ni2_e</td>\n",
       "      <td>0.0002833</td>\n",
       "      <td>0</td>\n",
       "      <td>0.00%</td>\n",
       "    </tr>\n",
       "    <tr>\n",
       "      <td>o2_e</td>\n",
       "      <td>EX_o2_e</td>\n",
       "      <td>22.13</td>\n",
       "      <td>0</td>\n",
       "      <td>0.00%</td>\n",
       "    </tr>\n",
       "    <tr>\n",
       "      <td>pi_e</td>\n",
       "      <td>EX_pi_e</td>\n",
       "      <td>0.846</td>\n",
       "      <td>0</td>\n",
       "      <td>0.00%</td>\n",
       "    </tr>\n",
       "    <tr>\n",
       "      <td>so4_e</td>\n",
       "      <td>EX_so4_e</td>\n",
       "      <td>0.2208</td>\n",
       "      <td>0</td>\n",
       "      <td>0.00%</td>\n",
       "    </tr>\n",
       "    <tr>\n",
       "      <td>zn2_e</td>\n",
       "      <td>EX_zn2_e</td>\n",
       "      <td>0.0002991</td>\n",
       "      <td>0</td>\n",
       "      <td>0.00%</td>\n",
       "    </tr>\n",
       "  </tbody>\n",
       "</table><h4>Secretion</h4><table border=\"1\" class=\"dataframe\">\n",
       "  <thead>\n",
       "    <tr style=\"text-align: right;\">\n",
       "      <th>Metabolite</th>\n",
       "      <th>Reaction</th>\n",
       "      <th>Flux</th>\n",
       "      <th>C-Number</th>\n",
       "      <th>C-Flux</th>\n",
       "    </tr>\n",
       "  </thead>\n",
       "  <tbody>\n",
       "    <tr>\n",
       "      <td>4crsol_c</td>\n",
       "      <td>DM_4crsol_c</td>\n",
       "      <td>-0.0001956</td>\n",
       "      <td>7</td>\n",
       "      <td>0.01%</td>\n",
       "    </tr>\n",
       "    <tr>\n",
       "      <td>5drib_c</td>\n",
       "      <td>DM_5drib_c</td>\n",
       "      <td>-0.0001973</td>\n",
       "      <td>5</td>\n",
       "      <td>0.00%</td>\n",
       "    </tr>\n",
       "    <tr>\n",
       "      <td>amob_c</td>\n",
       "      <td>DM_amob_c</td>\n",
       "      <td>-1.754E-06</td>\n",
       "      <td>15</td>\n",
       "      <td>0.00%</td>\n",
       "    </tr>\n",
       "    <tr>\n",
       "      <td>co2_e</td>\n",
       "      <td>EX_co2_e</td>\n",
       "      <td>-24</td>\n",
       "      <td>1</td>\n",
       "      <td>99.99%</td>\n",
       "    </tr>\n",
       "    <tr>\n",
       "      <td>h2o_e</td>\n",
       "      <td>EX_h2o_e</td>\n",
       "      <td>-47.16</td>\n",
       "      <td>0</td>\n",
       "      <td>0.00%</td>\n",
       "    </tr>\n",
       "    <tr>\n",
       "      <td>h_e</td>\n",
       "      <td>EX_h_e</td>\n",
       "      <td>-8.058</td>\n",
       "      <td>0</td>\n",
       "      <td>0.00%</td>\n",
       "    </tr>\n",
       "    <tr>\n",
       "      <td>meoh_e</td>\n",
       "      <td>EX_meoh_e</td>\n",
       "      <td>-1.754E-06</td>\n",
       "      <td>1</td>\n",
       "      <td>0.00%</td>\n",
       "    </tr>\n",
       "  </tbody>\n",
       "</table>"
      ],
      "text/plain": [
       "<cobra.summary.model_summary.ModelSummary at 0x7fc4b9c2a700>"
      ]
     },
     "execution_count": 31,
     "metadata": {},
     "output_type": "execute_result"
    }
   ],
   "source": [
    "model.summary()"
   ]
  },
  {
   "cell_type": "code",
   "execution_count": 6,
   "id": "f53a8958-5ea3-4cec-9320-d0eee1352258",
   "metadata": {},
   "outputs": [
    {
     "data": {
      "text/html": [
       "\n",
       "        <table>\n",
       "            <tr>\n",
       "                <td><strong>Metabolite identifier</strong></td><td>34hpp_c</td>\n",
       "            </tr><tr>\n",
       "                <td><strong>Name</strong></td><td>3-(4-Hydroxyphenyl)pyruvate</td>\n",
       "            </tr><tr>\n",
       "                <td><strong>Memory address</strong></td>\n",
       "                <td>0x7fb2d720c760</td>\n",
       "            </tr><tr>\n",
       "                <td><strong>Formula</strong></td><td>C9H7O4</td>\n",
       "            </tr><tr>\n",
       "                <td><strong>Compartment</strong></td><td>c</td>\n",
       "            </tr><tr>\n",
       "                <td><strong>In 2 reaction(s)</strong></td><td>\n",
       "                    PPND, TYRTA\n",
       "                    </td>\n",
       "            </tr>\n",
       "        </table>"
      ],
      "text/plain": [
       "<Metabolite 34hpp_c at 0x7fb2d720c760>"
      ]
     },
     "execution_count": 6,
     "metadata": {},
     "output_type": "execute_result"
    }
   ],
   "source": [
    "model.metabolites.get_by_id('34hpp_c')\n",
    "#starting point\n",
    "#add 5 reactions: \n",
    "#homogentisate, \n",
    "#2-Methyl-6-phytylquinol, \n",
    "#2,3-Dimethyl-5-phytylquinol, \n",
    "#gamma-Tocopherol,\n",
    "#alpha-Tocopherol"
   ]
  },
  {
   "cell_type": "code",
   "execution_count": 7,
   "id": "abf17e1f-5314-4336-8cb1-0d94a2ec9f32",
   "metadata": {},
   "outputs": [],
   "source": [
    "# Reaction 1: 3-(4-Hydroxyphenyl)pyruvate + O2 O2 --> CO2 CO2 + Homogentisate\n",
    "new_reaction1 = Reaction('34HPPOR') # 4 Hydroxyphenylpyruvateoxygen oxidoreductase\n",
    "homogentisate = Metabolite(id='hgentis_c', compartment='c')\n",
    "new_reaction1.add_metabolites({model.metabolites.get_by_id('34hpp_c'): -1, # 3-(4-Hydroxyphenyl)pyruvate\n",
    "                               model.metabolites.o2_c: -1, #O2\n",
    "                               homogentisate: 1, # Homogentisate\n",
    "                               model.metabolites.co2_c: 1, # CO2\n",
    "                              })\n",
    "model.add_reactions([new_reaction1])"
   ]
  },
  {
   "cell_type": "code",
   "execution_count": 8,
   "id": "f134e94d-eb6c-4ae6-8945-f3fed923dc89",
   "metadata": {},
   "outputs": [],
   "source": [
    "# Reaction 2: h_c + hgentis_c + phdp_c ⇌ co2_c + ppi_c + 2m6phol_c\n",
    "new_reaction2 = Reaction('HGPHT') # Homogenitisate phytyltransferase\n",
    "methylphytylquinol = Metabolite(id='2m6phol_c', compartment='c')\n",
    "phytyldiphosphate = Metabolite(id='phdp_c', compartment='c') # Phytyl diphosphate\n",
    "new_reaction2.add_metabolites({model.metabolites.hgentis_c: -1, # Homogentisate\n",
    "                               model.metabolites.h_c: -1, # H+\n",
    "                               phytyldiphosphate: -1,\n",
    "                               methylphytylquinol: 1, # 2-Methyl-6-phytylquinol\n",
    "                               model.metabolites.ppi_c: 1, # diphosphate\n",
    "                               model.metabolites.co2_c: 1, # CO2\n",
    "                              })\n",
    "model.add_reactions([new_reaction2])"
   ]
  },
  {
   "cell_type": "code",
   "execution_count": 9,
   "id": "b8587ce9-0850-44c6-89f7-5a82f5d65cb1",
   "metadata": {},
   "outputs": [],
   "source": [
    "# Reaction 3: amet_c + 2m6phol_c ⇌ ahcys_c + h_c + 23dmphol_c\n",
    "new_reaction3 = Reaction('MPBQ') # 2-methyl-6-phytylbenzoquinone methyltransferase\n",
    "dimethylphytylquinol = Metabolite(id='23dmphol_c', compartment='c')\n",
    "new_reaction3.add_metabolites({model.metabolites.get_by_id('2m6phol_c'): -1, # 2-Methyl-6-phytylquinol\n",
    "                               model.metabolites.amet_c: -1, # S-Adenosyl-L-methionine\n",
    "                               dimethylphytylquinol: 1, # 2,3-Dimethyl-5-phytylquinol\n",
    "                               model.metabolites.ahcys_c: 1, # S-Adenosyl-L-homocysteine\n",
    "                               model.metabolites.h_c: 1, # H+\n",
    "                              })\n",
    "model.add_reactions([new_reaction3])"
   ]
  },
  {
   "cell_type": "code",
   "execution_count": 10,
   "id": "6e4a9b37-4ac4-4ffe-a965-84f7bb267f72",
   "metadata": {},
   "outputs": [],
   "source": [
    "# Reaction 4: 23dmphol_c ⇌ gtocophe_c\n",
    "new_reaction4 = Reaction('TOCOPHS1') # Tocopherol cyclase (g)\n",
    "gammatocopherol = Metabolite(id='gtocophe_c', compartment='c')\n",
    "new_reaction4.add_metabolites({model.metabolites.get_by_id('23dmphol_c'): -1, # 2,3-Dimethyl-5-phytylquinol\n",
    "                               gammatocopherol: 1, # Gamma-Tocopherol\n",
    "                              })\n",
    "model.add_reactions([new_reaction4])"
   ]
  },
  {
   "cell_type": "code",
   "execution_count": 11,
   "id": "87ef358d-7728-4139-bdc9-fc9f8828501f",
   "metadata": {},
   "outputs": [],
   "source": [
    "# Reaction 5: amet_c + gtocophe_c ⇌ ahcys_c + h_c + avite1_c\n",
    "new_reaction5 = Reaction('TOCOPHOM1') # Tocopherol O-methyltransferase\n",
    "alphatocopherol = Metabolite(id='avite1_c', compartment='c')\n",
    "new_reaction5.add_metabolites({model.metabolites.gtocophe_c: -1, # Gamma-Tocopherol\n",
    "                               model.metabolites.amet_c: -1, # S-Adenosyl-L-methionine\n",
    "                               alphatocopherol: 1, # Alpha-Tocopherol\n",
    "                               model.metabolites.ahcys_c: 1, # S-Adenosyl-L-homocysteine\n",
    "                               model.metabolites.h_c: 1, # H+\n",
    "                              })\n",
    "model.add_reactions([new_reaction5])"
   ]
  },
  {
   "cell_type": "code",
   "execution_count": 12,
   "id": "6db24b3b-f54d-41a5-9cdf-b6dde6607687",
   "metadata": {},
   "outputs": [],
   "source": [
    "# Co-factor production\n",
    "# Reaction 6: frdp_c + ipdp_c ⇌ ggdp_c + h_c + ppi_c\n",
    "new_reaction6 = Reaction('GGPS') # Geranylgeranyl diphosphate synthase\n",
    "geranylgeranyldiphosphate = Metabolite(id='ggdp_c', compartment='c')\n",
    "new_reaction6.add_metabolites({model.metabolites.frdp_c: -1, # Farnesyl diphosphate\n",
    "                               model.metabolites.ipdp_c: -1, # Isopentenyl diphosphat\n",
    "                               geranylgeranyldiphosphate: 1, # Geranylgeranyl diphosphate\n",
    "                               model.metabolites.ppi_c: 1, # diphosphate\n",
    "                               model.metabolites.h_c: 1, # H+\n",
    "                              })\n",
    "model.add_reactions([new_reaction6])"
   ]
  },
  {
   "cell_type": "code",
   "execution_count": 13,
   "id": "6321865e-f53e-4057-a283-e1921c587a00",
   "metadata": {},
   "outputs": [],
   "source": [
    "# Co-factor production\n",
    "# Reaction 7: ggdp_c + 3.0 h_c + 3.0 nadph_c ⇌ 3.0 nadp_c + phdp_c\n",
    "new_reaction7 = Reaction('GGDR') # Geranylgeranyl diphosphate reductase\n",
    "new_reaction7.add_metabolites({model.metabolites.ggdp_c: -1, # Geranylgeranyl diphosphate\n",
    "                               model.metabolites.h_c: -3, # H+\n",
    "                               model.metabolites.nadph_c: -3, # NADPH\n",
    "                               model.metabolites.nadp_c: 3, # NADP\n",
    "                               model.metabolites.phdp_c: 1, # # Phytyl diphosphate\n",
    "                              })\n",
    "model.add_reactions([new_reaction7])"
   ]
  },
  {
   "cell_type": "code",
   "execution_count": 14,
   "id": "70622b53-9625-4db3-8f60-9ce1e303cc09",
   "metadata": {},
   "outputs": [],
   "source": [
    "#production of vitamin E (avite1_c)\n",
    "model.add_boundary(model.metabolites.avite1_c, type='demand')\n",
    "\n",
    "with model:\n",
    "    model.objective = model.reactions.TOCOPHOM1\n",
    "    lets_produce_avite1 = model.optimize().objective_value"
   ]
  },
  {
   "cell_type": "code",
   "execution_count": 17,
   "id": "696efa5c-b80f-4f38-b214-39e871274a5f",
   "metadata": {},
   "outputs": [
    {
     "data": {
      "text/plain": [
       "1.222850031113874"
      ]
     },
     "execution_count": 17,
     "metadata": {},
     "output_type": "execute_result"
    }
   ],
   "source": [
    "#production rate of vitamin E µmax\n",
    "lets_produce_avite1"
   ]
  },
  {
   "cell_type": "code",
   "execution_count": 30,
   "id": "cc0a95b5-5b9c-4b4e-9403-a054fc4ac31f",
   "metadata": {},
   "outputs": [],
   "source": [
    "from cobra.io import write_sbml_model\n",
    "write_sbml_model(model,\"model_atocopherol.xml\")"
   ]
  },
  {
   "cell_type": "markdown",
   "id": "bb0620a3-dbf6-4e4c-aaa2-2f68f0626181",
   "metadata": {},
   "source": [
    "# Alternative Pathway via delta-tocopherol"
   ]
  },
  {
   "cell_type": "code",
   "execution_count": 2,
   "id": "b013c916-d4ef-4a28-a6d3-7dca6891b5e2",
   "metadata": {},
   "outputs": [],
   "source": [
    "new_model = read_sbml_model('iML1515.xml')"
   ]
  },
  {
   "cell_type": "code",
   "execution_count": 3,
   "id": "65a50c82-b7b2-4112-956c-0dd680d46d58",
   "metadata": {},
   "outputs": [],
   "source": [
    "# Reaction 1: 3-(4-Hydroxyphenyl)pyruvate + O2 O2 --> CO2 CO2 + Homogentisate\n",
    "new_reaction1 = Reaction('34HPPOR') # 4 Hydroxyphenylpyruvateoxygen oxidoreductase\n",
    "homogentisate = Metabolite(id='hgentis_c', compartment='c')\n",
    "new_reaction1.add_metabolites({new_model.metabolites.get_by_id('34hpp_c'): -1, # 3-(4-Hydroxyphenyl)pyruvate\n",
    "                               new_model.metabolites.o2_c: -1, #O2\n",
    "                               homogentisate: 1, # Homogentisate\n",
    "                               new_model.metabolites.co2_c: 1, # CO2\n",
    "                              })\n",
    "new_model.add_reactions([new_reaction1])"
   ]
  },
  {
   "cell_type": "code",
   "execution_count": 4,
   "id": "f58e33ab-fe55-4573-893b-db1918d7d0f7",
   "metadata": {},
   "outputs": [],
   "source": [
    "# Reaction 2: h_c + hgentis_c + phdp_c ⇌ co2_c + ppi_c + 2m6phol_c\n",
    "new_reaction2 = Reaction('HGPHT') # Homogenitisate phytyltransferase\n",
    "methylphytylquinol = Metabolite(id='2m6phol_c', compartment='c')\n",
    "phytyldiphosphate = Metabolite(id='phdp_c', compartment='c') # Phytyl diphosphate\n",
    "new_reaction2.add_metabolites({new_model.metabolites.hgentis_c: -1, # Homogentisate\n",
    "                               new_model.metabolites.h_c: -1, # H+\n",
    "                               phytyldiphosphate: -1,\n",
    "                               methylphytylquinol: 1, # 2-Methyl-6-phytylquinol\n",
    "                               new_model.metabolites.ppi_c: 1, # diphosphate\n",
    "                               new_model.metabolites.co2_c: 1, # CO2\n",
    "                              })\n",
    "new_model.add_reactions([new_reaction2])"
   ]
  },
  {
   "cell_type": "code",
   "execution_count": 5,
   "id": "c183d95d-41eb-46b1-b9cd-1db94cc6efbc",
   "metadata": {},
   "outputs": [],
   "source": [
    "# Reaction 3: 2m6phol_c ⇌ dtocophe_c\n",
    "new_reaction3 = Reaction('TCYD') # Tocopherol cyclase (delta)\n",
    "deltatocopherol = Metabolite(id='dtocophe_c', compartment='c') # delta-tocopherol\n",
    "new_reaction3.add_metabolites({new_model.metabolites.get_by_id('2m6phol_c'): -1, #  2-Methyl-6-phytylquinol\n",
    "                               deltatocopherol: 1, # delta-tocopherol\n",
    "                              })\n",
    "new_model.add_reactions([new_reaction3])"
   ]
  },
  {
   "cell_type": "code",
   "execution_count": 6,
   "id": "fc2ea83d-ea33-4604-a90e-f1bbd348afec",
   "metadata": {},
   "outputs": [],
   "source": [
    "# Reaction 4: amet_c + dtocophe_c ⇌ ahcys_c + h_c + bvite_c\n",
    "new_reaction4 = Reaction('TOCOPHOM2') # Tocopherol O-methyltransferase(2)\n",
    "betatocopherol = Metabolite(id='bvite_c', compartment='c') # beta-tocopherol\n",
    "new_reaction4.add_metabolites({new_model.metabolites.dtocophe_c: -1, # delta-Tocopherol\n",
    "                               new_model.metabolites.amet_c: -1, # S-Adenosyl-L-methionine\n",
    "                               betatocopherol: 1, # beta-Tocopherol\n",
    "                               new_model.metabolites.ahcys_c: 1, # S-Adenosyl-L-homocysteine\n",
    "                               new_model.metabolites.h_c: 1, # H+\n",
    "                               })\n",
    "new_model.add_reactions([new_reaction4])"
   ]
  },
  {
   "cell_type": "code",
   "execution_count": 7,
   "id": "d6812c04-5ba7-454e-bac4-8f76ec38df93",
   "metadata": {},
   "outputs": [],
   "source": [
    "# Reaction 5: bvite_c ⇌ avite1_c\n",
    "new_reaction5 = Reaction('R07508') #\n",
    "alphatocopherol = Metabolite(id='avite1_c', compartment='c') # alpha-tocopherol\n",
    "new_reaction5.add_metabolites({new_model.metabolites.bvite_c: -1, #  beta-tocopherol\n",
    "                               alphatocopherol: 1, # alpha-tocopherol\n",
    "                              })\n",
    "new_model.add_reactions([new_reaction5])"
   ]
  },
  {
   "cell_type": "code",
   "execution_count": 8,
   "id": "f43b7d45-579a-42d6-8a44-c5900d3259da",
   "metadata": {},
   "outputs": [],
   "source": [
    "# Co-factor production\n",
    "# Reaction 6: frdp_c + ipdp_c ⇌ ggdp_c + h_c + ppi_c\n",
    "new_reaction6 = Reaction('GGPS') # Geranylgeranyl diphosphate synthase\n",
    "geranylgeranyldiphosphate = Metabolite(id='ggdp_c', compartment='c')\n",
    "new_reaction6.add_metabolites({new_model.metabolites.frdp_c: -1, # Farnesyl diphosphate\n",
    "                               new_model.metabolites.ipdp_c: -1, # Isopentenyl diphosphat\n",
    "                               geranylgeranyldiphosphate: 1, # Geranylgeranyl diphosphate\n",
    "                               new_model.metabolites.ppi_c: 1, # diphosphate\n",
    "                               new_model.metabolites.h_c: 1, # H+\n",
    "                              })\n",
    "new_model.add_reactions([new_reaction6])"
   ]
  },
  {
   "cell_type": "code",
   "execution_count": 9,
   "id": "c514f32d-6d59-46ba-8d19-836203f704b4",
   "metadata": {},
   "outputs": [],
   "source": [
    "# Co-factor production\n",
    "# Reaction 7: ggdp_c + 3.0 h_c + 3.0 nadph_c ⇌ 3.0 nadp_c + phdp_c\n",
    "new_reaction7 = Reaction('GGDR') # Geranylgeranyl diphosphate reductase\n",
    "new_reaction7.add_metabolites({new_model.metabolites.ggdp_c: -1, # Geranylgeranyl diphosphate\n",
    "                               new_model.metabolites.h_c: -3, # H+\n",
    "                               new_model.metabolites.nadph_c: -3, # NADPH\n",
    "                               new_model.metabolites.nadp_c: 3, # NADP\n",
    "                               new_model.metabolites.phdp_c: 1, # # Phytyl diphosphate\n",
    "                              })\n",
    "new_model.add_reactions([new_reaction7])"
   ]
  },
  {
   "cell_type": "code",
   "execution_count": 10,
   "id": "973c00a9-3d4c-42ca-8c49-1596d7dce840",
   "metadata": {},
   "outputs": [],
   "source": [
    "#production of vitamin E (avite1_c)\n",
    "new_model.add_boundary(new_model.metabolites.avite1_c, type='demand')\n",
    "\n",
    "with new_model:\n",
    "    new_model.objective = new_model.reactions.R07508\n",
    "    lets_produce_avite1 = new_model.optimize().objective_value"
   ]
  },
  {
   "cell_type": "code",
   "execution_count": 11,
   "id": "6065f44a-dd73-484a-b984-4cd27f617809",
   "metadata": {},
   "outputs": [
    {
     "data": {
      "text/plain": [
       "1.2966809633784173"
      ]
     },
     "execution_count": 11,
     "metadata": {},
     "output_type": "execute_result"
    }
   ],
   "source": [
    "lets_produce_avite1"
   ]
  },
  {
   "cell_type": "markdown",
   "id": "b0eb6e18-67d7-4261-a7de-b4e8ec7fe5ab",
   "metadata": {},
   "source": [
    "The production rate of alpha-tocopherol in the second pathway is slightly higher than in the first pathway. The number of added reactions is the same for both pathways (5 reactions + 2 reactions for co-factor production).\n",
    "However, the enzyme that catalyzes the reaction of beta-tocopherol to alpha-tocopherol is not yet characterized so the addition of this step is only theoretical."
   ]
  },
  {
   "cell_type": "code",
   "execution_count": null,
   "id": "59e5d9e4-baaa-4640-a7eb-65254f3a2d1e",
   "metadata": {},
   "outputs": [],
   "source": []
  },
  {
   "cell_type": "code",
   "execution_count": null,
   "id": "5a3b473b-208f-4b3d-aef1-adbf19a15004",
   "metadata": {},
   "outputs": [],
   "source": []
  }
 ],
 "metadata": {
  "kernelspec": {
   "display_name": "Python 3",
   "language": "python",
   "name": "python3"
  },
  "language_info": {
   "codemirror_mode": {
    "name": "ipython",
    "version": 3
   },
   "file_extension": ".py",
   "mimetype": "text/x-python",
   "name": "python",
   "nbconvert_exporter": "python",
   "pygments_lexer": "ipython3",
   "version": "3.8.8"
  }
 },
 "nbformat": 4,
 "nbformat_minor": 5
}
